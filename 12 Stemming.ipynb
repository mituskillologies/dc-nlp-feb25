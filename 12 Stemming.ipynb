{
 "cells": [
  {
   "cell_type": "markdown",
   "id": "9b23f5bc-b2d4-43a8-9193-37eae2b0b6df",
   "metadata": {},
   "source": [
    "##### Porter Stemmer"
   ]
  },
  {
   "cell_type": "code",
   "execution_count": 2,
   "id": "b878ebc8-07bb-4380-a297-c6e4148bcef6",
   "metadata": {},
   "outputs": [],
   "source": [
    "words1 = 'catches','caught','catching','catch'\n",
    "words2 = 'association','associations','associated'\n",
    "words3 = 'big','bigger','biggest'\n",
    "words4 = 'working','worked','works','workable'"
   ]
  },
  {
   "cell_type": "code",
   "execution_count": 3,
   "id": "b93c1793-2daf-4036-a4fd-87de51a1705b",
   "metadata": {},
   "outputs": [],
   "source": [
    "from nltk.stem import PorterStemmer"
   ]
  },
  {
   "cell_type": "code",
   "execution_count": 4,
   "id": "a8de2d5b-cc01-46a0-9203-e561d5632a85",
   "metadata": {},
   "outputs": [],
   "source": [
    "ps = PorterStemmer()"
   ]
  },
  {
   "cell_type": "code",
   "execution_count": 5,
   "id": "c54ccaad-93cf-46ec-a100-609d33c74f09",
   "metadata": {},
   "outputs": [
    {
     "data": {
      "text/plain": [
       "'run'"
      ]
     },
     "execution_count": 5,
     "metadata": {},
     "output_type": "execute_result"
    }
   ],
   "source": [
    "ps.stem('running')"
   ]
  },
  {
   "cell_type": "code",
   "execution_count": 6,
   "id": "9e491fce-e674-413c-9140-f54f1a122be5",
   "metadata": {},
   "outputs": [
    {
     "data": {
      "text/plain": [
       "'work'"
      ]
     },
     "execution_count": 6,
     "metadata": {},
     "output_type": "execute_result"
    }
   ],
   "source": [
    "ps.stem(words4[0])"
   ]
  },
  {
   "cell_type": "code",
   "execution_count": 11,
   "id": "e2738c4c-6e78-410e-b9ed-c21e4b5fae1b",
   "metadata": {},
   "outputs": [
    {
     "name": "stdout",
     "output_type": "stream",
     "text": [
      "catches -->  catch\n",
      "caught -->  caught\n",
      "catching -->  catch\n",
      "catch -->  catch\n"
     ]
    }
   ],
   "source": [
    "for word in words1:\n",
    "    print(word, '--> ', ps.stem(word))"
   ]
  },
  {
   "cell_type": "code",
   "execution_count": 12,
   "id": "03e06423-8b2c-445e-8d11-d533999d6bdf",
   "metadata": {},
   "outputs": [
    {
     "data": {
      "text/plain": [
       "'love'"
      ]
     },
     "execution_count": 12,
     "metadata": {},
     "output_type": "execute_result"
    }
   ],
   "source": [
    "ps.stem('loving')"
   ]
  },
  {
   "cell_type": "code",
   "execution_count": 13,
   "id": "28b82f59-72fa-4d53-8c3d-afcfffcaadf3",
   "metadata": {},
   "outputs": [
    {
     "name": "stdout",
     "output_type": "stream",
     "text": [
      "association -->  associ\n",
      "associations -->  associ\n",
      "associated -->  associ\n"
     ]
    }
   ],
   "source": [
    "for word in words2:\n",
    "    print(word, '--> ', ps.stem(word))"
   ]
  },
  {
   "cell_type": "code",
   "execution_count": 14,
   "id": "ba5719e8-5ce7-4c52-9e58-430062149ba9",
   "metadata": {},
   "outputs": [
    {
     "data": {
      "text/plain": [
       "'recal'"
      ]
     },
     "execution_count": 14,
     "metadata": {},
     "output_type": "execute_result"
    }
   ],
   "source": [
    "ps.stem('recall')"
   ]
  },
  {
   "cell_type": "code",
   "execution_count": 15,
   "id": "e936e608-39ca-48b3-a123-3c3f7e8eddef",
   "metadata": {},
   "outputs": [
    {
     "name": "stdout",
     "output_type": "stream",
     "text": [
      "big -->  big\n",
      "bigger -->  bigger\n",
      "biggest -->  biggest\n"
     ]
    }
   ],
   "source": [
    "for word in words3:\n",
    "    print(word, '--> ', ps.stem(word))"
   ]
  },
  {
   "cell_type": "markdown",
   "id": "2869bf98-8e2a-422a-a259-8221695e42b1",
   "metadata": {},
   "source": [
    "##### Lancaster Stemmer"
   ]
  },
  {
   "cell_type": "code",
   "execution_count": 17,
   "id": "af5b2e44-49ee-4eb5-8ab7-f8a4ceb3ce22",
   "metadata": {},
   "outputs": [],
   "source": [
    "from nltk.stem import LancasterStemmer"
   ]
  },
  {
   "cell_type": "code",
   "execution_count": 18,
   "id": "109932ab-cb44-4d53-856d-242f801a354a",
   "metadata": {},
   "outputs": [],
   "source": [
    "ls = LancasterStemmer()"
   ]
  },
  {
   "cell_type": "code",
   "execution_count": 19,
   "id": "dd47b793-c94d-46b0-a581-37229b66d03c",
   "metadata": {},
   "outputs": [
    {
     "name": "stdout",
     "output_type": "stream",
     "text": [
      "catches -->  catch\n",
      "caught -->  caught\n",
      "catching -->  catch\n",
      "catch -->  catch\n"
     ]
    }
   ],
   "source": [
    "for word in words1:\n",
    "    print(word, '--> ', ls.stem(word))"
   ]
  },
  {
   "cell_type": "code",
   "execution_count": 20,
   "id": "deda99b2-bfc5-46be-992a-e8149f5cea52",
   "metadata": {},
   "outputs": [
    {
     "name": "stdout",
     "output_type": "stream",
     "text": [
      "association -->  assocy\n",
      "associations -->  assocy\n",
      "associated -->  assocy\n"
     ]
    }
   ],
   "source": [
    "for word in words2:\n",
    "    print(word, '--> ', ls.stem(word))"
   ]
  },
  {
   "cell_type": "code",
   "execution_count": 21,
   "id": "a86de821-83fc-4736-98b9-16c8ef089034",
   "metadata": {},
   "outputs": [
    {
     "name": "stdout",
     "output_type": "stream",
     "text": [
      "big -->  big\n",
      "bigger -->  big\n",
      "biggest -->  biggest\n"
     ]
    }
   ],
   "source": [
    "for word in words3:\n",
    "    print(word, '--> ', ls.stem(word))"
   ]
  },
  {
   "cell_type": "code",
   "execution_count": null,
   "id": "87447332-40b2-46bb-b0a5-4b4e16a63a27",
   "metadata": {},
   "outputs": [],
   "source": []
  }
 ],
 "metadata": {
  "kernelspec": {
   "display_name": "Python 3 (ipykernel)",
   "language": "python",
   "name": "python3"
  },
  "language_info": {
   "codemirror_mode": {
    "name": "ipython",
    "version": 3
   },
   "file_extension": ".py",
   "mimetype": "text/x-python",
   "name": "python",
   "nbconvert_exporter": "python",
   "pygments_lexer": "ipython3",
   "version": "3.10.12"
  }
 },
 "nbformat": 4,
 "nbformat_minor": 5
}
