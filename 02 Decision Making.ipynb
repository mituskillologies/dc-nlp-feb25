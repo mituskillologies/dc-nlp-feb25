{
 "cells": [
  {
   "cell_type": "markdown",
   "id": "7172e71b-3abe-4655-8d01-83f6ce02dc91",
   "metadata": {},
   "source": [
    "##### Simple if-statement"
   ]
  },
  {
   "cell_type": "code",
   "execution_count": 3,
   "id": "f9c7d39f-c2f6-4bfd-9630-75b784ae083f",
   "metadata": {},
   "outputs": [
    {
     "name": "stdin",
     "output_type": "stream",
     "text": [
      "Enter the number:  -78\n"
     ]
    }
   ],
   "source": [
    "num = int(input('Enter the number: '))\n",
    "if num > 0:\n",
    "    print('It is positive.')"
   ]
  },
  {
   "cell_type": "markdown",
   "id": "37ffcab6-2fa5-4ded-97c8-99da5bf7c6b3",
   "metadata": {},
   "source": [
    "##### if-else statement"
   ]
  },
  {
   "cell_type": "code",
   "execution_count": 7,
   "id": "087e1170-ddc2-4e22-8a08-7379730b5327",
   "metadata": {},
   "outputs": [
    {
     "name": "stdin",
     "output_type": "stream",
     "text": [
      "Enter the number:  56\n"
     ]
    },
    {
     "name": "stdout",
     "output_type": "stream",
     "text": [
      "It is positive.\n"
     ]
    }
   ],
   "source": [
    "num = int(input('Enter the number: '))\n",
    "if num > 0:\n",
    "    print('It is positive.')\n",
    "else:\n",
    "    print('It is negative.')"
   ]
  },
  {
   "cell_type": "code",
   "execution_count": 8,
   "id": "4fc0d7c8-40e5-44ea-94d8-732e54142ef9",
   "metadata": {},
   "outputs": [
    {
     "name": "stdin",
     "output_type": "stream",
     "text": [
      "Enter the number:  -45\n"
     ]
    },
    {
     "name": "stdout",
     "output_type": "stream",
     "text": [
      "It is negative.\n",
      "Done!\n"
     ]
    }
   ],
   "source": [
    "num = int(input('Enter the number: '))\n",
    "if num > 0:\n",
    "    print('It is positive.')\n",
    "    print('Welcome!')\n",
    "else:\n",
    "    print('It is negative.')\n",
    "    print('Done!')"
   ]
  },
  {
   "cell_type": "code",
   "execution_count": 9,
   "id": "0f88a0d7-bbde-4776-9394-3e474bdc0316",
   "metadata": {},
   "outputs": [],
   "source": [
    "# Write a program to find entered number is odd / even"
   ]
  },
  {
   "cell_type": "code",
   "execution_count": 11,
   "id": "0c3785f5-19ee-4bb9-a897-871377b8d801",
   "metadata": {},
   "outputs": [
    {
     "name": "stdin",
     "output_type": "stream",
     "text": [
      "Enter the number:  90\n"
     ]
    },
    {
     "name": "stdout",
     "output_type": "stream",
     "text": [
      "It is even\n"
     ]
    }
   ],
   "source": [
    "num = int(input('Enter the number: '))\n",
    "if num % 2 == 0:\n",
    "    print('It is even')\n",
    "else:\n",
    "    print('It is odd')"
   ]
  },
  {
   "cell_type": "code",
   "execution_count": 12,
   "id": "452ba292-5e5e-4cb9-912e-27f8b2386879",
   "metadata": {},
   "outputs": [
    {
     "name": "stdin",
     "output_type": "stream",
     "text": [
      "Enter the number:  0\n"
     ]
    },
    {
     "name": "stdout",
     "output_type": "stream",
     "text": [
      "It is negative.\n"
     ]
    }
   ],
   "source": [
    "num = int(input('Enter the number: '))\n",
    "if num > 0:\n",
    "    print('It is positive.')\n",
    "else:\n",
    "    print('It is negative.')"
   ]
  },
  {
   "cell_type": "code",
   "execution_count": 15,
   "id": "74f39665-0af6-429e-b5db-f8c366f2306f",
   "metadata": {},
   "outputs": [
    {
     "name": "stdin",
     "output_type": "stream",
     "text": [
      "Enter the number:  3\n"
     ]
    },
    {
     "name": "stdout",
     "output_type": "stream",
     "text": [
      "It is positive.\n"
     ]
    }
   ],
   "source": [
    "num = int(input('Enter the number: '))\n",
    "if num > 0:                    # Compulsory, condition, non-repeatable\n",
    "    print('It is positive.')\n",
    "elif num == 0:                 # Optional, condition, repeatable\n",
    "    print('It is ZERO.')\n",
    "else:                          # Optional, no-condition, non-repeatable\n",
    "    print('It is negative.')"
   ]
  },
  {
   "cell_type": "code",
   "execution_count": 16,
   "id": "1ad70e43-3101-4c3b-a36f-97d41bd9d73b",
   "metadata": {},
   "outputs": [
    {
     "name": "stdin",
     "output_type": "stream",
     "text": [
      "Enter the number:  12\n"
     ]
    },
    {
     "name": "stdout",
     "output_type": "stream",
     "text": [
      "It is positive.\n"
     ]
    }
   ],
   "source": [
    "num = int(input('Enter the number: '))\n",
    "if num > 0:\n",
    "    print('It is positive.')\n",
    "else:\n",
    "    print('It is negative.')"
   ]
  },
  {
   "cell_type": "markdown",
   "id": "2864a4fa-d863-4234-a14a-77757924c89e",
   "metadata": {},
   "source": [
    "##### Repeatable elif"
   ]
  },
  {
   "cell_type": "code",
   "execution_count": 25,
   "id": "b2039958-987b-49a1-bd21-6d93b9f0f79f",
   "metadata": {},
   "outputs": [
    {
     "name": "stdin",
     "output_type": "stream",
     "text": [
      "Enter the marks:  58\n"
     ]
    },
    {
     "name": "stdout",
     "output_type": "stream",
     "text": [
      "Second Class\n"
     ]
    }
   ],
   "source": [
    "marks = float(input('Enter the marks: '))\n",
    "if marks >= 75:\n",
    "    print('First Class with Distinction.')\n",
    "elif marks >= 60:\n",
    "    print('First class')\n",
    "elif marks >= 50:\n",
    "    print('Second Class')\n",
    "elif marks >= 40:\n",
    "    print('Pass Class')\n",
    "else:\n",
    "    print('Failed')"
   ]
  },
  {
   "cell_type": "code",
   "execution_count": 27,
   "id": "c74b2496-28dc-4b3b-9b5e-18ba92665705",
   "metadata": {},
   "outputs": [
    {
     "name": "stdin",
     "output_type": "stream",
     "text": [
      "Enter the marks:  57\n"
     ]
    },
    {
     "name": "stdout",
     "output_type": "stream",
     "text": [
      "Second Class\n"
     ]
    }
   ],
   "source": [
    "marks = float(input('Enter the marks: '))\n",
    "if marks < 40:\n",
    "    print('Failed')\n",
    "elif marks < 50:\n",
    "    print('Pass class')\n",
    "elif marks < 60:\n",
    "    print('Second Class')\n",
    "elif marks < 75:\n",
    "    print('First Class')\n",
    "else:\n",
    "    print('Distinction')"
   ]
  },
  {
   "cell_type": "code",
   "execution_count": null,
   "id": "722abe39-ab66-4045-a77d-3f38a55d98c6",
   "metadata": {},
   "outputs": [],
   "source": []
  }
 ],
 "metadata": {
  "kernelspec": {
   "display_name": "Python 3 (ipykernel)",
   "language": "python",
   "name": "python3"
  },
  "language_info": {
   "codemirror_mode": {
    "name": "ipython",
    "version": 3
   },
   "file_extension": ".py",
   "mimetype": "text/x-python",
   "name": "python",
   "nbconvert_exporter": "python",
   "pygments_lexer": "ipython3",
   "version": "3.10.12"
  }
 },
 "nbformat": 4,
 "nbformat_minor": 5
}
