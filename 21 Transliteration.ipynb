{
 "cells": [
  {
   "cell_type": "code",
   "execution_count": 1,
   "id": "ef625950-fb41-4758-9d05-09fd6792d4f0",
   "metadata": {},
   "outputs": [
    {
     "name": "stdout",
     "output_type": "stream",
     "text": [
      "Defaulting to user installation because normal site-packages is not writeable\n",
      "Requirement already satisfied: indic_transliteration in /home/mitu/.local/lib/python3.10/site-packages (2.3.59)\n",
      "Requirement already satisfied: backports.functools-lru-cache in /home/mitu/.local/lib/python3.10/site-packages (from indic_transliteration) (2.0.0)\n",
      "Requirement already satisfied: regex in /home/mitu/.local/lib/python3.10/site-packages (from indic_transliteration) (2023.12.25)\n",
      "Requirement already satisfied: typer in /home/mitu/.local/lib/python3.10/site-packages (from indic_transliteration) (0.9.4)\n",
      "Requirement already satisfied: toml in /home/mitu/.local/lib/python3.10/site-packages (from indic_transliteration) (0.10.2)\n",
      "Requirement already satisfied: roman in /home/mitu/.local/lib/python3.10/site-packages (from indic_transliteration) (4.1)\n",
      "Requirement already satisfied: click<9.0.0,>=7.1.1 in /home/mitu/.local/lib/python3.10/site-packages (from typer->indic_transliteration) (8.1.7)\n",
      "Requirement already satisfied: typing-extensions>=3.7.4.3 in /home/mitu/.local/lib/python3.10/site-packages (from typer->indic_transliteration) (4.12.2)\n",
      "Note: you may need to restart the kernel to use updated packages.\n"
     ]
    }
   ],
   "source": [
    "pip install indic_transliteration"
   ]
  },
  {
   "cell_type": "code",
   "execution_count": 2,
   "id": "cc488f1a-3d50-47f8-acd6-0c97db94b10d",
   "metadata": {},
   "outputs": [],
   "source": [
    "from indic_transliteration import sanscript\n",
    "from indic_transliteration.sanscript import transliterate"
   ]
  },
  {
   "cell_type": "code",
   "execution_count": 3,
   "id": "00158045-5a1e-42cc-b509-54a9091f5944",
   "metadata": {},
   "outputs": [],
   "source": [
    "data = 'tushar kute'"
   ]
  },
  {
   "cell_type": "code",
   "execution_count": 4,
   "id": "1a55870b-45e1-45dc-b83a-49cd321ea1a9",
   "metadata": {},
   "outputs": [
    {
     "data": {
      "text/plain": [
       "'तुशर् कुते'"
      ]
     },
     "execution_count": 4,
     "metadata": {},
     "output_type": "execute_result"
    }
   ],
   "source": [
    "transliterate(data, sanscript.ITRANS, sanscript.DEVANAGARI)"
   ]
  },
  {
   "cell_type": "code",
   "execution_count": 5,
   "id": "0873ff61-5bd4-40c9-979c-a4d750e32eb4",
   "metadata": {},
   "outputs": [],
   "source": [
    "data = 'tuShaara kuTe'"
   ]
  },
  {
   "cell_type": "code",
   "execution_count": 6,
   "id": "4a90d162-3a1b-43b4-a066-3bbd1ebc4459",
   "metadata": {},
   "outputs": [
    {
     "data": {
      "text/plain": [
       "'तुषार कुटे'"
      ]
     },
     "execution_count": 6,
     "metadata": {},
     "output_type": "execute_result"
    }
   ],
   "source": [
    "transliterate(data, sanscript.ITRANS, sanscript.DEVANAGARI)"
   ]
  },
  {
   "cell_type": "code",
   "execution_count": 7,
   "id": "23a99c02-9754-4957-a93a-f833c31cb108",
   "metadata": {},
   "outputs": [
    {
     "data": {
      "text/plain": [
       "'துஷார குடே'"
      ]
     },
     "execution_count": 7,
     "metadata": {},
     "output_type": "execute_result"
    }
   ],
   "source": [
    "transliterate(data, sanscript.ITRANS, sanscript.TAMIL)"
   ]
  },
  {
   "cell_type": "code",
   "execution_count": 8,
   "id": "5d2387b0-3d79-4deb-abba-63d11b3f4add",
   "metadata": {},
   "outputs": [
    {
     "data": {
      "text/plain": [
       "'તુષાર કુટે'"
      ]
     },
     "execution_count": 8,
     "metadata": {},
     "output_type": "execute_result"
    }
   ],
   "source": [
    "transliterate(data, sanscript.ITRANS, sanscript.GUJARATI)"
   ]
  },
  {
   "cell_type": "code",
   "execution_count": 10,
   "id": "7bd3cd51-b23a-4ec4-b45a-f006456eebcd",
   "metadata": {},
   "outputs": [
    {
     "data": {
      "text/plain": [
       "'ತುಷಾರ ಕುಟೇ'"
      ]
     },
     "execution_count": 10,
     "metadata": {},
     "output_type": "execute_result"
    }
   ],
   "source": [
    "transliterate(data, sanscript.ITRANS, sanscript.KANNADA)"
   ]
  },
  {
   "cell_type": "code",
   "execution_count": 11,
   "id": "7730a3c9-9e52-49fa-87a1-4bb23ebcc852",
   "metadata": {},
   "outputs": [],
   "source": [
    "text = transliterate(data, sanscript.ITRANS, sanscript.DEVANAGARI)"
   ]
  },
  {
   "cell_type": "code",
   "execution_count": 12,
   "id": "164806a8-02ab-40b3-ac6d-17a3a33b5674",
   "metadata": {},
   "outputs": [
    {
     "name": "stdout",
     "output_type": "stream",
     "text": [
      "तुषार कुटे\n"
     ]
    }
   ],
   "source": [
    "print(text)"
   ]
  },
  {
   "cell_type": "code",
   "execution_count": null,
   "id": "e5dcce50-c601-4952-8b18-78f22dd4dd19",
   "metadata": {},
   "outputs": [],
   "source": []
  }
 ],
 "metadata": {
  "kernelspec": {
   "display_name": "Python 3 (ipykernel)",
   "language": "python",
   "name": "python3"
  },
  "language_info": {
   "codemirror_mode": {
    "name": "ipython",
    "version": 3
   },
   "file_extension": ".py",
   "mimetype": "text/x-python",
   "name": "python",
   "nbconvert_exporter": "python",
   "pygments_lexer": "ipython3",
   "version": "3.10.12"
  }
 },
 "nbformat": 4,
 "nbformat_minor": 5
}
