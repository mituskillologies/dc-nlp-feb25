{
 "cells": [
  {
   "cell_type": "code",
   "execution_count": 2,
   "id": "3a3b3545-40a5-4aa8-8fcb-809e4427eb9b",
   "metadata": {},
   "outputs": [],
   "source": [
    "import cv2"
   ]
  },
  {
   "cell_type": "code",
   "execution_count": 6,
   "id": "0de2b0aa-b346-48be-9fa8-b077346fbb39",
   "metadata": {},
   "outputs": [],
   "source": [
    "cap = cv2.VideoCapture(0)"
   ]
  },
  {
   "cell_type": "code",
   "execution_count": 7,
   "id": "fa43876d-7920-4478-953a-fbec4052638c",
   "metadata": {},
   "outputs": [],
   "source": [
    "_, img = cap.read()\n",
    "cap.release()"
   ]
  },
  {
   "cell_type": "code",
   "execution_count": 8,
   "id": "d9aa2831-3d44-4bfe-a038-126c21ee0943",
   "metadata": {},
   "outputs": [],
   "source": [
    "cv2.imshow(' ',img)\n",
    "cv2.waitKey(0)\n",
    "cv2.destroyAllWindows()"
   ]
  },
  {
   "cell_type": "code",
   "execution_count": 16,
   "id": "d00ed3c2-26f8-4ebf-a705-ca0957b4df22",
   "metadata": {},
   "outputs": [],
   "source": [
    "img"
   ]
  },
  {
   "cell_type": "code",
   "execution_count": null,
   "id": "a299563d-e905-40d7-8a25-c396d38dd6b1",
   "metadata": {},
   "outputs": [],
   "source": []
  }
 ],
 "metadata": {
  "kernelspec": {
   "display_name": "Python 3 (ipykernel)",
   "language": "python",
   "name": "python3"
  },
  "language_info": {
   "codemirror_mode": {
    "name": "ipython",
    "version": 3
   },
   "file_extension": ".py",
   "mimetype": "text/x-python",
   "name": "python",
   "nbconvert_exporter": "python",
   "pygments_lexer": "ipython3",
   "version": "3.10.12"
  }
 },
 "nbformat": 4,
 "nbformat_minor": 5
}
