{
 "cells": [
  {
   "cell_type": "code",
   "execution_count": 3,
   "id": "e71eeb2c-b13f-4210-ade3-4f2138f35d5a",
   "metadata": {},
   "outputs": [
    {
     "data": {
      "text/plain": [
       "list"
      ]
     },
     "execution_count": 3,
     "metadata": {},
     "output_type": "execute_result"
    }
   ],
   "source": [
    "num = [12, 13, 45, 78, 40]\n",
    "type(num)"
   ]
  },
  {
   "cell_type": "code",
   "execution_count": 5,
   "id": "132784f7-8d40-4e12-be2c-feaf1a0a1a20",
   "metadata": {},
   "outputs": [
    {
     "data": {
      "text/plain": [
       "tuple"
      ]
     },
     "execution_count": 5,
     "metadata": {},
     "output_type": "execute_result"
    }
   ],
   "source": [
    "num1 = (10, 30, 50, 33)\n",
    "type(num1)"
   ]
  },
  {
   "cell_type": "code",
   "execution_count": 7,
   "id": "5fdcfcab-ab15-4d87-8c78-a3ec940e5119",
   "metadata": {},
   "outputs": [
    {
     "data": {
      "text/plain": [
       "set"
      ]
     },
     "execution_count": 7,
     "metadata": {},
     "output_type": "execute_result"
    }
   ],
   "source": [
    "set1 = {12, 45, 11, 14}\n",
    "type(set1)"
   ]
  },
  {
   "cell_type": "code",
   "execution_count": 9,
   "id": "39b2f4d6-f397-425d-a6bd-54c5623db639",
   "metadata": {},
   "outputs": [
    {
     "data": {
      "text/plain": [
       "dict"
      ]
     },
     "execution_count": 9,
     "metadata": {},
     "output_type": "execute_result"
    }
   ],
   "source": [
    "num2 = {53:12, 43: 23, 64: 11}\n",
    "type(num2)"
   ]
  },
  {
   "cell_type": "markdown",
   "id": "3c372fcb-3508-4e64-a70f-8ee240f0b9a0",
   "metadata": {},
   "source": [
    "### List"
   ]
  },
  {
   "cell_type": "code",
   "execution_count": null,
   "id": "bad7e07b-2403-4cb0-b332-8b97f340ace9",
   "metadata": {},
   "outputs": [],
   "source": [
    "# properties =>\n",
    "# 1. hetero\n",
    "# 2. ordered\n",
    "# 3. mutable"
   ]
  },
  {
   "cell_type": "code",
   "execution_count": 12,
   "id": "0d4bcd55-ea2d-4748-bc52-a37299c9d959",
   "metadata": {},
   "outputs": [],
   "source": [
    "num = [12, 34, 45, 11, 78, 40]"
   ]
  },
  {
   "cell_type": "code",
   "execution_count": 14,
   "id": "008b94dd-783e-47b4-aa77-6cc1748bd915",
   "metadata": {},
   "outputs": [],
   "source": [
    "fruits = ['apple', 'banana', 'orange', 'pineapple']"
   ]
  },
  {
   "cell_type": "code",
   "execution_count": 16,
   "id": "183bd4b9-c436-43a9-849b-abced3527400",
   "metadata": {},
   "outputs": [],
   "source": [
    "mixed = ['apple', 33, 34.78, True, 'banana']"
   ]
  },
  {
   "cell_type": "code",
   "execution_count": 18,
   "id": "3b5c1fdd-779b-4aa6-94f8-8e1e78c435c2",
   "metadata": {},
   "outputs": [
    {
     "data": {
      "text/plain": [
       "[12, 34, 45, 11, 78, 40]"
      ]
     },
     "execution_count": 18,
     "metadata": {},
     "output_type": "execute_result"
    }
   ],
   "source": [
    "num"
   ]
  },
  {
   "cell_type": "code",
   "execution_count": 22,
   "id": "d001aa51-81ee-46d4-92cc-c42094b8b1e1",
   "metadata": {},
   "outputs": [
    {
     "data": {
      "text/plain": [
       "45"
      ]
     },
     "execution_count": 22,
     "metadata": {},
     "output_type": "execute_result"
    }
   ],
   "source": [
    "# accessing a single element\n",
    "num[2]"
   ]
  },
  {
   "cell_type": "code",
   "execution_count": 24,
   "id": "d94d8926-1554-41bb-9076-2b03bd2d06de",
   "metadata": {},
   "outputs": [
    {
     "data": {
      "text/plain": [
       "'orange'"
      ]
     },
     "execution_count": 24,
     "metadata": {},
     "output_type": "execute_result"
    }
   ],
   "source": [
    "fruits[2]"
   ]
  },
  {
   "cell_type": "code",
   "execution_count": 26,
   "id": "9f4135fe-f26f-4e30-9c8e-8d35333ee58c",
   "metadata": {},
   "outputs": [
    {
     "data": {
      "text/plain": [
       "45"
      ]
     },
     "execution_count": 26,
     "metadata": {},
     "output_type": "execute_result"
    }
   ],
   "source": [
    "# negative indexing\n",
    "num[-4]"
   ]
  },
  {
   "cell_type": "code",
   "execution_count": 28,
   "id": "c646b938-db55-474e-92aa-8301264a5cfc",
   "metadata": {},
   "outputs": [
    {
     "data": {
      "text/plain": [
       "450"
      ]
     },
     "execution_count": 28,
     "metadata": {},
     "output_type": "execute_result"
    }
   ],
   "source": [
    "num[-4] * 10"
   ]
  },
  {
   "cell_type": "code",
   "execution_count": 32,
   "id": "c32afcdf-a5a6-427c-a936-57eafb0a26d6",
   "metadata": {},
   "outputs": [
    {
     "data": {
      "text/plain": [
       "'bananabananabanana'"
      ]
     },
     "execution_count": 32,
     "metadata": {},
     "output_type": "execute_result"
    }
   ],
   "source": [
    "fruits[1] * 3"
   ]
  },
  {
   "cell_type": "code",
   "execution_count": 34,
   "id": "7383135c-b33c-490d-9efc-a51c5fab6120",
   "metadata": {},
   "outputs": [
    {
     "data": {
      "text/plain": [
       "[12, 34, 45, 11, 78, 40]"
      ]
     },
     "execution_count": 34,
     "metadata": {},
     "output_type": "execute_result"
    }
   ],
   "source": [
    "num"
   ]
  },
  {
   "cell_type": "code",
   "execution_count": 36,
   "id": "1a1d6c72-c250-4372-bce5-94637f34d914",
   "metadata": {},
   "outputs": [
    {
     "data": {
      "text/plain": [
       "[34, 45, 11]"
      ]
     },
     "execution_count": 36,
     "metadata": {},
     "output_type": "execute_result"
    }
   ],
   "source": [
    "# slicing\n",
    "num[1:4]"
   ]
  },
  {
   "cell_type": "code",
   "execution_count": 40,
   "id": "ba47e3a8-4210-4239-8fc0-75ccef3fdd3e",
   "metadata": {},
   "outputs": [
    {
     "name": "stdout",
     "output_type": "stream",
     "text": [
      "[34, 45, 11]\n"
     ]
    }
   ],
   "source": [
    "x = num[1:4]\n",
    "print(x)"
   ]
  },
  {
   "cell_type": "code",
   "execution_count": 42,
   "id": "74f11d1e-0fd9-41d9-8472-9a1bc4969b5a",
   "metadata": {},
   "outputs": [
    {
     "data": {
      "text/plain": [
       "[12, 34, 45, 11, 78, 40]"
      ]
     },
     "execution_count": 42,
     "metadata": {},
     "output_type": "execute_result"
    }
   ],
   "source": [
    "num"
   ]
  },
  {
   "cell_type": "code",
   "execution_count": 44,
   "id": "629f2b47-77a1-49c3-acf7-21899a03a058",
   "metadata": {},
   "outputs": [
    {
     "data": {
      "text/plain": [
       "[12, 34, 45, 11]"
      ]
     },
     "execution_count": 44,
     "metadata": {},
     "output_type": "execute_result"
    }
   ],
   "source": [
    "num[:4]"
   ]
  },
  {
   "cell_type": "code",
   "execution_count": 46,
   "id": "4f509047-7188-49a1-a4e2-b483ac16c65e",
   "metadata": {},
   "outputs": [
    {
     "data": {
      "text/plain": [
       "[45, 11, 78, 40]"
      ]
     },
     "execution_count": 46,
     "metadata": {},
     "output_type": "execute_result"
    }
   ],
   "source": [
    "num[2:]"
   ]
  },
  {
   "cell_type": "code",
   "execution_count": 54,
   "id": "17bd67d4-2b38-46c2-a124-da75b07f05bd",
   "metadata": {},
   "outputs": [
    {
     "data": {
      "text/plain": [
       "[45, 11]"
      ]
     },
     "execution_count": 54,
     "metadata": {},
     "output_type": "execute_result"
    }
   ],
   "source": [
    "num[-4:-2]"
   ]
  },
  {
   "cell_type": "code",
   "execution_count": 56,
   "id": "c8309611-fe26-4ba0-b10b-f88cd013389d",
   "metadata": {},
   "outputs": [
    {
     "data": {
      "text/plain": [
       "[40, 78, 11, 45, 34, 12]"
      ]
     },
     "execution_count": 56,
     "metadata": {},
     "output_type": "execute_result"
    }
   ],
   "source": [
    "num[::-1]"
   ]
  },
  {
   "cell_type": "code",
   "execution_count": 58,
   "id": "35039198-044c-4eed-8b1f-d4959b41964e",
   "metadata": {},
   "outputs": [],
   "source": [
    "# in operator"
   ]
  },
  {
   "cell_type": "code",
   "execution_count": 60,
   "id": "676157b0-a7e1-4686-a0b2-8646bf0ecfb4",
   "metadata": {},
   "outputs": [
    {
     "data": {
      "text/plain": [
       "[12, 34, 45, 11, 78, 40]"
      ]
     },
     "execution_count": 60,
     "metadata": {},
     "output_type": "execute_result"
    }
   ],
   "source": [
    "num"
   ]
  },
  {
   "cell_type": "code",
   "execution_count": 62,
   "id": "c85ec029-e84f-46c6-87db-3513eaa12606",
   "metadata": {},
   "outputs": [
    {
     "data": {
      "text/plain": [
       "True"
      ]
     },
     "execution_count": 62,
     "metadata": {},
     "output_type": "execute_result"
    }
   ],
   "source": [
    "45 in num"
   ]
  },
  {
   "cell_type": "code",
   "execution_count": 64,
   "id": "cb7abfc5-e330-4637-97b4-ccef30c8e71a",
   "metadata": {},
   "outputs": [
    {
     "data": {
      "text/plain": [
       "False"
      ]
     },
     "execution_count": 64,
     "metadata": {},
     "output_type": "execute_result"
    }
   ],
   "source": [
    "100 in num"
   ]
  },
  {
   "cell_type": "code",
   "execution_count": 66,
   "id": "d80930f7-50ef-4604-8ddb-15c067c9f4e2",
   "metadata": {},
   "outputs": [],
   "source": [
    "l1 = [1, 2, 3]\n",
    "l2 = [1, 2, 3]"
   ]
  },
  {
   "cell_type": "code",
   "execution_count": 74,
   "id": "dc4a70a6-fbc0-47f9-820f-1cdb5092ba07",
   "metadata": {},
   "outputs": [
    {
     "name": "stdout",
     "output_type": "stream",
     "text": [
      "129142101728576\n",
      "129142101721536\n"
     ]
    }
   ],
   "source": [
    "print(id(l1))\n",
    "print(id(l2))"
   ]
  },
  {
   "cell_type": "code",
   "execution_count": 68,
   "id": "dd86304b-2117-4b19-82d5-7f671a4552e7",
   "metadata": {},
   "outputs": [
    {
     "data": {
      "text/plain": [
       "False"
      ]
     },
     "execution_count": 68,
     "metadata": {},
     "output_type": "execute_result"
    }
   ],
   "source": [
    "l1 is l2"
   ]
  },
  {
   "cell_type": "code",
   "execution_count": 70,
   "id": "f79abbad-b264-432b-860f-c47e1beb2567",
   "metadata": {},
   "outputs": [
    {
     "data": {
      "text/plain": [
       "True"
      ]
     },
     "execution_count": 70,
     "metadata": {},
     "output_type": "execute_result"
    }
   ],
   "source": [
    "a = 10\n",
    "b = 10\n",
    "a is b"
   ]
  },
  {
   "cell_type": "code",
   "execution_count": 76,
   "id": "ac7b75c5-4de3-4ee3-ae9e-b176ecae19c8",
   "metadata": {},
   "outputs": [
    {
     "name": "stdout",
     "output_type": "stream",
     "text": [
      "9772104\n",
      "9772104\n"
     ]
    }
   ],
   "source": [
    "print(id(a))\n",
    "print(id(b))"
   ]
  },
  {
   "cell_type": "code",
   "execution_count": 78,
   "id": "cede242e-ca92-4f39-bf6e-0c5433e0ba45",
   "metadata": {},
   "outputs": [
    {
     "data": {
      "text/plain": [
       "[12, 34, 45, 11, 78, 40]"
      ]
     },
     "execution_count": 78,
     "metadata": {},
     "output_type": "execute_result"
    }
   ],
   "source": [
    "num"
   ]
  },
  {
   "cell_type": "code",
   "execution_count": 80,
   "id": "67a6ce14-4819-48cd-a8cc-2eff821186a1",
   "metadata": {},
   "outputs": [],
   "source": [
    "num[2] = 100"
   ]
  },
  {
   "cell_type": "code",
   "execution_count": 82,
   "id": "befdfc90-c8c8-4382-92cb-cb7c7b77faff",
   "metadata": {},
   "outputs": [
    {
     "data": {
      "text/plain": [
       "[12, 34, 100, 11, 78, 40]"
      ]
     },
     "execution_count": 82,
     "metadata": {},
     "output_type": "execute_result"
    }
   ],
   "source": [
    "num"
   ]
  },
  {
   "cell_type": "code",
   "execution_count": 86,
   "id": "012f6beb-1f33-439a-8146-4e151d9100d3",
   "metadata": {},
   "outputs": [],
   "source": [
    "num[1:4] = [1000, 2000, 3000]"
   ]
  },
  {
   "cell_type": "code",
   "execution_count": 88,
   "id": "51502248-b86b-41ad-b2e9-04f07b1c9e71",
   "metadata": {},
   "outputs": [
    {
     "data": {
      "text/plain": [
       "[12, 1000, 2000, 3000, 78, 40]"
      ]
     },
     "execution_count": 88,
     "metadata": {},
     "output_type": "execute_result"
    }
   ],
   "source": [
    "num"
   ]
  },
  {
   "cell_type": "code",
   "execution_count": 90,
   "id": "5ede749f-ce32-4471-8c72-cbe29bdc24f6",
   "metadata": {},
   "outputs": [],
   "source": [
    "# arithmetic operators"
   ]
  },
  {
   "cell_type": "code",
   "execution_count": 92,
   "id": "8824700e-a3d3-4925-9c4e-e49eeb04fb85",
   "metadata": {},
   "outputs": [
    {
     "data": {
      "text/plain": [
       "[12, 1000, 2000, 3000, 78, 40]"
      ]
     },
     "execution_count": 92,
     "metadata": {},
     "output_type": "execute_result"
    }
   ],
   "source": [
    "num"
   ]
  },
  {
   "cell_type": "code",
   "execution_count": 94,
   "id": "79248868-878f-4b6a-809f-d81c2e392401",
   "metadata": {},
   "outputs": [
    {
     "data": {
      "text/plain": [
       "[12, 1000, 2000, 3000, 78, 40, 12, 1000, 2000, 3000, 78, 40]"
      ]
     },
     "execution_count": 94,
     "metadata": {},
     "output_type": "execute_result"
    }
   ],
   "source": [
    "num * 2"
   ]
  },
  {
   "cell_type": "code",
   "execution_count": 100,
   "id": "daef0ba7-3cbc-4097-9e14-e7c318deeeab",
   "metadata": {},
   "outputs": [],
   "source": [
    "num += [122, 133]"
   ]
  },
  {
   "cell_type": "code",
   "execution_count": 102,
   "id": "99bcabf7-9871-4125-a8ee-c55210069ecc",
   "metadata": {},
   "outputs": [
    {
     "data": {
      "text/plain": [
       "[12, 1000, 2000, 3000, 78, 40, 122, 133]"
      ]
     },
     "execution_count": 102,
     "metadata": {},
     "output_type": "execute_result"
    }
   ],
   "source": [
    "num"
   ]
  },
  {
   "cell_type": "code",
   "execution_count": 104,
   "id": "5a846db7-c2a5-4453-a690-ba06af956d4b",
   "metadata": {},
   "outputs": [],
   "source": [
    "# iteration"
   ]
  },
  {
   "cell_type": "code",
   "execution_count": 110,
   "id": "122bd913-a4d3-4012-a211-9376a65b3b39",
   "metadata": {},
   "outputs": [
    {
     "name": "stdout",
     "output_type": "stream",
     "text": [
      "144 1000000 4000000 9000000 6084 1600 14884 17689 "
     ]
    }
   ],
   "source": [
    "for i in num:\n",
    "    print(i * i, end = ' ')"
   ]
  },
  {
   "cell_type": "code",
   "execution_count": 112,
   "id": "83c12dd5-b7ad-4ded-b290-f56486a93cbf",
   "metadata": {},
   "outputs": [
    {
     "data": {
      "text/plain": [
       "['apple', 'banana', 'orange', 'pineapple']"
      ]
     },
     "execution_count": 112,
     "metadata": {},
     "output_type": "execute_result"
    }
   ],
   "source": [
    "fruits"
   ]
  },
  {
   "cell_type": "code",
   "execution_count": 116,
   "id": "4fe80037-7eca-4025-a713-7b5cbf68c4ac",
   "metadata": {},
   "outputs": [
    {
     "name": "stdout",
     "output_type": "stream",
     "text": [
      "apple orange pineapple "
     ]
    }
   ],
   "source": [
    "for i in fruits:\n",
    "    if i.endswith('e'):\n",
    "        print(i, end = ' ')"
   ]
  },
  {
   "cell_type": "code",
   "execution_count": 118,
   "id": "8e4f584b-5f83-477f-b2a1-f679750b14c4",
   "metadata": {},
   "outputs": [],
   "source": [
    "# list comprehension => map"
   ]
  },
  {
   "cell_type": "code",
   "execution_count": 120,
   "id": "984b4c95-9a1d-431f-ba45-89410ef232b2",
   "metadata": {},
   "outputs": [
    {
     "data": {
      "text/plain": [
       "[12, 1000, 2000, 3000, 78, 40, 122, 133]"
      ]
     },
     "execution_count": 120,
     "metadata": {},
     "output_type": "execute_result"
    }
   ],
   "source": [
    "num"
   ]
  },
  {
   "cell_type": "code",
   "execution_count": 122,
   "id": "a29a4300-2fb8-4833-ac19-6a8340d43e0f",
   "metadata": {},
   "outputs": [
    {
     "data": {
      "text/plain": [
       "[144, 1000000, 4000000, 9000000, 6084, 1600, 14884, 17689]"
      ]
     },
     "execution_count": 122,
     "metadata": {},
     "output_type": "execute_result"
    }
   ],
   "source": [
    "new = [i**2 for i in num]\n",
    "new"
   ]
  },
  {
   "cell_type": "code",
   "execution_count": 134,
   "id": "eb38e014-dc0e-4111-8eef-3887448efb38",
   "metadata": {},
   "outputs": [
    {
     "data": {
      "text/plain": [
       "[12, 1000, 2000, 3000, 78, 40, 122]"
      ]
     },
     "execution_count": 134,
     "metadata": {},
     "output_type": "execute_result"
    }
   ],
   "source": [
    "new1 = [i for i in num if i % 2 == 0]\n",
    "new1 # filter"
   ]
  },
  {
   "cell_type": "code",
   "execution_count": 136,
   "id": "48eff3a3-e338-4cf7-acdb-1dd06e00896c",
   "metadata": {},
   "outputs": [
    {
     "data": {
      "text/plain": [
       "['apple', 'orange', 'pineapple']"
      ]
     },
     "execution_count": 136,
     "metadata": {},
     "output_type": "execute_result"
    }
   ],
   "source": [
    "[i for i in fruits if i.endswith('e')]"
   ]
  },
  {
   "cell_type": "code",
   "execution_count": 138,
   "id": "918b8885-f90d-40a4-9e3b-105cc2be4a5b",
   "metadata": {},
   "outputs": [],
   "source": [
    "# delete an element"
   ]
  },
  {
   "cell_type": "code",
   "execution_count": 140,
   "id": "8ccf5665-3d86-4143-8717-fb72d0a877dd",
   "metadata": {},
   "outputs": [
    {
     "data": {
      "text/plain": [
       "[12, 1000, 2000, 3000, 78, 40, 122, 133]"
      ]
     },
     "execution_count": 140,
     "metadata": {},
     "output_type": "execute_result"
    }
   ],
   "source": [
    "num"
   ]
  },
  {
   "cell_type": "code",
   "execution_count": 142,
   "id": "854acd0e-2a79-4f6b-b100-600f61629a1d",
   "metadata": {},
   "outputs": [],
   "source": [
    "del num[2]"
   ]
  },
  {
   "cell_type": "code",
   "execution_count": 144,
   "id": "4930aeb0-ab79-4412-aabb-9913cfc36b95",
   "metadata": {},
   "outputs": [
    {
     "data": {
      "text/plain": [
       "[12, 1000, 3000, 78, 40, 122, 133]"
      ]
     },
     "execution_count": 144,
     "metadata": {},
     "output_type": "execute_result"
    }
   ],
   "source": [
    "num"
   ]
  },
  {
   "cell_type": "code",
   "execution_count": 146,
   "id": "73101b4d-d804-4567-a7d7-aa7f76af601e",
   "metadata": {},
   "outputs": [],
   "source": [
    "# empty list\n",
    "e = []"
   ]
  },
  {
   "cell_type": "code",
   "execution_count": 148,
   "id": "99ebcca5-24ef-497f-9b17-8008296e5fff",
   "metadata": {},
   "outputs": [
    {
     "data": {
      "text/plain": [
       "list"
      ]
     },
     "execution_count": 148,
     "metadata": {},
     "output_type": "execute_result"
    }
   ],
   "source": [
    "type(e)"
   ]
  },
  {
   "cell_type": "code",
   "execution_count": 150,
   "id": "35481978-7a6b-4f67-a6a4-0c018a4f1814",
   "metadata": {},
   "outputs": [
    {
     "ename": "IndexError",
     "evalue": "list index out of range",
     "output_type": "error",
     "traceback": [
      "\u001b[0;31m---------------------------------------------------------------------------\u001b[0m",
      "\u001b[0;31mIndexError\u001b[0m                                Traceback (most recent call last)",
      "Cell \u001b[0;32mIn[150], line 1\u001b[0m\n\u001b[0;32m----> 1\u001b[0m e[\u001b[38;5;241m0\u001b[39m]\n",
      "\u001b[0;31mIndexError\u001b[0m: list index out of range"
     ]
    }
   ],
   "source": [
    "e[0]"
   ]
  },
  {
   "cell_type": "code",
   "execution_count": 152,
   "id": "3d06b1c2-359c-4378-b8dd-540f217641a0",
   "metadata": {},
   "outputs": [],
   "source": [
    "# functions on a list"
   ]
  },
  {
   "cell_type": "code",
   "execution_count": 154,
   "id": "5e593667-4b97-4570-9c7e-5db9f221c1ba",
   "metadata": {},
   "outputs": [
    {
     "data": {
      "text/plain": [
       "[12, 1000, 3000, 78, 40, 122, 133]"
      ]
     },
     "execution_count": 154,
     "metadata": {},
     "output_type": "execute_result"
    }
   ],
   "source": [
    "num"
   ]
  },
  {
   "cell_type": "code",
   "execution_count": 156,
   "id": "4e5e955a-47a3-4391-bf7a-a73294726ea4",
   "metadata": {},
   "outputs": [
    {
     "data": {
      "text/plain": [
       "7"
      ]
     },
     "execution_count": 156,
     "metadata": {},
     "output_type": "execute_result"
    }
   ],
   "source": [
    "len(num)"
   ]
  },
  {
   "cell_type": "code",
   "execution_count": 158,
   "id": "e0b497a6-f56c-4fb2-b114-6372034c7527",
   "metadata": {},
   "outputs": [
    {
     "data": {
      "text/plain": [
       "3000"
      ]
     },
     "execution_count": 158,
     "metadata": {},
     "output_type": "execute_result"
    }
   ],
   "source": [
    "max(num)"
   ]
  },
  {
   "cell_type": "code",
   "execution_count": 160,
   "id": "45b79fca-9218-4364-8060-3f932a4da0fb",
   "metadata": {},
   "outputs": [
    {
     "data": {
      "text/plain": [
       "[12, 40, 78, 122, 133, 1000, 3000]"
      ]
     },
     "execution_count": 160,
     "metadata": {},
     "output_type": "execute_result"
    }
   ],
   "source": [
    "sorted(num)"
   ]
  },
  {
   "cell_type": "code",
   "execution_count": 162,
   "id": "ff3d0c07-34ff-40ff-9f73-481c5dbfc768",
   "metadata": {},
   "outputs": [
    {
     "data": {
      "text/plain": [
       "[3000, 1000, 133, 122, 78, 40, 12]"
      ]
     },
     "execution_count": 162,
     "metadata": {},
     "output_type": "execute_result"
    }
   ],
   "source": [
    "sorted(num, reverse= True)"
   ]
  },
  {
   "cell_type": "code",
   "execution_count": 164,
   "id": "82a6af9f-3486-42c3-9442-0a3ab352a849",
   "metadata": {},
   "outputs": [],
   "source": [
    "# methods on list"
   ]
  },
  {
   "cell_type": "code",
   "execution_count": 166,
   "id": "2f9d63fe-852d-447f-b54e-e3144b0fc04c",
   "metadata": {},
   "outputs": [
    {
     "data": {
      "text/plain": [
       "['apple', 'banana', 'orange', 'pineapple']"
      ]
     },
     "execution_count": 166,
     "metadata": {},
     "output_type": "execute_result"
    }
   ],
   "source": [
    "fruits"
   ]
  },
  {
   "cell_type": "code",
   "execution_count": 168,
   "id": "e424bd1d-29b2-4128-ad54-b5362dd4ea2c",
   "metadata": {},
   "outputs": [],
   "source": [
    "# adding an element at the end\n",
    "fruits.append('grape')"
   ]
  },
  {
   "cell_type": "code",
   "execution_count": 170,
   "id": "bb1b3a44-2972-44b9-99f8-ca8d5e5e9044",
   "metadata": {},
   "outputs": [
    {
     "data": {
      "text/plain": [
       "['apple', 'banana', 'orange', 'pineapple', 'grape']"
      ]
     },
     "execution_count": 170,
     "metadata": {},
     "output_type": "execute_result"
    }
   ],
   "source": [
    "fruits"
   ]
  },
  {
   "cell_type": "code",
   "execution_count": 180,
   "id": "d3eb445e-7acd-4a73-a6a3-d2042cf436ae",
   "metadata": {},
   "outputs": [],
   "source": [
    "fruits.insert(2, 'dragonfruit')"
   ]
  },
  {
   "cell_type": "code",
   "execution_count": 182,
   "id": "d20a1ec4-db7e-49de-a7ec-d1a173c9664c",
   "metadata": {},
   "outputs": [
    {
     "data": {
      "text/plain": [
       "['apple',\n",
       " 'banana',\n",
       " 'dragonfruit',\n",
       " 'dragonfruit',\n",
       " 'dragonfruit',\n",
       " 'orange',\n",
       " 'pineapple',\n",
       " 'grape']"
      ]
     },
     "execution_count": 182,
     "metadata": {},
     "output_type": "execute_result"
    }
   ],
   "source": [
    "fruits"
   ]
  },
  {
   "cell_type": "code",
   "execution_count": 184,
   "id": "a4b06b0f-5d09-494b-bc21-79fc5100e8bb",
   "metadata": {},
   "outputs": [],
   "source": [
    "del fruits[3:5]"
   ]
  },
  {
   "cell_type": "code",
   "execution_count": 186,
   "id": "4d76d571-c113-44cd-a71d-f8e9a7108193",
   "metadata": {},
   "outputs": [
    {
     "data": {
      "text/plain": [
       "['apple', 'banana', 'dragonfruit', 'orange', 'pineapple', 'grape']"
      ]
     },
     "execution_count": 186,
     "metadata": {},
     "output_type": "execute_result"
    }
   ],
   "source": [
    "fruits"
   ]
  },
  {
   "cell_type": "code",
   "execution_count": 188,
   "id": "77f5397f-8d18-419f-86b3-48b5b4959b7a",
   "metadata": {},
   "outputs": [
    {
     "data": {
      "text/plain": [
       "3"
      ]
     },
     "execution_count": 188,
     "metadata": {},
     "output_type": "execute_result"
    }
   ],
   "source": [
    "fruits.index('orange')"
   ]
  },
  {
   "cell_type": "code",
   "execution_count": 192,
   "id": "634cab50-3131-4dca-a7bf-daceece129f8",
   "metadata": {},
   "outputs": [
    {
     "data": {
      "text/plain": [
       "'grape'"
      ]
     },
     "execution_count": 192,
     "metadata": {},
     "output_type": "execute_result"
    }
   ],
   "source": [
    "# delete the last element\n",
    "fruits.pop()"
   ]
  },
  {
   "cell_type": "code",
   "execution_count": 194,
   "id": "f6654bb7-91a5-4ed6-9d60-65bae6ef853f",
   "metadata": {},
   "outputs": [
    {
     "data": {
      "text/plain": [
       "['apple', 'banana', 'dragonfruit', 'orange', 'pineapple']"
      ]
     },
     "execution_count": 194,
     "metadata": {},
     "output_type": "execute_result"
    }
   ],
   "source": [
    "fruits"
   ]
  },
  {
   "cell_type": "code",
   "execution_count": 203,
   "id": "73b82add-1706-4375-81fd-a3addd1567e2",
   "metadata": {},
   "outputs": [],
   "source": [
    "dir(fruits);"
   ]
  },
  {
   "cell_type": "markdown",
   "id": "81f2f4a0-d640-4b95-90d1-82783c22fe93",
   "metadata": {},
   "source": [
    "### Set"
   ]
  },
  {
   "cell_type": "code",
   "execution_count": 205,
   "id": "827fb641-ecea-4581-b62b-9de9a71b9b44",
   "metadata": {},
   "outputs": [],
   "source": [
    "# collection of unique"
   ]
  },
  {
   "cell_type": "code",
   "execution_count": 207,
   "id": "cbc3e1e1-5d36-4884-9258-5382558c7018",
   "metadata": {},
   "outputs": [],
   "source": [
    "s = {1, 2, 2, 3, 3, 5}"
   ]
  },
  {
   "cell_type": "code",
   "execution_count": 209,
   "id": "f786ee8e-b166-4b0d-ae4f-cc65c5d87801",
   "metadata": {},
   "outputs": [
    {
     "data": {
      "text/plain": [
       "set"
      ]
     },
     "execution_count": 209,
     "metadata": {},
     "output_type": "execute_result"
    }
   ],
   "source": [
    "type(s)"
   ]
  },
  {
   "cell_type": "code",
   "execution_count": 211,
   "id": "38d0f42e-a717-4529-aeef-f2af7b90f423",
   "metadata": {},
   "outputs": [
    {
     "data": {
      "text/plain": [
       "{1, 2, 3, 5}"
      ]
     },
     "execution_count": 211,
     "metadata": {},
     "output_type": "execute_result"
    }
   ],
   "source": [
    "s"
   ]
  },
  {
   "cell_type": "code",
   "execution_count": 213,
   "id": "b1f22808-0a1f-4c8c-a6a1-3fe20f512883",
   "metadata": {},
   "outputs": [],
   "source": [
    "s.add(10)"
   ]
  },
  {
   "cell_type": "code",
   "execution_count": 215,
   "id": "dafda0de-6886-4240-8165-e33a82d32b80",
   "metadata": {},
   "outputs": [
    {
     "data": {
      "text/plain": [
       "{1, 2, 3, 5, 10}"
      ]
     },
     "execution_count": 215,
     "metadata": {},
     "output_type": "execute_result"
    }
   ],
   "source": [
    "s"
   ]
  },
  {
   "cell_type": "code",
   "execution_count": 217,
   "id": "ed28cf65-2159-4ecf-873d-ded8969763f2",
   "metadata": {},
   "outputs": [
    {
     "ename": "TypeError",
     "evalue": "'set' object is not subscriptable",
     "output_type": "error",
     "traceback": [
      "\u001b[0;31m---------------------------------------------------------------------------\u001b[0m",
      "\u001b[0;31mTypeError\u001b[0m                                 Traceback (most recent call last)",
      "Cell \u001b[0;32mIn[217], line 1\u001b[0m\n\u001b[0;32m----> 1\u001b[0m s[\u001b[38;5;241m1\u001b[39m]\n",
      "\u001b[0;31mTypeError\u001b[0m: 'set' object is not subscriptable"
     ]
    }
   ],
   "source": [
    "s[1]"
   ]
  },
  {
   "cell_type": "markdown",
   "id": "d3928e79-d653-409d-9039-c844679d8d7d",
   "metadata": {},
   "source": [
    "### Tuple"
   ]
  },
  {
   "cell_type": "code",
   "execution_count": 220,
   "id": "9f9d06fe-4aab-4ee4-ae60-3421815dc82d",
   "metadata": {},
   "outputs": [
    {
     "data": {
      "text/plain": [
       "(1, 2, 5, 6, 2, 10)"
      ]
     },
     "execution_count": 220,
     "metadata": {},
     "output_type": "execute_result"
    }
   ],
   "source": [
    "t = (1, 2, 5, 6, 2, 10)\n",
    "t"
   ]
  },
  {
   "cell_type": "code",
   "execution_count": 224,
   "id": "3adccfe7-7264-46c0-b482-67849f31e581",
   "metadata": {},
   "outputs": [
    {
     "data": {
      "text/plain": [
       "tuple"
      ]
     },
     "execution_count": 224,
     "metadata": {},
     "output_type": "execute_result"
    }
   ],
   "source": [
    "type(t)"
   ]
  },
  {
   "cell_type": "code",
   "execution_count": 222,
   "id": "6163b520-8537-4421-9684-bf533a208821",
   "metadata": {},
   "outputs": [
    {
     "data": {
      "text/plain": [
       "5"
      ]
     },
     "execution_count": 222,
     "metadata": {},
     "output_type": "execute_result"
    }
   ],
   "source": [
    "t[2]"
   ]
  },
  {
   "cell_type": "code",
   "execution_count": 226,
   "id": "0730c0ca-55ed-4ee0-a4d0-fb4ce851d833",
   "metadata": {},
   "outputs": [
    {
     "ename": "TypeError",
     "evalue": "'tuple' object does not support item assignment",
     "output_type": "error",
     "traceback": [
      "\u001b[0;31m---------------------------------------------------------------------------\u001b[0m",
      "\u001b[0;31mTypeError\u001b[0m                                 Traceback (most recent call last)",
      "Cell \u001b[0;32mIn[226], line 1\u001b[0m\n\u001b[0;32m----> 1\u001b[0m t[\u001b[38;5;241m2\u001b[39m] \u001b[38;5;241m=\u001b[39m \u001b[38;5;241m10\u001b[39m\n",
      "\u001b[0;31mTypeError\u001b[0m: 'tuple' object does not support item assignment"
     ]
    }
   ],
   "source": [
    "t[2] = 10"
   ]
  },
  {
   "cell_type": "code",
   "execution_count": 228,
   "id": "1f7755bd-0187-4de0-97eb-b39230d53934",
   "metadata": {},
   "outputs": [
    {
     "data": {
      "text/plain": [
       "(1, 2, 5, 6, 2, 10)"
      ]
     },
     "execution_count": 228,
     "metadata": {},
     "output_type": "execute_result"
    }
   ],
   "source": [
    "t"
   ]
  },
  {
   "cell_type": "code",
   "execution_count": 230,
   "id": "825491f5-9e88-48b3-888c-5fd3c0b30d46",
   "metadata": {},
   "outputs": [
    {
     "data": {
      "text/plain": [
       "True"
      ]
     },
     "execution_count": 230,
     "metadata": {},
     "output_type": "execute_result"
    }
   ],
   "source": [
    "2 in t"
   ]
  },
  {
   "cell_type": "markdown",
   "id": "2b1de90d-a7df-4876-b820-5e6a4bef10fb",
   "metadata": {},
   "source": [
    "### Dictionary"
   ]
  },
  {
   "cell_type": "code",
   "execution_count": 233,
   "id": "33de6604-4aa7-4acb-b4d4-06618575a1b4",
   "metadata": {},
   "outputs": [],
   "source": [
    "d = {20:1, 22:2, 24:3, 26:4}"
   ]
  },
  {
   "cell_type": "code",
   "execution_count": 235,
   "id": "53c1f492-861e-4114-9b78-6c6c946dbc1b",
   "metadata": {},
   "outputs": [
    {
     "data": {
      "text/plain": [
       "dict"
      ]
     },
     "execution_count": 235,
     "metadata": {},
     "output_type": "execute_result"
    }
   ],
   "source": [
    "type(d)"
   ]
  },
  {
   "cell_type": "code",
   "execution_count": 237,
   "id": "dbed4a7d-779b-4da7-a02a-41b31adae0b1",
   "metadata": {},
   "outputs": [
    {
     "data": {
      "text/plain": [
       "{20: 1, 22: 2, 24: 3, 26: 4}"
      ]
     },
     "execution_count": 237,
     "metadata": {},
     "output_type": "execute_result"
    }
   ],
   "source": [
    "d"
   ]
  },
  {
   "cell_type": "code",
   "execution_count": 239,
   "id": "e2f09f07-85c8-44a0-b3b7-587c6139d337",
   "metadata": {},
   "outputs": [
    {
     "data": {
      "text/plain": [
       "3"
      ]
     },
     "execution_count": 239,
     "metadata": {},
     "output_type": "execute_result"
    }
   ],
   "source": [
    "d[24]"
   ]
  },
  {
   "cell_type": "code",
   "execution_count": 241,
   "id": "69980b33-0b33-4ca1-b3bd-22264b1ad32f",
   "metadata": {},
   "outputs": [],
   "source": [
    "d[24] = 1"
   ]
  },
  {
   "cell_type": "code",
   "execution_count": 243,
   "id": "04cada36-2ced-4e2f-917e-4488df9cee4c",
   "metadata": {},
   "outputs": [
    {
     "data": {
      "text/plain": [
       "{20: 1, 22: 2, 24: 1, 26: 4}"
      ]
     },
     "execution_count": 243,
     "metadata": {},
     "output_type": "execute_result"
    }
   ],
   "source": [
    "d"
   ]
  },
  {
   "cell_type": "code",
   "execution_count": 245,
   "id": "f145332c-74f9-4a45-a802-3c2982001286",
   "metadata": {},
   "outputs": [],
   "source": [
    "d['satyam'] = 10"
   ]
  },
  {
   "cell_type": "code",
   "execution_count": 247,
   "id": "e1cb9baf-1b4a-4b5a-9c66-77db086e22ac",
   "metadata": {},
   "outputs": [
    {
     "data": {
      "text/plain": [
       "{20: 1, 22: 2, 24: 1, 26: 4, 'satyam': 10}"
      ]
     },
     "execution_count": 247,
     "metadata": {},
     "output_type": "execute_result"
    }
   ],
   "source": [
    "d"
   ]
  },
  {
   "cell_type": "code",
   "execution_count": 249,
   "id": "6b2e53e2-4728-4961-bf6f-ea7350856f78",
   "metadata": {},
   "outputs": [],
   "source": [
    "d['sia'] = [10, 100, 1000]"
   ]
  },
  {
   "cell_type": "code",
   "execution_count": 251,
   "id": "f300bb62-fd1b-4341-a3a9-09cf8f9628db",
   "metadata": {},
   "outputs": [
    {
     "data": {
      "text/plain": [
       "{20: 1, 22: 2, 24: 1, 26: 4, 'satyam': 10, 'sia': [10, 100, 1000]}"
      ]
     },
     "execution_count": 251,
     "metadata": {},
     "output_type": "execute_result"
    }
   ],
   "source": [
    "d"
   ]
  },
  {
   "cell_type": "code",
   "execution_count": 253,
   "id": "00dbf55a-22fa-4c63-8c91-2cf61767a793",
   "metadata": {},
   "outputs": [
    {
     "data": {
      "text/plain": [
       "dict_keys([20, 22, 24, 26, 'satyam', 'sia'])"
      ]
     },
     "execution_count": 253,
     "metadata": {},
     "output_type": "execute_result"
    }
   ],
   "source": [
    "d.keys()"
   ]
  },
  {
   "cell_type": "code",
   "execution_count": 255,
   "id": "152c8c61-83e3-4b95-b588-e8867d3417df",
   "metadata": {},
   "outputs": [
    {
     "data": {
      "text/plain": [
       "dict_values([1, 2, 1, 4, 10, [10, 100, 1000]])"
      ]
     },
     "execution_count": 255,
     "metadata": {},
     "output_type": "execute_result"
    }
   ],
   "source": [
    "d.values()"
   ]
  },
  {
   "cell_type": "code",
   "execution_count": null,
   "id": "ff2c879e-ea1d-4d41-8117-dd85dba04afb",
   "metadata": {},
   "outputs": [],
   "source": []
  }
 ],
 "metadata": {
  "kernelspec": {
   "display_name": "Python 3 (ipykernel)",
   "language": "python",
   "name": "python3"
  },
  "language_info": {
   "codemirror_mode": {
    "name": "ipython",
    "version": 3
   },
   "file_extension": ".py",
   "mimetype": "text/x-python",
   "name": "python",
   "nbconvert_exporter": "python",
   "pygments_lexer": "ipython3",
   "version": "3.12.4"
  }
 },
 "nbformat": 4,
 "nbformat_minor": 5
}
