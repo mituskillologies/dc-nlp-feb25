{
 "cells": [
  {
   "cell_type": "code",
   "execution_count": 1,
   "id": "85b47d7f-55dc-4f60-a738-a59ee22c002d",
   "metadata": {},
   "outputs": [],
   "source": [
    "f = open('sample.txt')"
   ]
  },
  {
   "cell_type": "code",
   "execution_count": 2,
   "id": "cde76481-f05b-439f-a8c1-8afed9eab9b3",
   "metadata": {},
   "outputs": [
    {
     "data": {
      "text/plain": [
       "<_io.TextIOWrapper name='sample.txt' mode='r' encoding='UTF-8'>"
      ]
     },
     "execution_count": 2,
     "metadata": {},
     "output_type": "execute_result"
    }
   ],
   "source": [
    "f"
   ]
  },
  {
   "cell_type": "code",
   "execution_count": 3,
   "id": "6d2e6300-b7c8-433a-a544-20d12095537d",
   "metadata": {},
   "outputs": [
    {
     "data": {
      "text/plain": [
       "True"
      ]
     },
     "execution_count": 3,
     "metadata": {},
     "output_type": "execute_result"
    }
   ],
   "source": [
    "f.readable()"
   ]
  },
  {
   "cell_type": "code",
   "execution_count": 4,
   "id": "cfdc7ea3-1bbf-4b93-83a0-7f83647ec83c",
   "metadata": {},
   "outputs": [
    {
     "data": {
      "text/plain": [
       "'Hello friends!\\n'"
      ]
     },
     "execution_count": 4,
     "metadata": {},
     "output_type": "execute_result"
    }
   ],
   "source": [
    "f.readline()"
   ]
  },
  {
   "cell_type": "code",
   "execution_count": 5,
   "id": "3d545905-4fa1-4192-8658-51d95caa37b9",
   "metadata": {},
   "outputs": [
    {
     "data": {
      "text/plain": [
       "'How are you?\\n'"
      ]
     },
     "execution_count": 5,
     "metadata": {},
     "output_type": "execute_result"
    }
   ],
   "source": [
    "f.readline()"
   ]
  },
  {
   "cell_type": "code",
   "execution_count": 6,
   "id": "4a0fb9fb-d002-4446-a95b-2c045490409a",
   "metadata": {},
   "outputs": [
    {
     "data": {
      "text/plain": [
       "'Welcome to the world of Python Programming.'"
      ]
     },
     "execution_count": 6,
     "metadata": {},
     "output_type": "execute_result"
    }
   ],
   "source": [
    "f.readline()"
   ]
  },
  {
   "cell_type": "code",
   "execution_count": 7,
   "id": "505d6613-63d1-43e0-8ec7-f9ef7449c787",
   "metadata": {},
   "outputs": [
    {
     "data": {
      "text/plain": [
       "''"
      ]
     },
     "execution_count": 7,
     "metadata": {},
     "output_type": "execute_result"
    }
   ],
   "source": [
    "f.readline()"
   ]
  },
  {
   "cell_type": "code",
   "execution_count": 8,
   "id": "c1c41b03-d5af-428e-ac05-4df09ebf37e4",
   "metadata": {},
   "outputs": [],
   "source": [
    "f = open('sample.txt')"
   ]
  },
  {
   "cell_type": "code",
   "execution_count": 9,
   "id": "6605a855-c4e9-4e54-a5b8-1d0f13e9e368",
   "metadata": {},
   "outputs": [],
   "source": [
    "lines = f.readlines()"
   ]
  },
  {
   "cell_type": "code",
   "execution_count": 10,
   "id": "e912d5ce-f67b-4a9a-af27-621e297e6d6d",
   "metadata": {},
   "outputs": [
    {
     "data": {
      "text/plain": [
       "['Hello friends!\\n',\n",
       " 'How are you?\\n',\n",
       " 'Welcome to the world of Python Programming.']"
      ]
     },
     "execution_count": 10,
     "metadata": {},
     "output_type": "execute_result"
    }
   ],
   "source": [
    "lines"
   ]
  },
  {
   "cell_type": "code",
   "execution_count": 13,
   "id": "1af0b7f6-c115-4449-8f4a-5cc549783887",
   "metadata": {},
   "outputs": [
    {
     "name": "stdout",
     "output_type": "stream",
     "text": [
      "Hello friends!\n",
      "\n",
      "How are you?\n",
      "\n",
      "Welcome to the world of Python Programming.\n"
     ]
    }
   ],
   "source": [
    "for line in lines:\n",
    "    print(line)"
   ]
  },
  {
   "cell_type": "code",
   "execution_count": 12,
   "id": "df5e13f1-9261-4d28-99fe-ea22733b4e77",
   "metadata": {},
   "outputs": [
    {
     "data": {
      "text/plain": [
       "list"
      ]
     },
     "execution_count": 12,
     "metadata": {},
     "output_type": "execute_result"
    }
   ],
   "source": [
    "type(lines)"
   ]
  },
  {
   "cell_type": "code",
   "execution_count": 14,
   "id": "817fae41-4a15-47b3-a0a4-278564687444",
   "metadata": {},
   "outputs": [],
   "source": [
    "f = open('sample.txt')"
   ]
  },
  {
   "cell_type": "code",
   "execution_count": 15,
   "id": "89ea57ea-0de8-4dd8-85e3-cd3d53b52d11",
   "metadata": {},
   "outputs": [],
   "source": [
    "data = f.read()"
   ]
  },
  {
   "cell_type": "code",
   "execution_count": 16,
   "id": "3555b1b3-83a9-4cf8-a5fd-f95428acb3fe",
   "metadata": {},
   "outputs": [
    {
     "name": "stdout",
     "output_type": "stream",
     "text": [
      "Hello friends!\n",
      "How are you?\n",
      "Welcome to the world of Python Programming.\n"
     ]
    }
   ],
   "source": [
    "print(data)"
   ]
  },
  {
   "cell_type": "code",
   "execution_count": 17,
   "id": "589f91a2-7fa7-4ac0-b0da-8a0a00e0f446",
   "metadata": {},
   "outputs": [
    {
     "data": {
      "text/plain": [
       "str"
      ]
     },
     "execution_count": 17,
     "metadata": {},
     "output_type": "execute_result"
    }
   ],
   "source": [
    "type(data)"
   ]
  },
  {
   "cell_type": "code",
   "execution_count": 18,
   "id": "2661489b-3273-4888-bd2a-25d2f378f254",
   "metadata": {},
   "outputs": [],
   "source": [
    "f.close()"
   ]
  },
  {
   "cell_type": "markdown",
   "id": "fcfeb3f4-6dc3-4def-9445-0002b98aad12",
   "metadata": {},
   "source": [
    "###### count total number of 'the' in this file"
   ]
  },
  {
   "cell_type": "code",
   "execution_count": 25,
   "id": "67248462-2aeb-44b0-b194-e9af91b057e9",
   "metadata": {},
   "outputs": [],
   "source": [
    "f = open('pune.txt', encoding='utf-8')"
   ]
  },
  {
   "cell_type": "code",
   "execution_count": 26,
   "id": "5701502f-80a2-4b9d-9672-e93dec749ab3",
   "metadata": {},
   "outputs": [],
   "source": [
    "data = f.read()"
   ]
  },
  {
   "cell_type": "code",
   "execution_count": 27,
   "id": "a04aea33-f71e-4896-8865-c2f3c9f2f66f",
   "metadata": {},
   "outputs": [
    {
     "data": {
      "text/plain": [
       "'Pune (/ˈpuːnə/ POO-nə; Marathi: [ˈpuɳe] ⓘ, ISO: Puṇē), previously spelled in English as Poona (the official name until 1978),[14][15] is a city in the state of Maharashtra in the Deccan plateau in Western India. It is the administrative headquarters of the Pune district, and of Pune division. According to the 2011 Census of India, Pune has 7.2 million residents in the metropolitan region, making it the seventh-most populous metropolitan area in India.[16] The city of Pune is part of Pune Metropolitan Region.[17] Pune is one of the largest IT hubs in India.[18][19] It is also one of the most important automobile and manufacturing hubs of India. Pune is often referred to as the \"Oxford of the East\" because of its educational institutions.[20][21][22] It has been ranked \"the most liveable city in India\" several times.[23][24]\\n\\nPune at different points in time has been ruled by the Rashtrakuta dynasty, Ahmadnagar Sultanate, the Mughals, and the Adil Shahi dynasty. In the 18th century, the city was part of the Maratha Empire, and the seat of the Peshwas, the prime ministers of the Maratha Empire.[25] Pune was seized by the British East India Company in the Third Anglo-Maratha War; it gained municipal status in 1858, the year in which Crown rule began. Many historical landmarks like Shaniwarwada, Shinde Chhatri, and Vishrambaug Wada date to this era. Historical sites from different eras dot the city.'"
      ]
     },
     "execution_count": 27,
     "metadata": {},
     "output_type": "execute_result"
    }
   ],
   "source": [
    "data"
   ]
  },
  {
   "cell_type": "code",
   "execution_count": 23,
   "id": "e36bc752-7543-48bb-aff8-76e33017b159",
   "metadata": {},
   "outputs": [],
   "source": [
    "words = data.split()"
   ]
  },
  {
   "cell_type": "code",
   "execution_count": 28,
   "id": "eb646b08-167f-49a0-817f-98147ea8ce32",
   "metadata": {},
   "outputs": [
    {
     "data": {
      "text/plain": [
       "25"
      ]
     },
     "execution_count": 28,
     "metadata": {},
     "output_type": "execute_result"
    }
   ],
   "source": [
    "words.count('the')"
   ]
  },
  {
   "cell_type": "code",
   "execution_count": 29,
   "id": "b8b9f2da-c9dc-41ef-b27d-fe01dfa436c0",
   "metadata": {},
   "outputs": [
    {
     "data": {
      "text/plain": [
       "1"
      ]
     },
     "execution_count": 29,
     "metadata": {},
     "output_type": "execute_result"
    }
   ],
   "source": [
    "words.count('The')"
   ]
  },
  {
   "cell_type": "code",
   "execution_count": 30,
   "id": "677a3a3a-6e88-42be-b3fc-455fa8f6cc00",
   "metadata": {},
   "outputs": [
    {
     "data": {
      "text/plain": [
       "26"
      ]
     },
     "execution_count": 30,
     "metadata": {},
     "output_type": "execute_result"
    }
   ],
   "source": [
    "words.count('the') + words.count('The')"
   ]
  },
  {
   "cell_type": "markdown",
   "id": "c3c6133b-8f4d-4637-8840-94afa48b8265",
   "metadata": {},
   "source": [
    "##### Writing inside the file"
   ]
  },
  {
   "cell_type": "code",
   "execution_count": 34,
   "id": "995ec98d-dc91-4c4d-b8fe-a9549d7673d8",
   "metadata": {},
   "outputs": [],
   "source": [
    "f = open('mydata.txt', 'w', encoding='utf-8')"
   ]
  },
  {
   "cell_type": "code",
   "execution_count": 35,
   "id": "c181ca33-3fdd-491b-9b12-dc3d4d06ca28",
   "metadata": {},
   "outputs": [
    {
     "data": {
      "text/plain": [
       "<_io.TextIOWrapper name='mydata.txt' mode='w' encoding='utf-8'>"
      ]
     },
     "execution_count": 35,
     "metadata": {},
     "output_type": "execute_result"
    }
   ],
   "source": [
    "f"
   ]
  },
  {
   "cell_type": "code",
   "execution_count": 36,
   "id": "0a4843c3-1c88-496e-92dd-14957944f3fb",
   "metadata": {},
   "outputs": [],
   "source": [
    "f.write('It is fun to learn Python Programming!')\n",
    "f.close()"
   ]
  },
  {
   "cell_type": "code",
   "execution_count": 38,
   "id": "263132d2-e3e0-45e2-ab5b-9d05321e490c",
   "metadata": {},
   "outputs": [],
   "source": [
    "with open('mydata.txt', 'w') as f:\n",
    "    f.write('Hello!\\n')\n",
    "    f.write('Have a great learning!\\n')\n",
    "    f.write('Good Bye\\n')"
   ]
  },
  {
   "cell_type": "code",
   "execution_count": null,
   "id": "e142a3ed-7c08-46e9-9a4d-ab03ce23fba7",
   "metadata": {},
   "outputs": [],
   "source": []
  }
 ],
 "metadata": {
  "kernelspec": {
   "display_name": "Python 3 (ipykernel)",
   "language": "python",
   "name": "python3"
  },
  "language_info": {
   "codemirror_mode": {
    "name": "ipython",
    "version": 3
   },
   "file_extension": ".py",
   "mimetype": "text/x-python",
   "name": "python",
   "nbconvert_exporter": "python",
   "pygments_lexer": "ipython3",
   "version": "3.10.12"
  }
 },
 "nbformat": 4,
 "nbformat_minor": 5
}
