{
 "cells": [
  {
   "cell_type": "markdown",
   "id": "e874555d-eef2-4d90-b366-e31165c111aa",
   "metadata": {},
   "source": [
    "###### A simple class"
   ]
  },
  {
   "cell_type": "code",
   "execution_count": 3,
   "id": "7707a07a-c4b5-49c3-86d3-7089065f747c",
   "metadata": {},
   "outputs": [],
   "source": [
    "class Person:\n",
    "    def __init__(self, n, a):    # constructor\n",
    "        self.name = n            # name and age -> instance variable\n",
    "        self.age = a\n",
    "\n",
    "    def show(self):              # function / behavior of class\n",
    "        print('The values are:', self.name, self.age)"
   ]
  },
  {
   "cell_type": "code",
   "execution_count": 4,
   "id": "b1efaaed-4af7-47e4-a7c9-7b4bfca36d1d",
   "metadata": {},
   "outputs": [],
   "source": [
    "# create the object\n",
    "p1 = Person('Anil', 25)"
   ]
  },
  {
   "cell_type": "code",
   "execution_count": 5,
   "id": "18e9ab20-99bf-475c-8907-4b8cf8c6c2cd",
   "metadata": {},
   "outputs": [
    {
     "data": {
      "text/plain": [
       "<__main__.Person at 0x7f683311ea40>"
      ]
     },
     "execution_count": 5,
     "metadata": {},
     "output_type": "execute_result"
    }
   ],
   "source": [
    "p1"
   ]
  },
  {
   "cell_type": "code",
   "execution_count": 6,
   "id": "40dd966d-3f26-4c75-889e-cf2aef329439",
   "metadata": {},
   "outputs": [
    {
     "data": {
      "text/plain": [
       "'Anil'"
      ]
     },
     "execution_count": 6,
     "metadata": {},
     "output_type": "execute_result"
    }
   ],
   "source": [
    "p1.name"
   ]
  },
  {
   "cell_type": "code",
   "execution_count": 7,
   "id": "cedd1cf7-6a2e-44c1-8ec7-2487bcff160c",
   "metadata": {},
   "outputs": [
    {
     "data": {
      "text/plain": [
       "25"
      ]
     },
     "execution_count": 7,
     "metadata": {},
     "output_type": "execute_result"
    }
   ],
   "source": [
    "p1.age"
   ]
  },
  {
   "cell_type": "code",
   "execution_count": 8,
   "id": "e3d4647d-8c73-416d-93b9-61328d2c256f",
   "metadata": {},
   "outputs": [
    {
     "name": "stdout",
     "output_type": "stream",
     "text": [
      "The values are: Anil 25\n"
     ]
    }
   ],
   "source": [
    "p1.show()"
   ]
  },
  {
   "cell_type": "code",
   "execution_count": 9,
   "id": "0b9782b1-3442-49d5-8e13-967e9ad6e251",
   "metadata": {},
   "outputs": [],
   "source": [
    "p2 = Person('Sunil',22)\n",
    "p3 = Person('Anita', 27)"
   ]
  },
  {
   "cell_type": "code",
   "execution_count": 10,
   "id": "bc94e808-86bc-4105-8003-37b5ac19ee05",
   "metadata": {},
   "outputs": [
    {
     "name": "stdout",
     "output_type": "stream",
     "text": [
      "The values are: Sunil 22\n"
     ]
    }
   ],
   "source": [
    "p2.show()"
   ]
  },
  {
   "cell_type": "code",
   "execution_count": 11,
   "id": "4ce7b865-615d-4002-b303-760f7878a14c",
   "metadata": {},
   "outputs": [
    {
     "name": "stdout",
     "output_type": "stream",
     "text": [
      "The values are: Anita 27\n"
     ]
    }
   ],
   "source": [
    "p3.show()"
   ]
  },
  {
   "cell_type": "code",
   "execution_count": 12,
   "id": "1224cfd4-c919-4d0f-b983-411cf20e5feb",
   "metadata": {},
   "outputs": [],
   "source": [
    "class Person:\n",
    "    def __init__(self, n, a):    # constructor\n",
    "        self.name = n            # name and age -> instance variable\n",
    "        self.age = a\n",
    "\n",
    "    def show(self):              # function / behavior of class\n",
    "        print('The values are:', self.name, self.age)\n",
    "\n",
    "    def isEligible(self):\n",
    "        if self.age >= 18:\n",
    "            return True\n",
    "        else:\n",
    "            return False"
   ]
  },
  {
   "cell_type": "code",
   "execution_count": 13,
   "id": "bf1b3324-30a4-4b8a-ab3e-cf064262269c",
   "metadata": {},
   "outputs": [],
   "source": [
    "p1 = Person('Rajesh', 45)"
   ]
  },
  {
   "cell_type": "code",
   "execution_count": 14,
   "id": "2c8665f4-21ff-44ad-86f0-99b26f6e06be",
   "metadata": {},
   "outputs": [
    {
     "data": {
      "text/plain": [
       "True"
      ]
     },
     "execution_count": 14,
     "metadata": {},
     "output_type": "execute_result"
    }
   ],
   "source": [
    "p1.isEligible()"
   ]
  },
  {
   "cell_type": "code",
   "execution_count": 15,
   "id": "772f3a12-e736-45b2-8c9d-4efc1e51c515",
   "metadata": {},
   "outputs": [],
   "source": [
    "p2 = Person('Rima', 15)"
   ]
  },
  {
   "cell_type": "code",
   "execution_count": 16,
   "id": "17892ab6-324b-4580-9a05-ff310c3410f9",
   "metadata": {},
   "outputs": [
    {
     "data": {
      "text/plain": [
       "False"
      ]
     },
     "execution_count": 16,
     "metadata": {},
     "output_type": "execute_result"
    }
   ],
   "source": [
    "p2.isEligible()"
   ]
  },
  {
   "cell_type": "code",
   "execution_count": 17,
   "id": "34820f90-e353-4eec-a0c1-8bca157ff624",
   "metadata": {},
   "outputs": [
    {
     "data": {
      "text/plain": [
       "'Rajesh'"
      ]
     },
     "execution_count": 17,
     "metadata": {},
     "output_type": "execute_result"
    }
   ],
   "source": [
    "p1.name"
   ]
  },
  {
   "cell_type": "code",
   "execution_count": null,
   "id": "c93a3e06-0dd5-4d25-83a1-aaa2aa4ddc0a",
   "metadata": {},
   "outputs": [],
   "source": []
  }
 ],
 "metadata": {
  "kernelspec": {
   "display_name": "Python 3 (ipykernel)",
   "language": "python",
   "name": "python3"
  },
  "language_info": {
   "codemirror_mode": {
    "name": "ipython",
    "version": 3
   },
   "file_extension": ".py",
   "mimetype": "text/x-python",
   "name": "python",
   "nbconvert_exporter": "python",
   "pygments_lexer": "ipython3",
   "version": "3.10.12"
  }
 },
 "nbformat": 4,
 "nbformat_minor": 5
}
