{
 "cells": [
  {
   "cell_type": "code",
   "execution_count": 1,
   "id": "97b3478c-af00-4d7a-952f-808aebf13f42",
   "metadata": {},
   "outputs": [],
   "source": [
    "import nltk"
   ]
  },
  {
   "cell_type": "code",
   "execution_count": 2,
   "id": "2be0ec45-b81a-48b3-ba34-44bae477a8a0",
   "metadata": {},
   "outputs": [
    {
     "name": "stderr",
     "output_type": "stream",
     "text": [
      "[nltk_data] Downloading package indian to /home/mitu/nltk_data...\n",
      "[nltk_data]   Package indian is already up-to-date!\n"
     ]
    },
    {
     "data": {
      "text/plain": [
       "True"
      ]
     },
     "execution_count": 2,
     "metadata": {},
     "output_type": "execute_result"
    }
   ],
   "source": [
    "nltk.download('indian')"
   ]
  },
  {
   "cell_type": "code",
   "execution_count": 3,
   "id": "80d09ebb-897b-453a-8337-4f5b469bf9e5",
   "metadata": {},
   "outputs": [],
   "source": [
    "from nltk.corpus import indian\n",
    "from nltk.tag import TnT"
   ]
  },
  {
   "cell_type": "code",
   "execution_count": 4,
   "id": "c8c2fc63-958f-49fa-a363-ef37034c2f7d",
   "metadata": {},
   "outputs": [
    {
     "name": "stdout",
     "output_type": "stream",
     "text": [
      "bangla.pos\n",
      "hindi.pos\n",
      "marathi.pos\n",
      "telugu.pos\n"
     ]
    }
   ],
   "source": [
    "for file in indian.fileids():\n",
    "    print(file)"
   ]
  },
  {
   "cell_type": "code",
   "execution_count": 5,
   "id": "8491334e-b53b-4ac9-8b97-846ee31eba0b",
   "metadata": {},
   "outputs": [
    {
     "data": {
      "text/plain": [
       "[\"''\", 'सनातनवाद्यांनी', 'व', 'प्रतिगाम्यांनी', 'समाज', ...]"
      ]
     },
     "execution_count": 5,
     "metadata": {},
     "output_type": "execute_result"
    }
   ],
   "source": [
    "indian.words('marathi.pos')"
   ]
  },
  {
   "cell_type": "code",
   "execution_count": 6,
   "id": "7d04309d-1513-41dc-aed3-1996cd7189e7",
   "metadata": {},
   "outputs": [
    {
     "data": {
      "text/plain": [
       "19066"
      ]
     },
     "execution_count": 6,
     "metadata": {},
     "output_type": "execute_result"
    }
   ],
   "source": [
    "len(indian.words('marathi.pos'))"
   ]
  },
  {
   "cell_type": "code",
   "execution_count": 8,
   "id": "1ab8a7bc-a764-4447-a7a5-1596f65a87bf",
   "metadata": {},
   "outputs": [
    {
     "name": "stdout",
     "output_type": "stream",
     "text": [
      "bangla.pos\n",
      "10281\n",
      "hindi.pos\n",
      "9408\n",
      "marathi.pos\n",
      "19066\n",
      "telugu.pos\n",
      "9999\n"
     ]
    }
   ],
   "source": [
    "for file in indian.fileids():\n",
    "    print(file)\n",
    "    print(len(indian.words(file)))"
   ]
  },
  {
   "cell_type": "code",
   "execution_count": 9,
   "id": "734ab6ca-dc63-4012-a2a1-711a96133934",
   "metadata": {},
   "outputs": [
    {
     "name": "stdout",
     "output_type": "stream",
     "text": [
      "bangla.pos 896\n",
      "hindi.pos 540\n",
      "marathi.pos 1197\n",
      "telugu.pos 994\n"
     ]
    }
   ],
   "source": [
    "for file in indian.fileids():\n",
    "    print(file, len(indian.sents(file)))"
   ]
  },
  {
   "cell_type": "code",
   "execution_count": 10,
   "id": "a5d80c0d-7bad-47dc-8cb1-d438eeb56e8a",
   "metadata": {},
   "outputs": [
    {
     "data": {
      "text/plain": [
       "[[\"''\", 'सनातनवाद्यांनी', 'व', 'प्रतिगाम्यांनी', 'समाज', 'रसातळाला', 'नेला', 'असताना', 'या', 'अंधारात', 'बाळशास्त्री', 'जांभेकर', 'यांनी', \"'दर्पण'च्या\", 'माध्यमातून', 'पहिली', 'ज्ञानज्योत', 'तेववली', ',', \"''\", 'असे', 'प्रतिपादन', 'नटसम्राट', 'प्रभाकर', 'पणशीकर', 'यांनी', 'केले', '.'], ['दर्पणकार', 'बाळशास्त्री', 'जांभेकर', 'यांच्या', '१९५व्या', 'जयंतीनिमित्त', 'महाराष्ट्र', 'संपादक', 'परिषद', 'व', 'सिंधुदुर्ग', 'जिल्हा', 'मराठी', 'पत्रकार', 'संघाच्या', 'वतीने', 'तसेच', 'महाराष्ट्र', 'जर्नलिस्ट', 'फाउंडेशन', 'व', 'महाराष्ट्र', 'ग्रामीण', 'पत्रकार', 'संघाच्या', 'सहभागाने', 'अभिवादन', 'कार्यक्रम', 'आयोजित', 'केला', 'होता', '.'], ...]"
      ]
     },
     "execution_count": 10,
     "metadata": {},
     "output_type": "execute_result"
    }
   ],
   "source": [
    "indian.sents('marathi.pos')"
   ]
  },
  {
   "cell_type": "code",
   "execution_count": 11,
   "id": "7f8e6967-160c-400c-a758-2be6918afdad",
   "metadata": {},
   "outputs": [
    {
     "data": {
      "text/plain": [
       "[[(\"''\", 'SYM'), ('सनातनवाद्यांनी', 'NN'), ('व', 'CC'), ('प्रतिगाम्यांनी', 'NN'), ('समाज', 'NN'), ('रसातळाला', 'NN'), ('नेला', 'VM'), ('असताना', 'VAUX'), ('या', 'DEM'), ('अंधारात', 'NN'), ('बाळशास्त्री', 'NNPC'), ('जांभेकर', 'NNP'), ('यांनी', 'PRP'), (\"'दर्पण'च्या\", 'NNP'), ('माध्यमातून', 'NN'), ('पहिली', 'QO'), ('ज्ञानज्योत', 'NN'), ('तेववली', 'VM'), (',', 'SYM'), (\"''\", 'SYM'), ('असे', 'DEM'), ('प्रतिपादन', 'NN'), ('नटसम्राट', 'NNPC'), ('प्रभाकर', 'NNPC'), ('पणशीकर', 'NNP'), ('यांनी', 'PRP'), ('केले', 'VM'), ('.', 'SYM')], [('दर्पणकार', 'JJ'), ('बाळशास्त्री', 'NNPC'), ('जांभेकर', 'NNP'), ('यांच्या', 'PRP'), ('१९५व्या', 'QC'), ('जयंतीनिमित्त', 'NN'), ('महाराष्ट्र', 'NNPC'), ('संपादक', 'NNPC'), ('परिषद', 'NNP'), ('व', 'CC'), ('सिंधुदुर्ग', 'NNPC'), ('जिल्हा', 'NNPC'), ('मराठी', 'NNPC'), ('पत्रकार', 'NNPC'), ('संघाच्या', 'NNP'), ('वतीने', 'NN'), ('तसेच', 'PRP'), ('महाराष्ट्र', 'NNPC'), ('जर्नलिस्ट', 'NNPC'), ('फाउंडेशन', 'NNP'), ('व', 'CC'), ('महाराष्ट्र', 'NNPC'), ('ग्रामीण', 'NNPC'), ('पत्रकार', 'NNPC'), ('संघाच्या', 'NNP'), ('सहभागाने', 'NN'), ('अभिवादन', 'NN'), ('कार्यक्रम', 'NN'), ('आयोजित', 'JJ'), ('केला', 'VM'), ('होता', 'VAUX'), ('.', 'SYM')], ...]"
      ]
     },
     "execution_count": 11,
     "metadata": {},
     "output_type": "execute_result"
    }
   ],
   "source": [
    "indian.tagged_sents('marathi.pos')"
   ]
  },
  {
   "cell_type": "code",
   "execution_count": 12,
   "id": "0271afe0-6b16-4416-b811-a54bc9b13b06",
   "metadata": {},
   "outputs": [],
   "source": [
    "# create the object of tagger\n",
    "tagger = TnT()"
   ]
  },
  {
   "cell_type": "code",
   "execution_count": 13,
   "id": "b3ba9580-3b13-4c9a-9a8d-c8bc695c10aa",
   "metadata": {},
   "outputs": [],
   "source": [
    "pos = indian.tagged_sents('marathi.pos')"
   ]
  },
  {
   "cell_type": "code",
   "execution_count": 14,
   "id": "19562cfa-9b4b-4862-a58c-bb6b2623b4c2",
   "metadata": {},
   "outputs": [],
   "source": [
    "# train the tagger with tagged sentences\n",
    "tagger.train(pos)"
   ]
  },
  {
   "cell_type": "code",
   "execution_count": 15,
   "id": "d34ffd78-5a03-459a-80d9-469c7396801a",
   "metadata": {},
   "outputs": [],
   "source": [
    "sent = 'सोमवारी हा सामना सुमारे आठ तास उशिरा सुरू झाला.'"
   ]
  },
  {
   "cell_type": "code",
   "execution_count": 17,
   "id": "77f65670-7b22-4d8d-9e7b-4de72bf6d460",
   "metadata": {},
   "outputs": [],
   "source": [
    "from nltk.tokenize import word_tokenize"
   ]
  },
  {
   "cell_type": "code",
   "execution_count": 18,
   "id": "869555c5-5c99-4fb9-8c1e-1f5b479157df",
   "metadata": {},
   "outputs": [
    {
     "data": {
      "text/plain": [
       "[('सोमवारी', 'NNP'),\n",
       " ('हा', 'DEM'),\n",
       " ('सामना', 'NN'),\n",
       " ('सुमारे', 'QF'),\n",
       " ('आठ', 'QC'),\n",
       " ('तास', 'NN'),\n",
       " ('उशिरा', 'NN'),\n",
       " ('सुरू', 'JJ'),\n",
       " ('झाला', 'VM'),\n",
       " ('.', 'SYM')]"
      ]
     },
     "execution_count": 18,
     "metadata": {},
     "output_type": "execute_result"
    }
   ],
   "source": [
    "# Predict the tags of the sentence\n",
    "tagger.tag(word_tokenize(sent))"
   ]
  },
  {
   "cell_type": "code",
   "execution_count": null,
   "id": "a7df95fe-f0cf-441d-8973-8cc59a317b8c",
   "metadata": {},
   "outputs": [],
   "source": []
  }
 ],
 "metadata": {
  "kernelspec": {
   "display_name": "Python 3 (ipykernel)",
   "language": "python",
   "name": "python3"
  },
  "language_info": {
   "codemirror_mode": {
    "name": "ipython",
    "version": 3
   },
   "file_extension": ".py",
   "mimetype": "text/x-python",
   "name": "python",
   "nbconvert_exporter": "python",
   "pygments_lexer": "ipython3",
   "version": "3.10.12"
  }
 },
 "nbformat": 4,
 "nbformat_minor": 5
}
