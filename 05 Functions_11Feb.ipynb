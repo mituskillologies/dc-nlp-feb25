{
 "cells": [
  {
   "cell_type": "code",
   "execution_count": 1,
   "id": "51c80957-a392-42b8-857c-db7a38491f54",
   "metadata": {},
   "outputs": [
    {
     "name": "stdout",
     "output_type": "stream",
     "text": [
      "hello world\n"
     ]
    }
   ],
   "source": [
    "print(\"hello world\")"
   ]
  },
  {
   "cell_type": "code",
   "execution_count": 7,
   "id": "ac980378-f80c-447a-b1af-3106779469a2",
   "metadata": {},
   "outputs": [],
   "source": [
    "# function definition\n",
    "def show():\n",
    "    print('hello world')\n",
    "    print(\"how r u\")\n",
    "    print(\"goodbye\")"
   ]
  },
  {
   "cell_type": "code",
   "execution_count": 9,
   "id": "c7df0b46-4b23-4901-9e9e-dcffb2727b04",
   "metadata": {},
   "outputs": [
    {
     "name": "stdout",
     "output_type": "stream",
     "text": [
      "hello world\n",
      "how r u\n",
      "goodbye\n"
     ]
    }
   ],
   "source": [
    "show()  # function call"
   ]
  },
  {
   "cell_type": "code",
   "execution_count": 15,
   "id": "258abc0c-80be-4dad-b5b2-d29df94cecd2",
   "metadata": {},
   "outputs": [
    {
     "name": "stdout",
     "output_type": "stream",
     "text": [
      "hello world\n",
      "how r u\n",
      "goodbye\n",
      "hello world\n",
      "how r u\n",
      "goodbye\n",
      "hello world\n",
      "how r u\n",
      "goodbye\n"
     ]
    }
   ],
   "source": [
    "show()\n",
    "show()\n",
    "show()"
   ]
  },
  {
   "cell_type": "code",
   "execution_count": 21,
   "id": "a1278145-dd11-4dbc-a158-bd03f87e2cb6",
   "metadata": {},
   "outputs": [],
   "source": [
    "# square of a number\n",
    "def square(a):\n",
    "    sq = a * a\n",
    "    print('square is', sq)"
   ]
  },
  {
   "cell_type": "code",
   "execution_count": 23,
   "id": "efa67461-ec2f-4ff5-916c-933b5750d19f",
   "metadata": {},
   "outputs": [
    {
     "name": "stdout",
     "output_type": "stream",
     "text": [
      "square is 100\n"
     ]
    }
   ],
   "source": [
    "square(10)"
   ]
  },
  {
   "cell_type": "code",
   "execution_count": 25,
   "id": "143ae5b8-ee62-4c41-b058-308eebdcee59",
   "metadata": {},
   "outputs": [],
   "source": [
    "def convert(a):\n",
    "    print('upper:', a.upper())\n",
    "    print('lower:', a.lower())\n",
    "    print('title:', a.title())"
   ]
  },
  {
   "cell_type": "code",
   "execution_count": 27,
   "id": "88e74637-f513-4f17-89fe-f0cb69b0a4c5",
   "metadata": {},
   "outputs": [
    {
     "name": "stdout",
     "output_type": "stream",
     "text": [
      "upper: SIA\n",
      "lower: sia\n",
      "title: Sia\n"
     ]
    }
   ],
   "source": [
    "convert(\"SIa\")"
   ]
  },
  {
   "cell_type": "code",
   "execution_count": 37,
   "id": "9b732a72-697b-4e71-98b4-9c42e61d3d0a",
   "metadata": {},
   "outputs": [],
   "source": [
    "def larger(x, y):\n",
    "    if x > y:\n",
    "        print(x, \"is greater than\", y)\n",
    "    elif x == y:\n",
    "        print(x, \"is equal to\", y)\n",
    "    else:\n",
    "        print(y, \"is greater than\", x)"
   ]
  },
  {
   "cell_type": "code",
   "execution_count": 41,
   "id": "aeec8829-f718-4288-8faf-84ac0e922be2",
   "metadata": {},
   "outputs": [
    {
     "name": "stdout",
     "output_type": "stream",
     "text": [
      "300 is equal to 300\n"
     ]
    }
   ],
   "source": [
    "larger(300, 300)"
   ]
  },
  {
   "cell_type": "code",
   "execution_count": 45,
   "id": "fcb3e5f0-3da7-45ed-8f6a-c8b8d44038c7",
   "metadata": {},
   "outputs": [],
   "source": [
    "def square(a):\n",
    "    sq = a * a\n",
    "    print(sq)"
   ]
  },
  {
   "cell_type": "code",
   "execution_count": 47,
   "id": "626585ae-0ea0-4dcd-8b16-a4dc0d68f1b4",
   "metadata": {},
   "outputs": [
    {
     "name": "stdout",
     "output_type": "stream",
     "text": [
      "100\n"
     ]
    }
   ],
   "source": [
    "square(10)"
   ]
  },
  {
   "cell_type": "code",
   "execution_count": 49,
   "id": "ea665ec1-bded-484f-a055-9146ecae05d9",
   "metadata": {},
   "outputs": [
    {
     "name": "stdout",
     "output_type": "stream",
     "text": [
      "100\n",
      "None\n"
     ]
    }
   ],
   "source": [
    "x = square(10)\n",
    "print(x)"
   ]
  },
  {
   "cell_type": "code",
   "execution_count": 51,
   "id": "d04bcf39-284f-4eb3-8b31-9dc9b4837e4b",
   "metadata": {},
   "outputs": [
    {
     "name": "stdout",
     "output_type": "stream",
     "text": [
      "None\n"
     ]
    }
   ],
   "source": [
    "print(x)"
   ]
  },
  {
   "cell_type": "code",
   "execution_count": 53,
   "id": "fcbbac07-1362-4133-9d77-305fb8b6a779",
   "metadata": {},
   "outputs": [],
   "source": [
    "# return \n",
    "\n",
    "def square(a):\n",
    "    sq = a * a\n",
    "    return sq"
   ]
  },
  {
   "cell_type": "code",
   "execution_count": 55,
   "id": "37f7202f-aefb-441b-8f1c-b5e9f96f48d1",
   "metadata": {},
   "outputs": [
    {
     "name": "stdout",
     "output_type": "stream",
     "text": [
      "100\n"
     ]
    }
   ],
   "source": [
    "x = square(10)\n",
    "print(x)"
   ]
  },
  {
   "cell_type": "code",
   "execution_count": 57,
   "id": "464e83d9-f6f1-4155-9781-d5809053a59c",
   "metadata": {},
   "outputs": [
    {
     "name": "stdout",
     "output_type": "stream",
     "text": [
      "100\n"
     ]
    }
   ],
   "source": [
    "print(x)"
   ]
  },
  {
   "cell_type": "code",
   "execution_count": 59,
   "id": "bc124157-3cf6-495c-b747-1ba1abad704e",
   "metadata": {},
   "outputs": [
    {
     "data": {
      "text/plain": [
       "131072"
      ]
     },
     "execution_count": 59,
     "metadata": {},
     "output_type": "execute_result"
    }
   ],
   "source": [
    "2 * square(256)"
   ]
  },
  {
   "cell_type": "code",
   "execution_count": 61,
   "id": "be3c0f8b-b779-4c01-a676-5f438bb80eb8",
   "metadata": {},
   "outputs": [],
   "source": [
    "# function with multiple return\n",
    "\n",
    "def calc(a):\n",
    "    sq = a ** 2\n",
    "    cu = a ** 3\n",
    "    return sq, cu"
   ]
  },
  {
   "cell_type": "code",
   "execution_count": 71,
   "id": "833e5f67-c6b4-4224-963d-62bf99ae718d",
   "metadata": {},
   "outputs": [
    {
     "data": {
      "text/plain": [
       "(100, 1000)"
      ]
     },
     "execution_count": 71,
     "metadata": {},
     "output_type": "execute_result"
    }
   ],
   "source": [
    "calc(10)"
   ]
  },
  {
   "cell_type": "code",
   "execution_count": null,
   "id": "9e6db027-7a34-40e1-83e2-92187507c9a1",
   "metadata": {},
   "outputs": [],
   "source": []
  },
  {
   "cell_type": "code",
   "execution_count": null,
   "id": "bd7aa117-57a2-4df1-a68d-9d16ec533905",
   "metadata": {},
   "outputs": [],
   "source": []
  },
  {
   "cell_type": "code",
   "execution_count": 75,
   "id": "da21e0c5-9c96-42e2-864a-f9e12b76aeff",
   "metadata": {},
   "outputs": [],
   "source": [
    "def add(a, b):\n",
    "    addi = a + b\n",
    "    print(addi)"
   ]
  },
  {
   "cell_type": "code",
   "execution_count": 77,
   "id": "457c6f0c-9336-453c-850b-49c24f8b043a",
   "metadata": {},
   "outputs": [
    {
     "name": "stdout",
     "output_type": "stream",
     "text": [
      "6\n"
     ]
    }
   ],
   "source": [
    "add(2,4)"
   ]
  },
  {
   "cell_type": "code",
   "execution_count": 79,
   "id": "6e840ea6-199c-44fc-925e-eb9bfafaa8d5",
   "metadata": {},
   "outputs": [
    {
     "name": "stdout",
     "output_type": "stream",
     "text": [
      "6\n"
     ]
    },
    {
     "ename": "TypeError",
     "evalue": "unsupported operand type(s) for *: 'NoneType' and 'int'",
     "output_type": "error",
     "traceback": [
      "\u001b[0;31m---------------------------------------------------------------------------\u001b[0m",
      "\u001b[0;31mTypeError\u001b[0m                                 Traceback (most recent call last)",
      "Cell \u001b[0;32mIn[79], line 1\u001b[0m\n\u001b[0;32m----> 1\u001b[0m add(\u001b[38;5;241m2\u001b[39m,\u001b[38;5;241m4\u001b[39m) \u001b[38;5;241m*\u001b[39m \u001b[38;5;241m2\u001b[39m\n",
      "\u001b[0;31mTypeError\u001b[0m: unsupported operand type(s) for *: 'NoneType' and 'int'"
     ]
    }
   ],
   "source": [
    "add(2,4) * 2"
   ]
  },
  {
   "cell_type": "code",
   "execution_count": 81,
   "id": "c2a31d42-c466-4a45-a280-85da788abf61",
   "metadata": {},
   "outputs": [],
   "source": [
    "def add1(a, b):\n",
    "    addi = a + b\n",
    "    return addi"
   ]
  },
  {
   "cell_type": "code",
   "execution_count": 83,
   "id": "879aa23d-1496-4872-a1c6-3460f32bc1c1",
   "metadata": {},
   "outputs": [
    {
     "data": {
      "text/plain": [
       "12"
      ]
     },
     "execution_count": 83,
     "metadata": {},
     "output_type": "execute_result"
    }
   ],
   "source": [
    "add1(2, 4) * 2"
   ]
  },
  {
   "cell_type": "code",
   "execution_count": 85,
   "id": "346d382e-0b09-493b-b5dd-f1cfd9df70df",
   "metadata": {},
   "outputs": [],
   "source": [
    "# write a function => convert the distance given in km to m"
   ]
  },
  {
   "cell_type": "code",
   "execution_count": 95,
   "id": "b5560f3b-f516-4022-af06-9709bd4e372d",
   "metadata": {},
   "outputs": [],
   "source": [
    "def km_to_m(a):\n",
    "    m = a * 1000\n",
    "    return f\"{m}m\""
   ]
  },
  {
   "cell_type": "code",
   "execution_count": 97,
   "id": "2633b893-3425-4fcd-a3e9-1fdadf2a7d4b",
   "metadata": {},
   "outputs": [
    {
     "data": {
      "text/plain": [
       "'5000m'"
      ]
     },
     "execution_count": 97,
     "metadata": {},
     "output_type": "execute_result"
    }
   ],
   "source": [
    "km_to_m(5)"
   ]
  },
  {
   "cell_type": "code",
   "execution_count": 101,
   "id": "b93942d4-14b3-4b7e-a10d-e7af777140d0",
   "metadata": {},
   "outputs": [],
   "source": [
    "# default parameters/arguments"
   ]
  },
  {
   "cell_type": "code",
   "execution_count": 127,
   "id": "8a4d0165-5ac3-4191-9d52-a57866735fda",
   "metadata": {},
   "outputs": [],
   "source": [
    "def add3(x = 1, y = 2, z = 3):\n",
    "    add = x + y + z\n",
    "    return add"
   ]
  },
  {
   "cell_type": "code",
   "execution_count": 131,
   "id": "1a6ba0de-992a-4317-9773-9eb1ec7311d4",
   "metadata": {},
   "outputs": [
    {
     "data": {
      "text/plain": [
       "13"
      ]
     },
     "execution_count": 131,
     "metadata": {},
     "output_type": "execute_result"
    }
   ],
   "source": [
    "add3(z = 10)"
   ]
  },
  {
   "cell_type": "markdown",
   "id": "4cd36930-2b8d-4044-8c3a-4aef890bc230",
   "metadata": {},
   "source": [
    "#### lambda function"
   ]
  },
  {
   "cell_type": "code",
   "execution_count": 134,
   "id": "531f6f58-5d6e-4017-bd08-4a46b0ff1ebd",
   "metadata": {},
   "outputs": [],
   "source": [
    "square = lambda a: a * a"
   ]
  },
  {
   "cell_type": "code",
   "execution_count": 136,
   "id": "f230b06d-13e0-42da-93df-d3d7728d398f",
   "metadata": {},
   "outputs": [
    {
     "data": {
      "text/plain": [
       "100"
      ]
     },
     "execution_count": 136,
     "metadata": {},
     "output_type": "execute_result"
    }
   ],
   "source": [
    "square(10)"
   ]
  },
  {
   "cell_type": "code",
   "execution_count": 138,
   "id": "ecd380c8-af8f-4ebd-a6a6-70ab155f83eb",
   "metadata": {},
   "outputs": [],
   "source": [
    "add1 = lambda a, b: a + b"
   ]
  },
  {
   "cell_type": "code",
   "execution_count": 140,
   "id": "eb1e466a-2162-40f6-9b3e-56c0dcb37035",
   "metadata": {},
   "outputs": [
    {
     "data": {
      "text/plain": [
       "7"
      ]
     },
     "execution_count": 140,
     "metadata": {},
     "output_type": "execute_result"
    }
   ],
   "source": [
    "add1(2, 5)"
   ]
  },
  {
   "cell_type": "code",
   "execution_count": 142,
   "id": "fccdf47d-0d06-49dd-aa58-3a7cb62cbb43",
   "metadata": {},
   "outputs": [],
   "source": [
    "add2 = lambda *args: sum(args)"
   ]
  },
  {
   "cell_type": "code",
   "execution_count": 148,
   "id": "1bdbe7ec-d93f-401b-be33-19c3b2c926f9",
   "metadata": {},
   "outputs": [
    {
     "data": {
      "text/plain": [
       "498"
      ]
     },
     "execution_count": 148,
     "metadata": {},
     "output_type": "execute_result"
    }
   ],
   "source": [
    "add2(1, 3, 4, 194, 23, 32, 241)"
   ]
  },
  {
   "cell_type": "code",
   "execution_count": 150,
   "id": "3367d8a4-b76b-4859-80ff-1f2900a3c23b",
   "metadata": {},
   "outputs": [],
   "source": [
    "def add2(*args):\n",
    "    return sum(args)"
   ]
  },
  {
   "cell_type": "code",
   "execution_count": 152,
   "id": "4bd7bf2f-85ae-4633-8ada-64ee5b7c7766",
   "metadata": {},
   "outputs": [
    {
     "data": {
      "text/plain": [
       "134"
      ]
     },
     "execution_count": 152,
     "metadata": {},
     "output_type": "execute_result"
    }
   ],
   "source": [
    "add2(23, 34, 53, 24)"
   ]
  },
  {
   "cell_type": "code",
   "execution_count": 154,
   "id": "c083c1fe-d745-4c95-a3a9-0544913bfd29",
   "metadata": {},
   "outputs": [],
   "source": [
    "# map"
   ]
  },
  {
   "cell_type": "code",
   "execution_count": 156,
   "id": "db121964-2e95-4f73-8234-03ccf6370c94",
   "metadata": {},
   "outputs": [],
   "source": [
    "l = [12, 15, 19, 20, 28, 30, 33]"
   ]
  },
  {
   "cell_type": "code",
   "execution_count": 158,
   "id": "c2a95ace-47b3-4467-a5a4-419cd49aba9d",
   "metadata": {},
   "outputs": [],
   "source": [
    "new = map(lambda x: x/2, l)"
   ]
  },
  {
   "cell_type": "code",
   "execution_count": 164,
   "id": "bb602321-ce63-4826-ab7d-718553da89f0",
   "metadata": {},
   "outputs": [
    {
     "data": {
      "text/plain": [
       "[6.0, 7.5, 9.5, 10.0, 14.0, 15.0, 16.5]"
      ]
     },
     "execution_count": 164,
     "metadata": {},
     "output_type": "execute_result"
    }
   ],
   "source": [
    "list(new)"
   ]
  },
  {
   "cell_type": "code",
   "execution_count": 168,
   "id": "9429344d-5a1a-46bf-9125-f2a0925f009d",
   "metadata": {},
   "outputs": [
    {
     "data": {
      "text/plain": [
       "[12, 15, 19, 20, 28, 30, 33]"
      ]
     },
     "execution_count": 168,
     "metadata": {},
     "output_type": "execute_result"
    }
   ],
   "source": [
    "# filter\n",
    "l"
   ]
  },
  {
   "cell_type": "code",
   "execution_count": 170,
   "id": "175f1a79-c387-499a-ba42-7d0023258625",
   "metadata": {},
   "outputs": [],
   "source": [
    "new1 = filter(lambda x: x > 20, l)"
   ]
  },
  {
   "cell_type": "code",
   "execution_count": 172,
   "id": "c76edb56-53fb-42da-ab2c-c8d5cbeed12e",
   "metadata": {},
   "outputs": [
    {
     "data": {
      "text/plain": [
       "[28, 30, 33]"
      ]
     },
     "execution_count": 172,
     "metadata": {},
     "output_type": "execute_result"
    }
   ],
   "source": [
    "list(new1)\n",
    "# apply filter on l and get only odd numbers"
   ]
  },
  {
   "cell_type": "code",
   "execution_count": 174,
   "id": "e3d70845-3e9f-49b2-867d-e348dfedbae1",
   "metadata": {},
   "outputs": [],
   "source": [
    "odd = filter(lambda x: x % 2 == 1, l)"
   ]
  },
  {
   "cell_type": "code",
   "execution_count": 176,
   "id": "6b93bec1-6a64-42a8-88cb-30719e53b0bb",
   "metadata": {},
   "outputs": [
    {
     "data": {
      "text/plain": [
       "[15, 19, 33]"
      ]
     },
     "execution_count": 176,
     "metadata": {},
     "output_type": "execute_result"
    }
   ],
   "source": [
    "list(odd)"
   ]
  },
  {
   "cell_type": "markdown",
   "id": "758c00a5-3a66-4f2b-b415-8cd4e3f7222a",
   "metadata": {},
   "source": [
    "# Modules"
   ]
  },
  {
   "cell_type": "code",
   "execution_count": 179,
   "id": "03e65f94-f6d5-4177-983e-2b85360b163b",
   "metadata": {},
   "outputs": [],
   "source": [
    "import math as m"
   ]
  },
  {
   "cell_type": "code",
   "execution_count": 181,
   "id": "4799e33f-76af-4f05-b927-3a2c2e4b0f93",
   "metadata": {},
   "outputs": [
    {
     "data": {
      "text/plain": [
       "3.0"
      ]
     },
     "execution_count": 181,
     "metadata": {},
     "output_type": "execute_result"
    }
   ],
   "source": [
    "m.sqrt(9)"
   ]
  },
  {
   "cell_type": "code",
   "execution_count": 183,
   "id": "007253b7-d031-4c29-8b8e-6259319d1674",
   "metadata": {},
   "outputs": [
    {
     "data": {
      "text/plain": [
       "2.302585092994046"
      ]
     },
     "execution_count": 183,
     "metadata": {},
     "output_type": "execute_result"
    }
   ],
   "source": [
    "m.log(10)"
   ]
  },
  {
   "cell_type": "code",
   "execution_count": 185,
   "id": "a4974c38-18b1-466e-9367-4ff353faacc6",
   "metadata": {},
   "outputs": [
    {
     "data": {
      "text/plain": [
       "3.141592653589793"
      ]
     },
     "execution_count": 185,
     "metadata": {},
     "output_type": "execute_result"
    }
   ],
   "source": [
    "m.pi"
   ]
  },
  {
   "cell_type": "code",
   "execution_count": 187,
   "id": "d3a86fd9-d546-4333-9331-8b217a4713c8",
   "metadata": {},
   "outputs": [],
   "source": [
    "import string"
   ]
  },
  {
   "cell_type": "code",
   "execution_count": 189,
   "id": "ac60c058-9c62-42a0-aed0-2f4a2d56f367",
   "metadata": {},
   "outputs": [
    {
     "data": {
      "text/plain": [
       "'!\"#$%&\\'()*+,-./:;<=>?@[\\\\]^_`{|}~'"
      ]
     },
     "execution_count": 189,
     "metadata": {},
     "output_type": "execute_result"
    }
   ],
   "source": [
    "string.punctuation"
   ]
  },
  {
   "cell_type": "code",
   "execution_count": 193,
   "id": "ce17ce86-aaae-48a3-ad33-db0588c5d557",
   "metadata": {},
   "outputs": [
    {
     "name": "stdout",
     "output_type": "stream",
     "text": [
      "Help on module math:\n",
      "\n",
      "NAME\n",
      "    math\n",
      "\n",
      "MODULE REFERENCE\n",
      "    https://docs.python.org/3.12/library/math.html\n",
      "\n",
      "    The following documentation is automatically generated from the Python\n",
      "    source files.  It may be incomplete, incorrect or include features that\n",
      "    are considered implementation detail and may vary between Python\n",
      "    implementations.  When in doubt, consult the module reference at the\n",
      "    location listed above.\n",
      "\n",
      "DESCRIPTION\n",
      "    This module provides access to the mathematical functions\n",
      "    defined by the C standard.\n",
      "\n",
      "FUNCTIONS\n",
      "    acos(x, /)\n",
      "        Return the arc cosine (measured in radians) of x.\n",
      "\n",
      "        The result is between 0 and pi.\n",
      "\n",
      "    acosh(x, /)\n",
      "        Return the inverse hyperbolic cosine of x.\n",
      "\n",
      "    asin(x, /)\n",
      "        Return the arc sine (measured in radians) of x.\n",
      "\n",
      "        The result is between -pi/2 and pi/2.\n",
      "\n",
      "    asinh(x, /)\n",
      "        Return the inverse hyperbolic sine of x.\n",
      "\n",
      "    atan(x, /)\n",
      "        Return the arc tangent (measured in radians) of x.\n",
      "\n",
      "        The result is between -pi/2 and pi/2.\n",
      "\n",
      "    atan2(y, x, /)\n",
      "        Return the arc tangent (measured in radians) of y/x.\n",
      "\n",
      "        Unlike atan(y/x), the signs of both x and y are considered.\n",
      "\n",
      "    atanh(x, /)\n",
      "        Return the inverse hyperbolic tangent of x.\n",
      "\n",
      "    cbrt(x, /)\n",
      "        Return the cube root of x.\n",
      "\n",
      "    ceil(x, /)\n",
      "        Return the ceiling of x as an Integral.\n",
      "\n",
      "        This is the smallest integer >= x.\n",
      "\n",
      "    comb(n, k, /)\n",
      "        Number of ways to choose k items from n items without repetition and without order.\n",
      "\n",
      "        Evaluates to n! / (k! * (n - k)!) when k <= n and evaluates\n",
      "        to zero when k > n.\n",
      "\n",
      "        Also called the binomial coefficient because it is equivalent\n",
      "        to the coefficient of k-th term in polynomial expansion of the\n",
      "        expression (1 + x)**n.\n",
      "\n",
      "        Raises TypeError if either of the arguments are not integers.\n",
      "        Raises ValueError if either of the arguments are negative.\n",
      "\n",
      "    copysign(x, y, /)\n",
      "        Return a float with the magnitude (absolute value) of x but the sign of y.\n",
      "\n",
      "        On platforms that support signed zeros, copysign(1.0, -0.0)\n",
      "        returns -1.0.\n",
      "\n",
      "    cos(x, /)\n",
      "        Return the cosine of x (measured in radians).\n",
      "\n",
      "    cosh(x, /)\n",
      "        Return the hyperbolic cosine of x.\n",
      "\n",
      "    degrees(x, /)\n",
      "        Convert angle x from radians to degrees.\n",
      "\n",
      "    dist(p, q, /)\n",
      "        Return the Euclidean distance between two points p and q.\n",
      "\n",
      "        The points should be specified as sequences (or iterables) of\n",
      "        coordinates.  Both inputs must have the same dimension.\n",
      "\n",
      "        Roughly equivalent to:\n",
      "            sqrt(sum((px - qx) ** 2.0 for px, qx in zip(p, q)))\n",
      "\n",
      "    erf(x, /)\n",
      "        Error function at x.\n",
      "\n",
      "    erfc(x, /)\n",
      "        Complementary error function at x.\n",
      "\n",
      "    exp(x, /)\n",
      "        Return e raised to the power of x.\n",
      "\n",
      "    exp2(x, /)\n",
      "        Return 2 raised to the power of x.\n",
      "\n",
      "    expm1(x, /)\n",
      "        Return exp(x)-1.\n",
      "\n",
      "        This function avoids the loss of precision involved in the direct evaluation of exp(x)-1 for small x.\n",
      "\n",
      "    fabs(x, /)\n",
      "        Return the absolute value of the float x.\n",
      "\n",
      "    factorial(n, /)\n",
      "        Find n!.\n",
      "\n",
      "        Raise a ValueError if x is negative or non-integral.\n",
      "\n",
      "    floor(x, /)\n",
      "        Return the floor of x as an Integral.\n",
      "\n",
      "        This is the largest integer <= x.\n",
      "\n",
      "    fmod(x, y, /)\n",
      "        Return fmod(x, y), according to platform C.\n",
      "\n",
      "        x % y may differ.\n",
      "\n",
      "    frexp(x, /)\n",
      "        Return the mantissa and exponent of x, as pair (m, e).\n",
      "\n",
      "        m is a float and e is an int, such that x = m * 2.**e.\n",
      "        If x is 0, m and e are both 0.  Else 0.5 <= abs(m) < 1.0.\n",
      "\n",
      "    fsum(seq, /)\n",
      "        Return an accurate floating point sum of values in the iterable seq.\n",
      "\n",
      "        Assumes IEEE-754 floating point arithmetic.\n",
      "\n",
      "    gamma(x, /)\n",
      "        Gamma function at x.\n",
      "\n",
      "    gcd(*integers)\n",
      "        Greatest Common Divisor.\n",
      "\n",
      "    hypot(...)\n",
      "        hypot(*coordinates) -> value\n",
      "\n",
      "        Multidimensional Euclidean distance from the origin to a point.\n",
      "\n",
      "        Roughly equivalent to:\n",
      "            sqrt(sum(x**2 for x in coordinates))\n",
      "\n",
      "        For a two dimensional point (x, y), gives the hypotenuse\n",
      "        using the Pythagorean theorem:  sqrt(x*x + y*y).\n",
      "\n",
      "        For example, the hypotenuse of a 3/4/5 right triangle is:\n",
      "\n",
      "            >>> hypot(3.0, 4.0)\n",
      "            5.0\n",
      "\n",
      "    isclose(a, b, *, rel_tol=1e-09, abs_tol=0.0)\n",
      "        Determine whether two floating point numbers are close in value.\n",
      "\n",
      "          rel_tol\n",
      "            maximum difference for being considered \"close\", relative to the\n",
      "            magnitude of the input values\n",
      "          abs_tol\n",
      "            maximum difference for being considered \"close\", regardless of the\n",
      "            magnitude of the input values\n",
      "\n",
      "        Return True if a is close in value to b, and False otherwise.\n",
      "\n",
      "        For the values to be considered close, the difference between them\n",
      "        must be smaller than at least one of the tolerances.\n",
      "\n",
      "        -inf, inf and NaN behave similarly to the IEEE 754 Standard.  That\n",
      "        is, NaN is not close to anything, even itself.  inf and -inf are\n",
      "        only close to themselves.\n",
      "\n",
      "    isfinite(x, /)\n",
      "        Return True if x is neither an infinity nor a NaN, and False otherwise.\n",
      "\n",
      "    isinf(x, /)\n",
      "        Return True if x is a positive or negative infinity, and False otherwise.\n",
      "\n",
      "    isnan(x, /)\n",
      "        Return True if x is a NaN (not a number), and False otherwise.\n",
      "\n",
      "    isqrt(n, /)\n",
      "        Return the integer part of the square root of the input.\n",
      "\n",
      "    lcm(*integers)\n",
      "        Least Common Multiple.\n",
      "\n",
      "    ldexp(x, i, /)\n",
      "        Return x * (2**i).\n",
      "\n",
      "        This is essentially the inverse of frexp().\n",
      "\n",
      "    lgamma(x, /)\n",
      "        Natural logarithm of absolute value of Gamma function at x.\n",
      "\n",
      "    log(...)\n",
      "        log(x, [base=math.e])\n",
      "        Return the logarithm of x to the given base.\n",
      "\n",
      "        If the base is not specified, returns the natural logarithm (base e) of x.\n",
      "\n",
      "    log10(x, /)\n",
      "        Return the base 10 logarithm of x.\n",
      "\n",
      "    log1p(x, /)\n",
      "        Return the natural logarithm of 1+x (base e).\n",
      "\n",
      "        The result is computed in a way which is accurate for x near zero.\n",
      "\n",
      "    log2(x, /)\n",
      "        Return the base 2 logarithm of x.\n",
      "\n",
      "    modf(x, /)\n",
      "        Return the fractional and integer parts of x.\n",
      "\n",
      "        Both results carry the sign of x and are floats.\n",
      "\n",
      "    nextafter(x, y, /, *, steps=None)\n",
      "        Return the floating-point value the given number of steps after x towards y.\n",
      "\n",
      "        If steps is not specified or is None, it defaults to 1.\n",
      "\n",
      "        Raises a TypeError, if x or y is not a double, or if steps is not an integer.\n",
      "        Raises ValueError if steps is negative.\n",
      "\n",
      "    perm(n, k=None, /)\n",
      "        Number of ways to choose k items from n items without repetition and with order.\n",
      "\n",
      "        Evaluates to n! / (n - k)! when k <= n and evaluates\n",
      "        to zero when k > n.\n",
      "\n",
      "        If k is not specified or is None, then k defaults to n\n",
      "        and the function returns n!.\n",
      "\n",
      "        Raises TypeError if either of the arguments are not integers.\n",
      "        Raises ValueError if either of the arguments are negative.\n",
      "\n",
      "    pow(x, y, /)\n",
      "        Return x**y (x to the power of y).\n",
      "\n",
      "    prod(iterable, /, *, start=1)\n",
      "        Calculate the product of all the elements in the input iterable.\n",
      "\n",
      "        The default start value for the product is 1.\n",
      "\n",
      "        When the iterable is empty, return the start value.  This function is\n",
      "        intended specifically for use with numeric values and may reject\n",
      "        non-numeric types.\n",
      "\n",
      "    radians(x, /)\n",
      "        Convert angle x from degrees to radians.\n",
      "\n",
      "    remainder(x, y, /)\n",
      "        Difference between x and the closest integer multiple of y.\n",
      "\n",
      "        Return x - n*y where n*y is the closest integer multiple of y.\n",
      "        In the case where x is exactly halfway between two multiples of\n",
      "        y, the nearest even value of n is used. The result is always exact.\n",
      "\n",
      "    sin(x, /)\n",
      "        Return the sine of x (measured in radians).\n",
      "\n",
      "    sinh(x, /)\n",
      "        Return the hyperbolic sine of x.\n",
      "\n",
      "    sqrt(x, /)\n",
      "        Return the square root of x.\n",
      "\n",
      "    sumprod(p, q, /)\n",
      "        Return the sum of products of values from two iterables p and q.\n",
      "\n",
      "        Roughly equivalent to:\n",
      "\n",
      "            sum(itertools.starmap(operator.mul, zip(p, q, strict=True)))\n",
      "\n",
      "        For float and mixed int/float inputs, the intermediate products\n",
      "        and sums are computed with extended precision.\n",
      "\n",
      "    tan(x, /)\n",
      "        Return the tangent of x (measured in radians).\n",
      "\n",
      "    tanh(x, /)\n",
      "        Return the hyperbolic tangent of x.\n",
      "\n",
      "    trunc(x, /)\n",
      "        Truncates the Real x to the nearest Integral toward 0.\n",
      "\n",
      "        Uses the __trunc__ magic method.\n",
      "\n",
      "    ulp(x, /)\n",
      "        Return the value of the least significant bit of the float x.\n",
      "\n",
      "DATA\n",
      "    e = 2.718281828459045\n",
      "    inf = inf\n",
      "    nan = nan\n",
      "    pi = 3.141592653589793\n",
      "    tau = 6.283185307179586\n",
      "\n",
      "FILE\n",
      "    /home/aditya/anaconda3/lib/python3.12/lib-dynload/math.cpython-312-x86_64-linux-gnu.so\n",
      "\n",
      "\n"
     ]
    }
   ],
   "source": [
    "help(m)"
   ]
  },
  {
   "cell_type": "code",
   "execution_count": 195,
   "id": "b1c7570f-8222-4f7a-adcc-a74641ac66a6",
   "metadata": {},
   "outputs": [],
   "source": [
    "import time"
   ]
  },
  {
   "cell_type": "code",
   "execution_count": 197,
   "id": "9922d7d7-c58e-45d6-980d-e4eb32cfb555",
   "metadata": {},
   "outputs": [
    {
     "data": {
      "text/plain": [
       "'Tue Feb 11 20:31:55 2025'"
      ]
     },
     "execution_count": 197,
     "metadata": {},
     "output_type": "execute_result"
    }
   ],
   "source": [
    "time.asctime()"
   ]
  },
  {
   "cell_type": "code",
   "execution_count": 199,
   "id": "1c54a7c6-de12-4516-942d-35cc2cbe505a",
   "metadata": {},
   "outputs": [],
   "source": [
    "import calendar"
   ]
  },
  {
   "cell_type": "code",
   "execution_count": 201,
   "id": "7793d2da-4b94-4f6d-ad34-638876eea8a6",
   "metadata": {},
   "outputs": [
    {
     "name": "stdout",
     "output_type": "stream",
     "text": [
      "                                  2025\n",
      "\n",
      "      January                   February                   March\n",
      "Mo Tu We Th Fr Sa Su      Mo Tu We Th Fr Sa Su      Mo Tu We Th Fr Sa Su\n",
      "       1  2  3  4  5                      1  2                      1  2\n",
      " 6  7  8  9 10 11 12       3  4  5  6  7  8  9       3  4  5  6  7  8  9\n",
      "13 14 15 16 17 18 19      10 11 12 13 14 15 16      10 11 12 13 14 15 16\n",
      "20 21 22 23 24 25 26      17 18 19 20 21 22 23      17 18 19 20 21 22 23\n",
      "27 28 29 30 31            24 25 26 27 28            24 25 26 27 28 29 30\n",
      "                                                    31\n",
      "\n",
      "       April                      May                       June\n",
      "Mo Tu We Th Fr Sa Su      Mo Tu We Th Fr Sa Su      Mo Tu We Th Fr Sa Su\n",
      "    1  2  3  4  5  6                1  2  3  4                         1\n",
      " 7  8  9 10 11 12 13       5  6  7  8  9 10 11       2  3  4  5  6  7  8\n",
      "14 15 16 17 18 19 20      12 13 14 15 16 17 18       9 10 11 12 13 14 15\n",
      "21 22 23 24 25 26 27      19 20 21 22 23 24 25      16 17 18 19 20 21 22\n",
      "28 29 30                  26 27 28 29 30 31         23 24 25 26 27 28 29\n",
      "                                                    30\n",
      "\n",
      "        July                     August                  September\n",
      "Mo Tu We Th Fr Sa Su      Mo Tu We Th Fr Sa Su      Mo Tu We Th Fr Sa Su\n",
      "    1  2  3  4  5  6                   1  2  3       1  2  3  4  5  6  7\n",
      " 7  8  9 10 11 12 13       4  5  6  7  8  9 10       8  9 10 11 12 13 14\n",
      "14 15 16 17 18 19 20      11 12 13 14 15 16 17      15 16 17 18 19 20 21\n",
      "21 22 23 24 25 26 27      18 19 20 21 22 23 24      22 23 24 25 26 27 28\n",
      "28 29 30 31               25 26 27 28 29 30 31      29 30\n",
      "\n",
      "      October                   November                  December\n",
      "Mo Tu We Th Fr Sa Su      Mo Tu We Th Fr Sa Su      Mo Tu We Th Fr Sa Su\n",
      "       1  2  3  4  5                      1  2       1  2  3  4  5  6  7\n",
      " 6  7  8  9 10 11 12       3  4  5  6  7  8  9       8  9 10 11 12 13 14\n",
      "13 14 15 16 17 18 19      10 11 12 13 14 15 16      15 16 17 18 19 20 21\n",
      "20 21 22 23 24 25 26      17 18 19 20 21 22 23      22 23 24 25 26 27 28\n",
      "27 28 29 30 31            24 25 26 27 28 29 30      29 30 31\n",
      "\n"
     ]
    }
   ],
   "source": [
    "print(calendar.calendar(2025))"
   ]
  },
  {
   "cell_type": "code",
   "execution_count": 203,
   "id": "4670ab98-19c5-4724-aa27-a4a7d0a708ec",
   "metadata": {},
   "outputs": [],
   "source": [
    "import dc_module as mod"
   ]
  },
  {
   "cell_type": "code",
   "execution_count": 205,
   "id": "f411f4b8-2965-47ba-ad0f-bc53b7be3b53",
   "metadata": {},
   "outputs": [
    {
     "name": "stdout",
     "output_type": "stream",
     "text": [
      "Aditya\n"
     ]
    }
   ],
   "source": [
    "mod.show123()"
   ]
  },
  {
   "cell_type": "code",
   "execution_count": null,
   "id": "db8c8b2b-1c27-4a1c-becd-36c1368b9f94",
   "metadata": {},
   "outputs": [],
   "source": []
  },
  {
   "cell_type": "code",
   "execution_count": 209,
   "id": "e9a9df6c-70a5-45b9-91aa-477690651a18",
   "metadata": {},
   "outputs": [],
   "source": [
    "e = [\"aditya\", 'raj', \" \"]"
   ]
  },
  {
   "cell_type": "code",
   "execution_count": 212,
   "id": "61a2de85-319e-48c9-8010-92c815265b96",
   "metadata": {},
   "outputs": [
    {
     "data": {
      "text/plain": [
       "['aditya', 'raj', ' ']"
      ]
     },
     "execution_count": 212,
     "metadata": {},
     "output_type": "execute_result"
    }
   ],
   "source": [
    "e"
   ]
  },
  {
   "cell_type": "code",
   "execution_count": 214,
   "id": "9ecfe76b-75fd-469e-8c05-48fc6efefb40",
   "metadata": {},
   "outputs": [],
   "source": [
    "d = {\" \": 34}"
   ]
  },
  {
   "cell_type": "code",
   "execution_count": 216,
   "id": "0ff00d57-bd39-4f55-be6e-49c2db39f4db",
   "metadata": {},
   "outputs": [
    {
     "data": {
      "text/plain": [
       "{' ': 34}"
      ]
     },
     "execution_count": 216,
     "metadata": {},
     "output_type": "execute_result"
    }
   ],
   "source": [
    "d"
   ]
  },
  {
   "cell_type": "code",
   "execution_count": 222,
   "id": "68767f2a-4cea-4631-9be2-87fa9cab95f6",
   "metadata": {},
   "outputs": [
    {
     "ename": "SyntaxError",
     "evalue": "expression expected after dictionary key and ':' (2706129416.py, line 1)",
     "output_type": "error",
     "traceback": [
      "\u001b[0;36m  Cell \u001b[0;32mIn[222], line 1\u001b[0;36m\u001b[0m\n\u001b[0;31m    d = {\"a\": , \"b\": 12}\u001b[0m\n\u001b[0m            ^\u001b[0m\n\u001b[0;31mSyntaxError\u001b[0m\u001b[0;31m:\u001b[0m expression expected after dictionary key and ':'\n"
     ]
    }
   ],
   "source": [
    "d = {\"a\": , \"b\": 12}"
   ]
  },
  {
   "cell_type": "code",
   "execution_count": 224,
   "id": "06292da2-ca51-40bb-ba89-5f4496d11670",
   "metadata": {},
   "outputs": [],
   "source": [
    "import pandas as pd"
   ]
  },
  {
   "cell_type": "code",
   "execution_count": 226,
   "id": "c7c981e9-e754-4564-8756-f265405a38a8",
   "metadata": {},
   "outputs": [
    {
     "data": {
      "text/html": [
       "<div>\n",
       "<style scoped>\n",
       "    .dataframe tbody tr th:only-of-type {\n",
       "        vertical-align: middle;\n",
       "    }\n",
       "\n",
       "    .dataframe tbody tr th {\n",
       "        vertical-align: top;\n",
       "    }\n",
       "\n",
       "    .dataframe thead th {\n",
       "        text-align: right;\n",
       "    }\n",
       "</style>\n",
       "<table border=\"1\" class=\"dataframe\">\n",
       "  <thead>\n",
       "    <tr style=\"text-align: right;\">\n",
       "      <th></th>\n",
       "      <th>roll</th>\n",
       "      <th>marks</th>\n",
       "    </tr>\n",
       "  </thead>\n",
       "  <tbody>\n",
       "    <tr>\n",
       "      <th>0</th>\n",
       "      <td>1</td>\n",
       "      <td>22</td>\n",
       "    </tr>\n",
       "    <tr>\n",
       "      <th>1</th>\n",
       "      <td>2</td>\n",
       "      <td>33</td>\n",
       "    </tr>\n",
       "    <tr>\n",
       "      <th>2</th>\n",
       "      <td>3</td>\n",
       "      <td>44</td>\n",
       "    </tr>\n",
       "  </tbody>\n",
       "</table>\n",
       "</div>"
      ],
      "text/plain": [
       "   roll  marks\n",
       "0     1     22\n",
       "1     2     33\n",
       "2     3     44"
      ]
     },
     "execution_count": 226,
     "metadata": {},
     "output_type": "execute_result"
    }
   ],
   "source": [
    "pd.DataFrame({\n",
    "    'roll': [1, 2, 3],\n",
    "    'marks': [22, 33, 44]\n",
    "})"
   ]
  },
  {
   "cell_type": "code",
   "execution_count": null,
   "id": "483a548c-89db-43b8-8277-430c0a0a9085",
   "metadata": {},
   "outputs": [],
   "source": []
  }
 ],
 "metadata": {
  "kernelspec": {
   "display_name": "Python 3 (ipykernel)",
   "language": "python",
   "name": "python3"
  },
  "language_info": {
   "codemirror_mode": {
    "name": "ipython",
    "version": 3
   },
   "file_extension": ".py",
   "mimetype": "text/x-python",
   "name": "python",
   "nbconvert_exporter": "python",
   "pygments_lexer": "ipython3",
   "version": "3.12.4"
  }
 },
 "nbformat": 4,
 "nbformat_minor": 5
}
