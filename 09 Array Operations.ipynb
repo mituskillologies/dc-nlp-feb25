{
 "cells": [
  {
   "cell_type": "code",
   "execution_count": 1,
   "id": "4c0124db-a5d7-4e1d-b6fa-d3b01b6a7322",
   "metadata": {},
   "outputs": [],
   "source": [
    "import numpy as np"
   ]
  },
  {
   "cell_type": "code",
   "execution_count": 2,
   "id": "e1dac8d6-a899-4f25-92f7-47eac12b2c3a",
   "metadata": {},
   "outputs": [],
   "source": [
    "# create an array\n",
    "x = np.array([45,22,13,56,78,54,17])"
   ]
  },
  {
   "cell_type": "code",
   "execution_count": 3,
   "id": "ed4c99da-3964-425c-b57f-e9de861a0f52",
   "metadata": {},
   "outputs": [
    {
     "name": "stdout",
     "output_type": "stream",
     "text": [
      "[45 22 13 56 78 54 17]\n"
     ]
    }
   ],
   "source": [
    "print(x)"
   ]
  },
  {
   "cell_type": "code",
   "execution_count": 4,
   "id": "ab21055d-55b4-441a-9bab-40c07ee5665f",
   "metadata": {},
   "outputs": [
    {
     "data": {
      "text/plain": [
       "array([45, 22, 13, 56, 78, 54, 17])"
      ]
     },
     "execution_count": 4,
     "metadata": {},
     "output_type": "execute_result"
    }
   ],
   "source": [
    "x"
   ]
  },
  {
   "cell_type": "code",
   "execution_count": 5,
   "id": "f4df023d-8ae5-4ad1-99b2-758e9c694ed8",
   "metadata": {},
   "outputs": [
    {
     "data": {
      "text/plain": [
       "numpy.ndarray"
      ]
     },
     "execution_count": 5,
     "metadata": {},
     "output_type": "execute_result"
    }
   ],
   "source": [
    "type(x)"
   ]
  },
  {
   "cell_type": "code",
   "execution_count": 6,
   "id": "28f33bb3-df59-4901-b67c-61a7933e59cb",
   "metadata": {},
   "outputs": [
    {
     "data": {
      "text/plain": [
       "56"
      ]
     },
     "execution_count": 6,
     "metadata": {},
     "output_type": "execute_result"
    }
   ],
   "source": [
    "x[3]"
   ]
  },
  {
   "cell_type": "code",
   "execution_count": 7,
   "id": "27b31770-f2c7-4938-9c30-014a7abb5769",
   "metadata": {},
   "outputs": [
    {
     "data": {
      "text/plain": [
       "array([45, 22, 13, 87, 78, 54, 17])"
      ]
     },
     "execution_count": 7,
     "metadata": {},
     "output_type": "execute_result"
    }
   ],
   "source": [
    "x[3] = 87\n",
    "x"
   ]
  },
  {
   "cell_type": "code",
   "execution_count": 8,
   "id": "cb0a4ffe-7ebb-44a3-97b2-6940a9466936",
   "metadata": {},
   "outputs": [
    {
     "data": {
      "text/plain": [
       "dtype('int64')"
      ]
     },
     "execution_count": 8,
     "metadata": {},
     "output_type": "execute_result"
    }
   ],
   "source": [
    "x.dtype"
   ]
  },
  {
   "cell_type": "code",
   "execution_count": 12,
   "id": "26b6c9b1-2f60-4d3c-932c-c583ba1f68e1",
   "metadata": {},
   "outputs": [],
   "source": [
    "y = np.array([45,22,13,56,78.67,54,17])"
   ]
  },
  {
   "cell_type": "code",
   "execution_count": 13,
   "id": "f9cc24b9-21cf-4401-a692-b6460bb08688",
   "metadata": {},
   "outputs": [
    {
     "data": {
      "text/plain": [
       "array([45.  , 22.  , 13.  , 56.  , 78.67, 54.  , 17.  ])"
      ]
     },
     "execution_count": 13,
     "metadata": {},
     "output_type": "execute_result"
    }
   ],
   "source": [
    "y"
   ]
  },
  {
   "cell_type": "code",
   "execution_count": 14,
   "id": "2009e823-c027-4476-9a98-6397a824614d",
   "metadata": {},
   "outputs": [
    {
     "data": {
      "text/plain": [
       "13.0"
      ]
     },
     "execution_count": 14,
     "metadata": {},
     "output_type": "execute_result"
    }
   ],
   "source": [
    "y[2]"
   ]
  },
  {
   "cell_type": "code",
   "execution_count": 15,
   "id": "fa14becc-958c-4eab-a70a-a463b96376e7",
   "metadata": {},
   "outputs": [
    {
     "data": {
      "text/plain": [
       "dtype('float64')"
      ]
     },
     "execution_count": 15,
     "metadata": {},
     "output_type": "execute_result"
    }
   ],
   "source": [
    "y.dtype"
   ]
  },
  {
   "cell_type": "code",
   "execution_count": 16,
   "id": "d740fe16-be7c-4459-96f2-d481b0aa4cd3",
   "metadata": {},
   "outputs": [
    {
     "data": {
      "text/plain": [
       "7"
      ]
     },
     "execution_count": 16,
     "metadata": {},
     "output_type": "execute_result"
    }
   ],
   "source": [
    "x.size"
   ]
  },
  {
   "cell_type": "code",
   "execution_count": 18,
   "id": "9cb40928-5b8a-4d14-9f9a-04baca5b6b52",
   "metadata": {},
   "outputs": [
    {
     "data": {
      "text/plain": [
       "13"
      ]
     },
     "execution_count": 18,
     "metadata": {},
     "output_type": "execute_result"
    }
   ],
   "source": [
    "x.min()"
   ]
  },
  {
   "cell_type": "code",
   "execution_count": 19,
   "id": "cd203c00-1404-43fb-a413-09d76ae2dd66",
   "metadata": {},
   "outputs": [
    {
     "data": {
      "text/plain": [
       "(45.142857142857146, 87, 316)"
      ]
     },
     "execution_count": 19,
     "metadata": {},
     "output_type": "execute_result"
    }
   ],
   "source": [
    "x.mean(), x.max(), x.sum(), "
   ]
  },
  {
   "cell_type": "code",
   "execution_count": 20,
   "id": "99884b27-4fa1-4bf0-91c2-e20c992ae728",
   "metadata": {},
   "outputs": [
    {
     "data": {
      "text/plain": [
       "array([45, 22, 13, 87, 78, 54, 17])"
      ]
     },
     "execution_count": 20,
     "metadata": {},
     "output_type": "execute_result"
    }
   ],
   "source": [
    "x"
   ]
  },
  {
   "cell_type": "code",
   "execution_count": 21,
   "id": "759f2b51-6fd1-4cb0-9d89-ddd545e4b18a",
   "metadata": {},
   "outputs": [
    {
     "data": {
      "text/plain": [
       "array([55, 32, 23, 97, 88, 64, 27])"
      ]
     },
     "execution_count": 21,
     "metadata": {},
     "output_type": "execute_result"
    }
   ],
   "source": [
    "x + 10"
   ]
  },
  {
   "cell_type": "code",
   "execution_count": 22,
   "id": "53419f9e-b245-4f62-8582-d33a0c9b11e9",
   "metadata": {},
   "outputs": [
    {
     "data": {
      "text/plain": [
       "array([ 90,  44,  26, 174, 156, 108,  34])"
      ]
     },
     "execution_count": 22,
     "metadata": {},
     "output_type": "execute_result"
    }
   ],
   "source": [
    "x * 2"
   ]
  },
  {
   "cell_type": "code",
   "execution_count": 23,
   "id": "4da31ac9-ab45-4e12-8046-5be928d6bec1",
   "metadata": {},
   "outputs": [
    {
     "data": {
      "text/plain": [
       "array([15.        ,  7.33333333,  4.33333333, 29.        , 26.        ,\n",
       "       18.        ,  5.66666667])"
      ]
     },
     "execution_count": 23,
     "metadata": {},
     "output_type": "execute_result"
    }
   ],
   "source": [
    "x / 3"
   ]
  },
  {
   "cell_type": "code",
   "execution_count": 24,
   "id": "a9078fb4-9d1a-48d0-a517-a224f8b71f86",
   "metadata": {},
   "outputs": [
    {
     "data": {
      "text/plain": [
       "array([ True, False, False,  True,  True,  True, False])"
      ]
     },
     "execution_count": 24,
     "metadata": {},
     "output_type": "execute_result"
    }
   ],
   "source": [
    "x > 40"
   ]
  },
  {
   "cell_type": "code",
   "execution_count": 25,
   "id": "95b269cc-605a-4292-83df-f2d68adb738a",
   "metadata": {},
   "outputs": [
    {
     "data": {
      "text/plain": [
       "array([45, 87, 78, 54])"
      ]
     },
     "execution_count": 25,
     "metadata": {},
     "output_type": "execute_result"
    }
   ],
   "source": [
    "x[x > 40]"
   ]
  },
  {
   "cell_type": "code",
   "execution_count": 26,
   "id": "1ac0e4bc-e921-4abd-97b3-3a302c1c334d",
   "metadata": {},
   "outputs": [
    {
     "data": {
      "text/plain": [
       "54"
      ]
     },
     "execution_count": 26,
     "metadata": {},
     "output_type": "execute_result"
    }
   ],
   "source": [
    "x[5]"
   ]
  },
  {
   "cell_type": "code",
   "execution_count": 27,
   "id": "fd5dc8d8-0a6e-4d40-9366-67720f733e6b",
   "metadata": {},
   "outputs": [
    {
     "data": {
      "text/plain": [
       "array([45, 22, 13, 87, 78, 54, 17])"
      ]
     },
     "execution_count": 27,
     "metadata": {},
     "output_type": "execute_result"
    }
   ],
   "source": [
    "x"
   ]
  },
  {
   "cell_type": "code",
   "execution_count": 28,
   "id": "fbfb14a3-02f8-44f1-be86-39e232e6b262",
   "metadata": {},
   "outputs": [],
   "source": [
    "y = np.array([10,54,11,75,44,78,22])"
   ]
  },
  {
   "cell_type": "code",
   "execution_count": 29,
   "id": "b22fa1ae-ece6-4be7-8880-7443d492fd6a",
   "metadata": {},
   "outputs": [
    {
     "data": {
      "text/plain": [
       "array([ 55,  76,  24, 162, 122, 132,  39])"
      ]
     },
     "execution_count": 29,
     "metadata": {},
     "output_type": "execute_result"
    }
   ],
   "source": [
    "x + y"
   ]
  },
  {
   "cell_type": "code",
   "execution_count": 30,
   "id": "4e64e361-42a2-4476-a027-af1a56b41293",
   "metadata": {},
   "outputs": [
    {
     "data": {
      "text/plain": [
       "array([ 35, -32,   2,  12,  34, -24,  -5])"
      ]
     },
     "execution_count": 30,
     "metadata": {},
     "output_type": "execute_result"
    }
   ],
   "source": [
    "x - y"
   ]
  },
  {
   "cell_type": "code",
   "execution_count": 31,
   "id": "c37cbb93-b79c-4704-90f2-0a019ec0988b",
   "metadata": {},
   "outputs": [
    {
     "data": {
      "text/plain": [
       "array([0, 1, 2, 3, 4, 5, 6, 7, 8, 9])"
      ]
     },
     "execution_count": 31,
     "metadata": {},
     "output_type": "execute_result"
    }
   ],
   "source": [
    "num = np.arange(10)\n",
    "num"
   ]
  },
  {
   "cell_type": "code",
   "execution_count": 32,
   "id": "b76054a2-24c3-43ab-ab82-13814e96a509",
   "metadata": {},
   "outputs": [
    {
     "data": {
      "text/plain": [
       "array([3, 4, 5, 6, 7, 8, 9])"
      ]
     },
     "execution_count": 32,
     "metadata": {},
     "output_type": "execute_result"
    }
   ],
   "source": [
    "num = np.arange(3, 10)\n",
    "num"
   ]
  },
  {
   "cell_type": "code",
   "execution_count": 33,
   "id": "7d23a711-049d-4e5b-9461-d52a55cc28dc",
   "metadata": {},
   "outputs": [
    {
     "data": {
      "text/plain": [
       "array([1, 3, 5, 7, 9])"
      ]
     },
     "execution_count": 33,
     "metadata": {},
     "output_type": "execute_result"
    }
   ],
   "source": [
    "num = np.arange(1,10,2)\n",
    "num"
   ]
  },
  {
   "cell_type": "code",
   "execution_count": 34,
   "id": "f26d7898-8e0c-4555-9149-0f1443561f02",
   "metadata": {},
   "outputs": [],
   "source": [
    "z = np.zeros(10)"
   ]
  },
  {
   "cell_type": "code",
   "execution_count": 35,
   "id": "e821c632-a399-438d-bec9-d6e6a64a4ea1",
   "metadata": {},
   "outputs": [
    {
     "data": {
      "text/plain": [
       "array([0., 0., 0., 0., 0., 0., 0., 0., 0., 0.])"
      ]
     },
     "execution_count": 35,
     "metadata": {},
     "output_type": "execute_result"
    }
   ],
   "source": [
    "z"
   ]
  },
  {
   "cell_type": "code",
   "execution_count": 36,
   "id": "5b720e3e-7a67-4149-878c-a27606bc581a",
   "metadata": {},
   "outputs": [],
   "source": [
    "z = np.zeros(10, dtype = np.int16)"
   ]
  },
  {
   "cell_type": "code",
   "execution_count": 37,
   "id": "275fbb04-03a3-4dc5-9244-7762e2027b72",
   "metadata": {},
   "outputs": [
    {
     "data": {
      "text/plain": [
       "array([0, 0, 0, 0, 0, 0, 0, 0, 0, 0], dtype=int16)"
      ]
     },
     "execution_count": 37,
     "metadata": {},
     "output_type": "execute_result"
    }
   ],
   "source": [
    "z"
   ]
  },
  {
   "cell_type": "code",
   "execution_count": 38,
   "id": "f832bb17-2e09-4c64-9956-144c99a713a3",
   "metadata": {},
   "outputs": [],
   "source": [
    "o = np.ones(10, dtype = np.int16)"
   ]
  },
  {
   "cell_type": "code",
   "execution_count": 39,
   "id": "d1553c29-652a-4973-bc27-512b1d5c5c38",
   "metadata": {},
   "outputs": [
    {
     "data": {
      "text/plain": [
       "array([1, 1, 1, 1, 1, 1, 1, 1, 1, 1], dtype=int16)"
      ]
     },
     "execution_count": 39,
     "metadata": {},
     "output_type": "execute_result"
    }
   ],
   "source": [
    "o"
   ]
  },
  {
   "cell_type": "markdown",
   "id": "29a847da-97ae-463a-a5e8-f8dcd6ea4115",
   "metadata": {},
   "source": [
    "##### Two dimensional array"
   ]
  },
  {
   "cell_type": "code",
   "execution_count": 41,
   "id": "ef71a442-d024-4a27-9651-91b13e055535",
   "metadata": {},
   "outputs": [],
   "source": [
    "num = np.array([[5,6,7],[2,1,3],[7,6,8],[9,0,2]])"
   ]
  },
  {
   "cell_type": "code",
   "execution_count": 42,
   "id": "ff0b4484-77b3-4e2b-8c74-8e16aa35e8de",
   "metadata": {},
   "outputs": [
    {
     "data": {
      "text/plain": [
       "array([[5, 6, 7],\n",
       "       [2, 1, 3],\n",
       "       [7, 6, 8],\n",
       "       [9, 0, 2]])"
      ]
     },
     "execution_count": 42,
     "metadata": {},
     "output_type": "execute_result"
    }
   ],
   "source": [
    "num"
   ]
  },
  {
   "cell_type": "code",
   "execution_count": 43,
   "id": "7e890637-0c59-4a36-ac94-81acc2a80d2c",
   "metadata": {},
   "outputs": [
    {
     "data": {
      "text/plain": [
       "(4, 3)"
      ]
     },
     "execution_count": 43,
     "metadata": {},
     "output_type": "execute_result"
    }
   ],
   "source": [
    "num.shape"
   ]
  },
  {
   "cell_type": "code",
   "execution_count": 44,
   "id": "7179c0d3-0b8d-4149-b6bd-0ba06adad58d",
   "metadata": {},
   "outputs": [
    {
     "data": {
      "text/plain": [
       "numpy.ndarray"
      ]
     },
     "execution_count": 44,
     "metadata": {},
     "output_type": "execute_result"
    }
   ],
   "source": [
    "type(num)"
   ]
  },
  {
   "cell_type": "code",
   "execution_count": 45,
   "id": "df77fb27-6ac4-4ba4-9474-c1dc49e3c04a",
   "metadata": {},
   "outputs": [
    {
     "data": {
      "text/plain": [
       "6"
      ]
     },
     "execution_count": 45,
     "metadata": {},
     "output_type": "execute_result"
    }
   ],
   "source": [
    "num[2][1]"
   ]
  },
  {
   "cell_type": "code",
   "execution_count": 46,
   "id": "64dd4e95-db98-465e-81e9-a302ce617f66",
   "metadata": {},
   "outputs": [],
   "source": [
    "num[2][1] = 10"
   ]
  },
  {
   "cell_type": "code",
   "execution_count": 47,
   "id": "0685eb84-1fa6-460d-9d82-d7fae75b2f57",
   "metadata": {},
   "outputs": [
    {
     "data": {
      "text/plain": [
       "array([[ 5,  6,  7],\n",
       "       [ 2,  1,  3],\n",
       "       [ 7, 10,  8],\n",
       "       [ 9,  0,  2]])"
      ]
     },
     "execution_count": 47,
     "metadata": {},
     "output_type": "execute_result"
    }
   ],
   "source": [
    "num"
   ]
  },
  {
   "cell_type": "code",
   "execution_count": 48,
   "id": "e3e6a6cf-76ef-4b2c-bef4-91ff70289e4d",
   "metadata": {},
   "outputs": [
    {
     "data": {
      "text/plain": [
       "array([ 5,  6,  7,  2,  1,  3,  7, 10,  8,  9,  0,  2])"
      ]
     },
     "execution_count": 48,
     "metadata": {},
     "output_type": "execute_result"
    }
   ],
   "source": [
    "num.flatten()"
   ]
  },
  {
   "cell_type": "code",
   "execution_count": 49,
   "id": "76c62240-bfa0-43d0-93ac-0be9de3e61b7",
   "metadata": {},
   "outputs": [
    {
     "data": {
      "text/plain": [
       "array([[ 5,  2,  7,  9],\n",
       "       [ 6,  1, 10,  0],\n",
       "       [ 7,  3,  8,  2]])"
      ]
     },
     "execution_count": 49,
     "metadata": {},
     "output_type": "execute_result"
    }
   ],
   "source": [
    "num.T"
   ]
  },
  {
   "cell_type": "code",
   "execution_count": null,
   "id": "bfb56602-09eb-4d6f-a16e-1db346e0c955",
   "metadata": {},
   "outputs": [],
   "source": [
    "num."
   ]
  }
 ],
 "metadata": {
  "kernelspec": {
   "display_name": "Python 3 (ipykernel)",
   "language": "python",
   "name": "python3"
  },
  "language_info": {
   "codemirror_mode": {
    "name": "ipython",
    "version": 3
   },
   "file_extension": ".py",
   "mimetype": "text/x-python",
   "name": "python",
   "nbconvert_exporter": "python",
   "pygments_lexer": "ipython3",
   "version": "3.10.12"
  }
 },
 "nbformat": 4,
 "nbformat_minor": 5
}
