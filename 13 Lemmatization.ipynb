{
 "cells": [
  {
   "cell_type": "code",
   "execution_count": 1,
   "id": "a3f9491f-f598-4989-91e3-e96397f053ae",
   "metadata": {},
   "outputs": [],
   "source": [
    "words1 = 'played','playing','plays','player'\n",
    "words2 = 'get','got','getting'\n",
    "words3 = 'bad','worse','worst'\n",
    "words4 = 'big','bigger','biggest'\n",
    "words5 = 'go','gone','went','going'"
   ]
  },
  {
   "cell_type": "code",
   "execution_count": 2,
   "id": "5bf403aa-59e7-4afe-a6f7-e317afa9d508",
   "metadata": {},
   "outputs": [],
   "source": [
    "from nltk.stem import WordNetLemmatizer"
   ]
  },
  {
   "cell_type": "code",
   "execution_count": 4,
   "id": "61554769-2d0b-45ba-b0fb-32bcbd523de7",
   "metadata": {},
   "outputs": [],
   "source": [
    "wnl = WordNetLemmatizer()"
   ]
  },
  {
   "cell_type": "code",
   "execution_count": 5,
   "id": "512ea165-5aa4-489b-b052-4dd3f1ba80c1",
   "metadata": {},
   "outputs": [
    {
     "data": {
      "text/plain": [
       "'work'"
      ]
     },
     "execution_count": 5,
     "metadata": {},
     "output_type": "execute_result"
    }
   ],
   "source": [
    "# n -> noun\n",
    "# v -> verb\n",
    "# a -> adjective\n",
    "# r -> adverb\n",
    "wnl.lemmatize('working', pos = 'v')"
   ]
  },
  {
   "cell_type": "code",
   "execution_count": 6,
   "id": "713bfd13-5687-4d44-a590-ff0771b1c13d",
   "metadata": {},
   "outputs": [
    {
     "data": {
      "text/plain": [
       "'student'"
      ]
     },
     "execution_count": 6,
     "metadata": {},
     "output_type": "execute_result"
    }
   ],
   "source": [
    "wnl.lemmatize('students', pos = 'n')"
   ]
  },
  {
   "cell_type": "code",
   "execution_count": 7,
   "id": "f2f54663-fbc2-408b-bcb6-6d3c39feff1b",
   "metadata": {},
   "outputs": [
    {
     "data": {
      "text/plain": [
       "'small'"
      ]
     },
     "execution_count": 7,
     "metadata": {},
     "output_type": "execute_result"
    }
   ],
   "source": [
    "wnl.lemmatize('smaller', pos = 'a')"
   ]
  },
  {
   "cell_type": "code",
   "execution_count": 8,
   "id": "4d000fc0-bc28-45c5-bd20-429631915747",
   "metadata": {},
   "outputs": [
    {
     "name": "stdout",
     "output_type": "stream",
     "text": [
      "play\n",
      "play\n",
      "play\n",
      "player\n"
     ]
    }
   ],
   "source": [
    "for word in words1:\n",
    "    print(wnl.lemmatize(word, pos = 'v'))"
   ]
  },
  {
   "cell_type": "code",
   "execution_count": 9,
   "id": "6a431d73-36fb-4157-9dd1-00d2285a3f2b",
   "metadata": {},
   "outputs": [
    {
     "name": "stdout",
     "output_type": "stream",
     "text": [
      "get\n",
      "get\n",
      "get\n"
     ]
    }
   ],
   "source": [
    "for word in words2:\n",
    "    print(wnl.lemmatize(word, pos = 'v'))"
   ]
  },
  {
   "cell_type": "code",
   "execution_count": 10,
   "id": "2f7d363e-6bb5-4671-8887-83d34137e9f7",
   "metadata": {},
   "outputs": [
    {
     "name": "stdout",
     "output_type": "stream",
     "text": [
      "bad\n",
      "bad\n",
      "bad\n"
     ]
    }
   ],
   "source": [
    "for word in words3:\n",
    "    print(wnl.lemmatize(word, pos = 'a'))"
   ]
  },
  {
   "cell_type": "code",
   "execution_count": 12,
   "id": "8594be91-9c50-4a56-9e2e-6533dd132a29",
   "metadata": {},
   "outputs": [
    {
     "name": "stdout",
     "output_type": "stream",
     "text": [
      "big\n",
      "big\n",
      "big\n"
     ]
    }
   ],
   "source": [
    "for word in words4:\n",
    "    print(wnl.lemmatize(word, pos = 'a'))"
   ]
  },
  {
   "cell_type": "code",
   "execution_count": null,
   "id": "c5629366-6a16-4d7d-b171-fd168452eac3",
   "metadata": {},
   "outputs": [],
   "source": []
  }
 ],
 "metadata": {
  "kernelspec": {
   "display_name": "Python 3 (ipykernel)",
   "language": "python",
   "name": "python3"
  },
  "language_info": {
   "codemirror_mode": {
    "name": "ipython",
    "version": 3
   },
   "file_extension": ".py",
   "mimetype": "text/x-python",
   "name": "python",
   "nbconvert_exporter": "python",
   "pygments_lexer": "ipython3",
   "version": "3.10.12"
  }
 },
 "nbformat": 4,
 "nbformat_minor": 5
}
