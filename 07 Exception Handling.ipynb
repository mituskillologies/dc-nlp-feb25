{
 "cells": [
  {
   "cell_type": "code",
   "execution_count": 1,
   "id": "a60ff667-a961-4ec4-a310-867c767466bd",
   "metadata": {},
   "outputs": [
    {
     "ename": "NameError",
     "evalue": "name 'num2' is not defined",
     "output_type": "error",
     "traceback": [
      "\u001b[0;31m---------------------------------------------------------------------------\u001b[0m",
      "\u001b[0;31mNameError\u001b[0m                                 Traceback (most recent call last)",
      "Cell \u001b[0;32mIn[1], line 2\u001b[0m\n\u001b[1;32m      1\u001b[0m num1 \u001b[38;5;241m=\u001b[39m \u001b[38;5;241m89\u001b[39m\n\u001b[0;32m----> 2\u001b[0m result \u001b[38;5;241m=\u001b[39m num1 \u001b[38;5;241m+\u001b[39m \u001b[43mnum2\u001b[49m\n\u001b[1;32m      3\u001b[0m \u001b[38;5;28mprint\u001b[39m(result)\n",
      "\u001b[0;31mNameError\u001b[0m: name 'num2' is not defined"
     ]
    }
   ],
   "source": [
    "num1 = 89\n",
    "result = num1 + num2\n",
    "print(result)"
   ]
  },
  {
   "cell_type": "code",
   "execution_count": 2,
   "id": "315049a4-5ab7-41a1-bae5-baf4b9ce8ed3",
   "metadata": {},
   "outputs": [
    {
     "ename": "TypeError",
     "evalue": "can't multiply sequence by non-int of type 'str'",
     "output_type": "error",
     "traceback": [
      "\u001b[0;31m---------------------------------------------------------------------------\u001b[0m",
      "\u001b[0;31mTypeError\u001b[0m                                 Traceback (most recent call last)",
      "Cell \u001b[0;32mIn[2], line 1\u001b[0m\n\u001b[0;32m----> 1\u001b[0m \u001b[38;5;124;43m'\u001b[39;49m\u001b[38;5;124;43mx\u001b[39;49m\u001b[38;5;124;43m'\u001b[39;49m\u001b[43m \u001b[49m\u001b[38;5;241;43m*\u001b[39;49m\u001b[43m \u001b[49m\u001b[38;5;124;43m'\u001b[39;49m\u001b[38;5;124;43my\u001b[39;49m\u001b[38;5;124;43m'\u001b[39;49m\n",
      "\u001b[0;31mTypeError\u001b[0m: can't multiply sequence by non-int of type 'str'"
     ]
    }
   ],
   "source": [
    "'x' * 'y'"
   ]
  },
  {
   "cell_type": "code",
   "execution_count": 4,
   "id": "9a5dffbc-4629-4d33-954d-b02259e53ba2",
   "metadata": {},
   "outputs": [
    {
     "name": "stdin",
     "output_type": "stream",
     "text": [
      "Enter first number:  78\n",
      "Enter second number:  0\n"
     ]
    },
    {
     "ename": "ZeroDivisionError",
     "evalue": "division by zero",
     "output_type": "error",
     "traceback": [
      "\u001b[0;31m---------------------------------------------------------------------------\u001b[0m",
      "\u001b[0;31mZeroDivisionError\u001b[0m                         Traceback (most recent call last)",
      "Cell \u001b[0;32mIn[4], line 3\u001b[0m\n\u001b[1;32m      1\u001b[0m num1 \u001b[38;5;241m=\u001b[39m \u001b[38;5;28mint\u001b[39m(\u001b[38;5;28minput\u001b[39m(\u001b[38;5;124m'\u001b[39m\u001b[38;5;124mEnter first number: \u001b[39m\u001b[38;5;124m'\u001b[39m))\n\u001b[1;32m      2\u001b[0m num2 \u001b[38;5;241m=\u001b[39m \u001b[38;5;28mint\u001b[39m(\u001b[38;5;28minput\u001b[39m(\u001b[38;5;124m'\u001b[39m\u001b[38;5;124mEnter second number: \u001b[39m\u001b[38;5;124m'\u001b[39m))\n\u001b[0;32m----> 3\u001b[0m div \u001b[38;5;241m=\u001b[39m \u001b[43mnum1\u001b[49m\u001b[43m \u001b[49m\u001b[38;5;241;43m/\u001b[39;49m\u001b[43m \u001b[49m\u001b[43mnum2\u001b[49m\n\u001b[1;32m      4\u001b[0m \u001b[38;5;28mprint\u001b[39m(\u001b[38;5;124m'\u001b[39m\u001b[38;5;124mDivision is:\u001b[39m\u001b[38;5;124m'\u001b[39m, div)\n",
      "\u001b[0;31mZeroDivisionError\u001b[0m: division by zero"
     ]
    }
   ],
   "source": [
    "num1 = int(input('Enter first number: '))\n",
    "num2 = int(input('Enter second number: '))\n",
    "div = num1 / num2\n",
    "print('Division is:', div)"
   ]
  },
  {
   "cell_type": "code",
   "execution_count": 7,
   "id": "f33f4f57-cbc9-4754-845d-e136c79ed6d2",
   "metadata": {},
   "outputs": [
    {
     "name": "stdin",
     "output_type": "stream",
     "text": [
      "Enter first number:  67\n",
      "Enter second number:  7\n"
     ]
    },
    {
     "name": "stdout",
     "output_type": "stream",
     "text": [
      "Division is: 9.571428571428571\n"
     ]
    }
   ],
   "source": [
    "num1 = int(input('Enter first number: '))\n",
    "num2 = int(input('Enter second number: '))\n",
    "try:                               # block to monitor for the exception\n",
    "    div = num1 / num2\n",
    "except ZeroDivisionError:          # will be executed if exception is occurred\n",
    "    print('The denominator must not be zero!')\n",
    "else:                              # will be executed if no exception is present\n",
    "    print('Division is:', div)"
   ]
  },
  {
   "cell_type": "code",
   "execution_count": 8,
   "id": "71a7c8e2-43b6-4a5a-bfec-0f8732df33f0",
   "metadata": {},
   "outputs": [
    {
     "name": "stdin",
     "output_type": "stream",
     "text": [
      "Enter first number:  45\n",
      "Enter second number:  zero\n"
     ]
    },
    {
     "ename": "ValueError",
     "evalue": "invalid literal for int() with base 10: 'zero'",
     "output_type": "error",
     "traceback": [
      "\u001b[0;31m---------------------------------------------------------------------------\u001b[0m",
      "\u001b[0;31mValueError\u001b[0m                                Traceback (most recent call last)",
      "Cell \u001b[0;32mIn[8], line 2\u001b[0m\n\u001b[1;32m      1\u001b[0m num1 \u001b[38;5;241m=\u001b[39m \u001b[38;5;28mint\u001b[39m(\u001b[38;5;28minput\u001b[39m(\u001b[38;5;124m'\u001b[39m\u001b[38;5;124mEnter first number: \u001b[39m\u001b[38;5;124m'\u001b[39m))\n\u001b[0;32m----> 2\u001b[0m num2 \u001b[38;5;241m=\u001b[39m \u001b[38;5;28;43mint\u001b[39;49m\u001b[43m(\u001b[49m\u001b[38;5;28;43minput\u001b[39;49m\u001b[43m(\u001b[49m\u001b[38;5;124;43m'\u001b[39;49m\u001b[38;5;124;43mEnter second number: \u001b[39;49m\u001b[38;5;124;43m'\u001b[39;49m\u001b[43m)\u001b[49m\u001b[43m)\u001b[49m\n\u001b[1;32m      3\u001b[0m \u001b[38;5;28;01mtry\u001b[39;00m:                               \u001b[38;5;66;03m# block to monitor for the exception\u001b[39;00m\n\u001b[1;32m      4\u001b[0m     div \u001b[38;5;241m=\u001b[39m num1 \u001b[38;5;241m/\u001b[39m num2\n",
      "\u001b[0;31mValueError\u001b[0m: invalid literal for int() with base 10: 'zero'"
     ]
    }
   ],
   "source": [
    "num1 = int(input('Enter first number: '))\n",
    "num2 = int(input('Enter second number: '))\n",
    "try:                               # block to monitor for the exception\n",
    "    div = num1 / num2\n",
    "except ZeroDivisionError:          # will be executed if exception is occurred\n",
    "    print('The denominator must not be zero!')\n",
    "else:                              # will be executed if no exception is present\n",
    "    print('Division is:', div)"
   ]
  },
  {
   "cell_type": "code",
   "execution_count": 9,
   "id": "6a9a0033-1668-45e4-8996-dbe572333cee",
   "metadata": {},
   "outputs": [
    {
     "name": "stdin",
     "output_type": "stream",
     "text": [
      "Enter first number:  56\n",
      "Enter second number:  y\n"
     ]
    },
    {
     "name": "stdout",
     "output_type": "stream",
     "text": [
      "Wrong input\n"
     ]
    }
   ],
   "source": [
    "try:\n",
    "    num1 = int(input('Enter first number: '))\n",
    "    num2 = int(input('Enter second number: '))\n",
    "    div = num1 / num2\n",
    "except ZeroDivisionError:          # will be executed if exception is occurred\n",
    "    print('The denominator must not be zero!')\n",
    "except ValueError:\n",
    "    print('Wrong input')\n",
    "else:                              # will be executed if no exception is present\n",
    "    print('Division is:', div)"
   ]
  },
  {
   "cell_type": "code",
   "execution_count": 12,
   "id": "cb5dfd84-bb36-41f7-8125-7f785b7b5191",
   "metadata": {},
   "outputs": [
    {
     "name": "stdin",
     "output_type": "stream",
     "text": [
      "Enter first number:  56\n",
      "Enter second number:  7\n"
     ]
    },
    {
     "name": "stdout",
     "output_type": "stream",
     "text": [
      "Division is: 8.0\n"
     ]
    }
   ],
   "source": [
    "try:\n",
    "    num1 = int(input('Enter first number: '))\n",
    "    num2 = int(input('Enter second number: '))\n",
    "    div = num1 / num2\n",
    "except Exception as e:             # will be executed if exception is occurred\n",
    "    print('Exception:', e)\n",
    "else:                              # will be executed if no exception is present\n",
    "    print('Division is:', div)"
   ]
  },
  {
   "cell_type": "code",
   "execution_count": 13,
   "id": "b53a8a81-94fa-49c4-b3f2-a5842338339d",
   "metadata": {},
   "outputs": [
    {
     "name": "stdin",
     "output_type": "stream",
     "text": [
      "Enter first number:  45\n",
      "Enter second number:  5\n"
     ]
    },
    {
     "name": "stdout",
     "output_type": "stream",
     "text": [
      "Division is: 9.0\n",
      "Good Bye!\n"
     ]
    }
   ],
   "source": [
    "try:\n",
    "    num1 = int(input('Enter first number: '))\n",
    "    num2 = int(input('Enter second number: '))\n",
    "    div = num1 / num2\n",
    "except Exception as e:          # will be executed if exception is occurred\n",
    "    print('Exception:', e)\n",
    "else:                              # will be executed if no exception is present\n",
    "    print('Division is:', div)\n",
    "finally:\n",
    "    print('Good Bye!')           # will be executed in both the cases"
   ]
  },
  {
   "cell_type": "code",
   "execution_count": null,
   "id": "dabe35ac-e330-40ba-8ee9-a411a381892d",
   "metadata": {},
   "outputs": [],
   "source": []
  }
 ],
 "metadata": {
  "kernelspec": {
   "display_name": "Python 3 (ipykernel)",
   "language": "python",
   "name": "python3"
  },
  "language_info": {
   "codemirror_mode": {
    "name": "ipython",
    "version": 3
   },
   "file_extension": ".py",
   "mimetype": "text/x-python",
   "name": "python",
   "nbconvert_exporter": "python",
   "pygments_lexer": "ipython3",
   "version": "3.10.12"
  }
 },
 "nbformat": 4,
 "nbformat_minor": 5
}
