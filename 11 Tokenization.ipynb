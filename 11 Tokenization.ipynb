{
 "cells": [
  {
   "cell_type": "code",
   "execution_count": null,
   "id": "47a925ea-5771-4ce1-b959-ea08f7e05bb9",
   "metadata": {},
   "outputs": [],
   "source": [
    "pip install nltk spacy textblob"
   ]
  },
  {
   "cell_type": "code",
   "execution_count": 12,
   "id": "86c71fb7-b4b7-4e07-87a3-b5f8eae7c8e2",
   "metadata": {},
   "outputs": [],
   "source": [
    "import nltk"
   ]
  },
  {
   "cell_type": "code",
   "execution_count": 13,
   "id": "2d813c40-a39f-41c5-913b-41ac9b6a82a5",
   "metadata": {},
   "outputs": [
    {
     "name": "stderr",
     "output_type": "stream",
     "text": [
      "[nltk_data] Downloading package punkt to /home/mitu/nltk_data...\n",
      "[nltk_data]   Package punkt is already up-to-date!\n",
      "[nltk_data] Downloading package averaged_perceptron_tagger to\n",
      "[nltk_data]     /home/mitu/nltk_data...\n",
      "[nltk_data]   Package averaged_perceptron_tagger is already up-to-\n",
      "[nltk_data]       date!\n",
      "[nltk_data] Downloading package stopwords to /home/mitu/nltk_data...\n",
      "[nltk_data]   Unzipping corpora/stopwords.zip.\n",
      "[nltk_data] Downloading package wordnet to /home/mitu/nltk_data...\n",
      "[nltk_data]   Package wordnet is already up-to-date!\n",
      "[nltk_data] Downloading package indian to /home/mitu/nltk_data...\n",
      "[nltk_data]   Package indian is already up-to-date!\n",
      "[nltk_data] Downloading package omw-1.4 to /home/mitu/nltk_data...\n",
      "[nltk_data]   Package omw-1.4 is already up-to-date!\n"
     ]
    },
    {
     "data": {
      "text/plain": [
       "True"
      ]
     },
     "execution_count": 13,
     "metadata": {},
     "output_type": "execute_result"
    }
   ],
   "source": [
    "nltk.download('punkt')                           # Tokenization\n",
    "nltk.download('averaged_perceptron_tagger')      # POS Tagging\n",
    "nltk.download('stopwords')                       # Stopword Removal\n",
    "nltk.download('wordnet')                         # Dictionary of English / Lemmatization\n",
    "nltk.download('indian')                          # POS Tagging for Indian Languages \n",
    "nltk.download('omw-1.4')                         # Lemmatization "
   ]
  },
  {
   "cell_type": "code",
   "execution_count": 14,
   "id": "592bd42d-9c25-4360-98dc-e3d044967fc1",
   "metadata": {},
   "outputs": [],
   "source": [
    "sent = 'They told that their ages are 23 25 and 29 respectively.'"
   ]
  },
  {
   "cell_type": "code",
   "execution_count": 15,
   "id": "3381a45f-78ee-42bb-9fdf-339a6e9b8eba",
   "metadata": {},
   "outputs": [],
   "source": [
    "# Problem: Find the average of ages mentioned in the sentence."
   ]
  },
  {
   "cell_type": "code",
   "execution_count": 16,
   "id": "d14afb23-5a88-471c-a3f5-f9d927090ce0",
   "metadata": {},
   "outputs": [],
   "source": [
    "words = sent.split()"
   ]
  },
  {
   "cell_type": "code",
   "execution_count": 17,
   "id": "beadc40e-6294-41e5-923b-26e734a9b044",
   "metadata": {},
   "outputs": [],
   "source": [
    "num = []\n",
    "for word in words:\n",
    "    if word.isdigit():\n",
    "        num.append(int(word))"
   ]
  },
  {
   "cell_type": "code",
   "execution_count": 18,
   "id": "5d5a1d9a-a2e7-495d-a0f0-bf43ec3bf9be",
   "metadata": {},
   "outputs": [
    {
     "data": {
      "text/plain": [
       "[23, 25, 29]"
      ]
     },
     "execution_count": 18,
     "metadata": {},
     "output_type": "execute_result"
    }
   ],
   "source": [
    "num"
   ]
  },
  {
   "cell_type": "code",
   "execution_count": 19,
   "id": "9a0b63ae-9a40-4774-8b81-4e13ca2775dd",
   "metadata": {},
   "outputs": [
    {
     "data": {
      "text/plain": [
       "25.666666666666668"
      ]
     },
     "execution_count": 19,
     "metadata": {},
     "output_type": "execute_result"
    }
   ],
   "source": [
    "sum(num) / len(num)"
   ]
  },
  {
   "cell_type": "code",
   "execution_count": 31,
   "id": "594ca967-1106-4376-84cb-0fbbee256ec1",
   "metadata": {},
   "outputs": [
    {
     "name": "stderr",
     "output_type": "stream",
     "text": [
      "[nltk_data] Downloading package punkt_tab to /home/mitu/nltk_data...\n",
      "[nltk_data]   Package punkt_tab is already up-to-date!\n"
     ]
    },
    {
     "data": {
      "text/plain": [
       "True"
      ]
     },
     "execution_count": 31,
     "metadata": {},
     "output_type": "execute_result"
    }
   ],
   "source": [
    "import nltk\n",
    "nltk.download('punkt_tab')                           # Tokenization"
   ]
  },
  {
   "cell_type": "code",
   "execution_count": 26,
   "id": "38ec9ae6-9b4e-4fa2-a730-fe2e01415cdc",
   "metadata": {},
   "outputs": [],
   "source": [
    "# import the functions\n",
    "from nltk.tokenize import word_tokenize\n",
    "from nltk.tokenize import sent_tokenize"
   ]
  },
  {
   "cell_type": "code",
   "execution_count": 27,
   "id": "278d509a-7716-4f5c-ac17-1434d91c6dc4",
   "metadata": {},
   "outputs": [],
   "source": [
    "sent = 'Hello friends! How are you? Welcome to the world of Python Programming.'"
   ]
  },
  {
   "cell_type": "code",
   "execution_count": 28,
   "id": "a737a7ef-df4b-4128-9dc3-487780d02b86",
   "metadata": {},
   "outputs": [],
   "source": [
    "sents = sent_tokenize(sent)"
   ]
  },
  {
   "cell_type": "code",
   "execution_count": 29,
   "id": "da7cbc61-f3c9-44b5-9b99-d0315051186e",
   "metadata": {},
   "outputs": [
    {
     "data": {
      "text/plain": [
       "['Hello friends!',\n",
       " 'How are you?',\n",
       " 'Welcome to the world of Python Programming.']"
      ]
     },
     "execution_count": 29,
     "metadata": {},
     "output_type": "execute_result"
    }
   ],
   "source": [
    "sents"
   ]
  },
  {
   "cell_type": "code",
   "execution_count": 32,
   "id": "00ffbb67-5559-4ef8-8158-1a3ed6c66fe7",
   "metadata": {},
   "outputs": [
    {
     "name": "stdout",
     "output_type": "stream",
     "text": [
      "Hello friends!\n",
      "How are you?\n",
      "Welcome to the world of Python Programming.\n"
     ]
    }
   ],
   "source": [
    "for s in sents:\n",
    "    print(s)"
   ]
  },
  {
   "cell_type": "code",
   "execution_count": 33,
   "id": "2772d6b4-b1d6-4ee6-af0b-547f60ccae4d",
   "metadata": {},
   "outputs": [],
   "source": [
    "words = word_tokenize(sent)"
   ]
  },
  {
   "cell_type": "code",
   "execution_count": 34,
   "id": "0469a2d1-0c24-485c-af5d-6c331d583601",
   "metadata": {},
   "outputs": [
    {
     "data": {
      "text/plain": [
       "['Hello',\n",
       " 'friends',\n",
       " '!',\n",
       " 'How',\n",
       " 'are',\n",
       " 'you',\n",
       " '?',\n",
       " 'Welcome',\n",
       " 'to',\n",
       " 'the',\n",
       " 'world',\n",
       " 'of',\n",
       " 'Python',\n",
       " 'Programming',\n",
       " '.']"
      ]
     },
     "execution_count": 34,
     "metadata": {},
     "output_type": "execute_result"
    }
   ],
   "source": [
    "words"
   ]
  },
  {
   "cell_type": "code",
   "execution_count": 35,
   "id": "9e6d17b3-cd48-407e-8db3-8c6aeb6dcca7",
   "metadata": {},
   "outputs": [],
   "source": [
    "data = 'पुणे हे भारताच्या दख्खन पठारावरील महाराष्ट्राचे एक महत्त्वाचे शहर आहे. पुणे जिल्ह्याचे आणि पुणे विभागाचे हे प्रशासकीय मुख्यालय आहे. २०११ जनगणनेनुसार, शहराच्या हद्दीतील ३.१ दशलक्ष लोकसंख्येसह पुणे हे भारतातील नववे सर्वात जास्त लोकसंख्या असलेले शहर आहे. महानगर प्रदेशातील ७.२ दशलक्ष रहिवासी लोकसंख्या आहे, यानुसार ते आठवे सर्वाधिक लोकसंख्या असलेले शहर आहे. [११]पुणे शहर पुणे महानगर प्रदेशाचा एक भाग आहे. [१२] भारतातील सर्वात मोठ्या आयटी हबपैकी पुणे एक आहे. [१३] [१४]हे भारतातील सर्वात महत्वाचे ऑटोमोबाईल आणि उत्पादन केंद्रांपैकी एक आहे. पुणे हे एक विकसनशील शहर आहे. [१५]या शहराला येथील उच्च प्रतिष्ठित शैक्षणिक संस्थांमुळे \"पूर्वेकडील ऑक्सफर्ड\" म्हणून संबोधले जाते. [१६] [१७] [१८] \"भारतातील सर्वात राहण्यायोग्य शहर\" म्हणून अनेक वेळा पुण्याला स्थान देण्यात आले आहे.'"
   ]
  },
  {
   "cell_type": "code",
   "execution_count": 36,
   "id": "d0a2eb44-1357-4ed2-a987-eaec00a938af",
   "metadata": {},
   "outputs": [
    {
     "data": {
      "text/plain": [
       "'पुणे हे भारताच्या दख्खन पठारावरील महाराष्ट्राचे एक महत्त्वाचे शहर आहे. पुणे जिल्ह्याचे आणि पुणे विभागाचे हे प्रशासकीय मुख्यालय आहे. २०११ जनगणनेनुसार, शहराच्या हद्दीतील ३.१ दशलक्ष लोकसंख्येसह पुणे हे भारतातील नववे सर्वात जास्त लोकसंख्या असलेले शहर आहे. महानगर प्रदेशातील ७.२ दशलक्ष रहिवासी लोकसंख्या आहे, यानुसार ते आठवे सर्वाधिक लोकसंख्या असलेले शहर आहे. [११]पुणे शहर पुणे महानगर प्रदेशाचा एक भाग आहे. [१२] भारतातील सर्वात मोठ्या आयटी हबपैकी पुणे एक आहे. [१३] [१४]हे भारतातील सर्वात महत्वाचे ऑटोमोबाईल आणि उत्पादन केंद्रांपैकी एक आहे. पुणे हे एक विकसनशील शहर आहे. [१५]या शहराला येथील उच्च प्रतिष्ठित शैक्षणिक संस्थांमुळे \"पूर्वेकडील ऑक्सफर्ड\" म्हणून संबोधले जाते. [१६] [१७] [१८] \"भारतातील सर्वात राहण्यायोग्य शहर\" म्हणून अनेक वेळा पुण्याला स्थान देण्यात आले आहे.'"
      ]
     },
     "execution_count": 36,
     "metadata": {},
     "output_type": "execute_result"
    }
   ],
   "source": [
    "data"
   ]
  },
  {
   "cell_type": "code",
   "execution_count": 37,
   "id": "53c82b97-85d1-4b8a-91e4-073920492009",
   "metadata": {},
   "outputs": [
    {
     "data": {
      "text/plain": [
       "['पुणे',\n",
       " 'हे',\n",
       " 'भारताच्या',\n",
       " 'दख्खन',\n",
       " 'पठारावरील',\n",
       " 'महाराष्ट्राचे',\n",
       " 'एक',\n",
       " 'महत्त्वाचे',\n",
       " 'शहर',\n",
       " 'आहे',\n",
       " '.',\n",
       " 'पुणे',\n",
       " 'जिल्ह्याचे',\n",
       " 'आणि',\n",
       " 'पुणे',\n",
       " 'विभागाचे',\n",
       " 'हे',\n",
       " 'प्रशासकीय',\n",
       " 'मुख्यालय',\n",
       " 'आहे',\n",
       " '.',\n",
       " '२०११',\n",
       " 'जनगणनेनुसार',\n",
       " ',',\n",
       " 'शहराच्या',\n",
       " 'हद्दीतील',\n",
       " '३.१',\n",
       " 'दशलक्ष',\n",
       " 'लोकसंख्येसह',\n",
       " 'पुणे',\n",
       " 'हे',\n",
       " 'भारतातील',\n",
       " 'नववे',\n",
       " 'सर्वात',\n",
       " 'जास्त',\n",
       " 'लोकसंख्या',\n",
       " 'असलेले',\n",
       " 'शहर',\n",
       " 'आहे',\n",
       " '.',\n",
       " 'महानगर',\n",
       " 'प्रदेशातील',\n",
       " '७.२',\n",
       " 'दशलक्ष',\n",
       " 'रहिवासी',\n",
       " 'लोकसंख्या',\n",
       " 'आहे',\n",
       " ',',\n",
       " 'यानुसार',\n",
       " 'ते',\n",
       " 'आठवे',\n",
       " 'सर्वाधिक',\n",
       " 'लोकसंख्या',\n",
       " 'असलेले',\n",
       " 'शहर',\n",
       " 'आहे',\n",
       " '.',\n",
       " '[',\n",
       " '११',\n",
       " ']',\n",
       " 'पुणे',\n",
       " 'शहर',\n",
       " 'पुणे',\n",
       " 'महानगर',\n",
       " 'प्रदेशाचा',\n",
       " 'एक',\n",
       " 'भाग',\n",
       " 'आहे',\n",
       " '.',\n",
       " '[',\n",
       " '१२',\n",
       " ']',\n",
       " 'भारतातील',\n",
       " 'सर्वात',\n",
       " 'मोठ्या',\n",
       " 'आयटी',\n",
       " 'हबपैकी',\n",
       " 'पुणे',\n",
       " 'एक',\n",
       " 'आहे',\n",
       " '.',\n",
       " '[',\n",
       " '१३',\n",
       " ']',\n",
       " '[',\n",
       " '१४',\n",
       " ']',\n",
       " 'हे',\n",
       " 'भारतातील',\n",
       " 'सर्वात',\n",
       " 'महत्वाचे',\n",
       " 'ऑटोमोबाईल',\n",
       " 'आणि',\n",
       " 'उत्पादन',\n",
       " 'केंद्रांपैकी',\n",
       " 'एक',\n",
       " 'आहे',\n",
       " '.',\n",
       " 'पुणे',\n",
       " 'हे',\n",
       " 'एक',\n",
       " 'विकसनशील',\n",
       " 'शहर',\n",
       " 'आहे',\n",
       " '.',\n",
       " '[',\n",
       " '१५',\n",
       " ']',\n",
       " 'या',\n",
       " 'शहराला',\n",
       " 'येथील',\n",
       " 'उच्च',\n",
       " 'प्रतिष्ठित',\n",
       " 'शैक्षणिक',\n",
       " 'संस्थांमुळे',\n",
       " '``',\n",
       " 'पूर्वेकडील',\n",
       " 'ऑक्सफर्ड',\n",
       " \"''\",\n",
       " 'म्हणून',\n",
       " 'संबोधले',\n",
       " 'जाते',\n",
       " '.',\n",
       " '[',\n",
       " '१६',\n",
       " ']',\n",
       " '[',\n",
       " '१७',\n",
       " ']',\n",
       " '[',\n",
       " '१८',\n",
       " ']',\n",
       " '``',\n",
       " 'भारतातील',\n",
       " 'सर्वात',\n",
       " 'राहण्यायोग्य',\n",
       " 'शहर',\n",
       " \"''\",\n",
       " 'म्हणून',\n",
       " 'अनेक',\n",
       " 'वेळा',\n",
       " 'पुण्याला',\n",
       " 'स्थान',\n",
       " 'देण्यात',\n",
       " 'आले',\n",
       " 'आहे',\n",
       " '.']"
      ]
     },
     "execution_count": 37,
     "metadata": {},
     "output_type": "execute_result"
    }
   ],
   "source": [
    "word_tokenize(data)"
   ]
  },
  {
   "cell_type": "code",
   "execution_count": 38,
   "id": "c6270412-a4e9-47f0-800a-d68368d09218",
   "metadata": {},
   "outputs": [
    {
     "data": {
      "text/plain": [
       "['पुणे हे भारताच्या दख्खन पठारावरील महाराष्ट्राचे एक महत्त्वाचे शहर आहे.',\n",
       " 'पुणे जिल्ह्याचे आणि पुणे विभागाचे हे प्रशासकीय मुख्यालय आहे.',\n",
       " '२०११ जनगणनेनुसार, शहराच्या हद्दीतील ३.१ दशलक्ष लोकसंख्येसह पुणे हे भारतातील नववे सर्वात जास्त लोकसंख्या असलेले शहर आहे.',\n",
       " 'महानगर प्रदेशातील ७.२ दशलक्ष रहिवासी लोकसंख्या आहे, यानुसार ते आठवे सर्वाधिक लोकसंख्या असलेले शहर आहे.',\n",
       " '[११]पुणे शहर पुणे महानगर प्रदेशाचा एक भाग आहे.',\n",
       " '[१२] भारतातील सर्वात मोठ्या आयटी हबपैकी पुणे एक आहे.',\n",
       " '[१३] [१४]हे भारतातील सर्वात महत्वाचे ऑटोमोबाईल आणि उत्पादन केंद्रांपैकी एक आहे.',\n",
       " 'पुणे हे एक विकसनशील शहर आहे.',\n",
       " '[१५]या शहराला येथील उच्च प्रतिष्ठित शैक्षणिक संस्थांमुळे \"पूर्वेकडील ऑक्सफर्ड\" म्हणून संबोधले जाते.',\n",
       " '[१६] [१७] [१८] \"भारतातील सर्वात राहण्यायोग्य शहर\" म्हणून अनेक वेळा पुण्याला स्थान देण्यात आले आहे.']"
      ]
     },
     "execution_count": 38,
     "metadata": {},
     "output_type": "execute_result"
    }
   ],
   "source": [
    "sent_tokenize(data)"
   ]
  },
  {
   "cell_type": "markdown",
   "id": "d805ddca-8f2a-4730-81a6-4727c4140f23",
   "metadata": {},
   "source": [
    "##### Space Tokenizer"
   ]
  },
  {
   "cell_type": "code",
   "execution_count": 40,
   "id": "e109e497-d02b-4d92-80dc-d015e6bc19e8",
   "metadata": {},
   "outputs": [],
   "source": [
    "# import the class\n",
    "from nltk.tokenize import SpaceTokenizer"
   ]
  },
  {
   "cell_type": "code",
   "execution_count": 41,
   "id": "26dd7fc2-e152-4831-b82f-a788c5203e27",
   "metadata": {},
   "outputs": [],
   "source": [
    "# create the object\n",
    "tk = SpaceTokenizer()"
   ]
  },
  {
   "cell_type": "code",
   "execution_count": 42,
   "id": "a887c1be-3b5f-4ed4-93ef-59f0a8ce49c3",
   "metadata": {},
   "outputs": [
    {
     "data": {
      "text/plain": [
       "['Hello',\n",
       " 'friends!',\n",
       " 'How',\n",
       " 'are',\n",
       " 'you?',\n",
       " 'Welcome',\n",
       " 'to',\n",
       " 'the',\n",
       " 'world',\n",
       " 'of',\n",
       " 'Python',\n",
       " 'Programming.']"
      ]
     },
     "execution_count": 42,
     "metadata": {},
     "output_type": "execute_result"
    }
   ],
   "source": [
    "# apply the function\n",
    "tk.tokenize(sent)"
   ]
  },
  {
   "cell_type": "markdown",
   "id": "2d192d23-7362-41ad-9034-6ac49a724367",
   "metadata": {},
   "source": [
    "##### Tab Tokenizer"
   ]
  },
  {
   "cell_type": "code",
   "execution_count": 44,
   "id": "5dd87f59-d708-4627-b606-b51382ba6323",
   "metadata": {},
   "outputs": [],
   "source": [
    "from nltk.tokenize import TabTokenizer"
   ]
  },
  {
   "cell_type": "code",
   "execution_count": 45,
   "id": "b4c1c4a7-5bbd-4293-8a8d-31d5c2dc3db9",
   "metadata": {},
   "outputs": [],
   "source": [
    "tk = TabTokenizer()"
   ]
  },
  {
   "cell_type": "code",
   "execution_count": 46,
   "id": "e605a7bd-1326-44c3-bef9-1ed30ebbd568",
   "metadata": {},
   "outputs": [],
   "source": [
    "sent = 'Hello friends! How are you? \\tWelcome to the world of \\tPython Programming.'"
   ]
  },
  {
   "cell_type": "code",
   "execution_count": 47,
   "id": "4bd8cdf7-59cb-49f3-8e67-cd5b62cb90fa",
   "metadata": {},
   "outputs": [
    {
     "name": "stdout",
     "output_type": "stream",
     "text": [
      "Hello friends! How are you? \tWelcome to the world of \tPython Programming.\n"
     ]
    }
   ],
   "source": [
    "print(sent)"
   ]
  },
  {
   "cell_type": "code",
   "execution_count": 48,
   "id": "2cf8ccd6-bbf5-4a11-80e6-cc1cc9d135f2",
   "metadata": {},
   "outputs": [
    {
     "data": {
      "text/plain": [
       "['Hello friends! How are you? ',\n",
       " 'Welcome to the world of ',\n",
       " 'Python Programming.']"
      ]
     },
     "execution_count": 48,
     "metadata": {},
     "output_type": "execute_result"
    }
   ],
   "source": [
    "tk.tokenize(sent)"
   ]
  },
  {
   "cell_type": "markdown",
   "id": "a9d3c09a-2ca7-46cd-92a3-deb5274bf62b",
   "metadata": {},
   "source": [
    "##### Line Tokenizer"
   ]
  },
  {
   "cell_type": "code",
   "execution_count": 51,
   "id": "b0c9eeec-a8c3-4c13-89c5-c236ec801e8c",
   "metadata": {},
   "outputs": [],
   "source": [
    "from nltk.tokenize import LineTokenizer\n",
    "tk = LineTokenizer()"
   ]
  },
  {
   "cell_type": "code",
   "execution_count": 52,
   "id": "1bf99c11-d848-43a0-b025-8507cd32ba1e",
   "metadata": {},
   "outputs": [
    {
     "name": "stdout",
     "output_type": "stream",
     "text": [
      "Hello friends! \n",
      "How are you? \n",
      "Welcome to the world of \n",
      "Python Programming.\n"
     ]
    }
   ],
   "source": [
    "sent = 'Hello friends! \\nHow are you? \\nWelcome to the world of \\nPython Programming.'\n",
    "print(sent)"
   ]
  },
  {
   "cell_type": "code",
   "execution_count": 53,
   "id": "3431b033-c071-4222-b4cd-d98d5a1b4357",
   "metadata": {},
   "outputs": [
    {
     "data": {
      "text/plain": [
       "['Hello friends! ',\n",
       " 'How are you? ',\n",
       " 'Welcome to the world of ',\n",
       " 'Python Programming.']"
      ]
     },
     "execution_count": 53,
     "metadata": {},
     "output_type": "execute_result"
    }
   ],
   "source": [
    "tk.tokenize(sent)"
   ]
  },
  {
   "cell_type": "markdown",
   "id": "35a2cdeb-00c3-450c-a9b8-29c6ca1c4396",
   "metadata": {},
   "source": [
    "##### White Space Tokenizer"
   ]
  },
  {
   "cell_type": "code",
   "execution_count": 55,
   "id": "4bb68535-70fa-41a2-91e4-de3d3ba9d90c",
   "metadata": {},
   "outputs": [],
   "source": [
    "from nltk.tokenize import WhitespaceTokenizer\n",
    "wtk = WhitespaceTokenizer()"
   ]
  },
  {
   "cell_type": "code",
   "execution_count": 56,
   "id": "f89ab267-1377-4595-87a6-771e3607b6e6",
   "metadata": {},
   "outputs": [
    {
     "name": "stdout",
     "output_type": "stream",
     "text": [
      "Hello friends! \tHow are you? \n",
      "Welcome to the world of \n",
      "Python Programming.\n"
     ]
    }
   ],
   "source": [
    "sent = 'Hello friends! \\tHow are you? \\nWelcome to the world of \\nPython Programming.'\n",
    "print(sent)"
   ]
  },
  {
   "cell_type": "markdown",
   "id": "7c708622-9d90-44a6-bc89-f6e8d4123744",
   "metadata": {},
   "source": [
    "##### Multi Word Expression Tokenizer"
   ]
  },
  {
   "cell_type": "code",
   "execution_count": 58,
   "id": "be0e31c5-883b-44f5-994a-a7c93249ed3e",
   "metadata": {},
   "outputs": [],
   "source": [
    "from nltk.tokenize import MWETokenizer"
   ]
  },
  {
   "cell_type": "code",
   "execution_count": 59,
   "id": "a28ae51a-b2d0-4f0b-8934-5a22489e2096",
   "metadata": {},
   "outputs": [],
   "source": [
    "sent = 'Hello friends! Have you learned Python Programming? It is very interesting to learn Python Programming.'"
   ]
  },
  {
   "cell_type": "code",
   "execution_count": 60,
   "id": "05cf8aa7-6cc1-40e8-b032-b7e053a31d51",
   "metadata": {},
   "outputs": [
    {
     "data": {
      "text/plain": [
       "'Hello friends! Have you learned Python Programming? It is very interesting to learn Python Programming.'"
      ]
     },
     "execution_count": 60,
     "metadata": {},
     "output_type": "execute_result"
    }
   ],
   "source": [
    "sent"
   ]
  },
  {
   "cell_type": "code",
   "execution_count": 61,
   "id": "22577596-9905-4e1e-bfee-98a8a890693d",
   "metadata": {},
   "outputs": [
    {
     "data": {
      "text/plain": [
       "['Hello',\n",
       " 'friends',\n",
       " '!',\n",
       " 'Have',\n",
       " 'you',\n",
       " 'learned',\n",
       " 'Python',\n",
       " 'Programming',\n",
       " '?',\n",
       " 'It',\n",
       " 'is',\n",
       " 'very',\n",
       " 'interesting',\n",
       " 'to',\n",
       " 'learn',\n",
       " 'Python',\n",
       " 'Programming',\n",
       " '.']"
      ]
     },
     "execution_count": 61,
     "metadata": {},
     "output_type": "execute_result"
    }
   ],
   "source": [
    "word_tokenize(sent)"
   ]
  },
  {
   "cell_type": "code",
   "execution_count": 62,
   "id": "1fb8435c-c854-4bd8-8616-d26f0d10bb57",
   "metadata": {},
   "outputs": [],
   "source": [
    "mtk = MWETokenizer()"
   ]
  },
  {
   "cell_type": "code",
   "execution_count": 63,
   "id": "75918903-297e-49da-9fd7-4f885d288b61",
   "metadata": {},
   "outputs": [],
   "source": [
    "mtk.add_mwe(('Python','Programming'))"
   ]
  },
  {
   "cell_type": "code",
   "execution_count": 65,
   "id": "b4a32fa7-d76d-44be-a1d2-1460a370cb91",
   "metadata": {},
   "outputs": [
    {
     "data": {
      "text/plain": [
       "['Hello',\n",
       " 'friends',\n",
       " '!',\n",
       " 'Have',\n",
       " 'you',\n",
       " 'learned',\n",
       " 'Python_Programming',\n",
       " '?',\n",
       " 'It',\n",
       " 'is',\n",
       " 'very',\n",
       " 'interesting',\n",
       " 'to',\n",
       " 'learn',\n",
       " 'Python_Programming',\n",
       " '.']"
      ]
     },
     "execution_count": 65,
     "metadata": {},
     "output_type": "execute_result"
    }
   ],
   "source": [
    "mtk.tokenize(word_tokenize(sent))"
   ]
  },
  {
   "cell_type": "code",
   "execution_count": 66,
   "id": "118ce91a-4833-4707-ab2d-3b9fa7bc4a40",
   "metadata": {},
   "outputs": [],
   "source": [
    "mtk = MWETokenizer(separator=' ')\n",
    "mtk.add_mwe(('Python','Programming'))"
   ]
  },
  {
   "cell_type": "code",
   "execution_count": 67,
   "id": "3d1e2477-5402-4691-95b6-a0f3e0e4daea",
   "metadata": {},
   "outputs": [
    {
     "data": {
      "text/plain": [
       "['Hello',\n",
       " 'friends',\n",
       " '!',\n",
       " 'Have',\n",
       " 'you',\n",
       " 'learned',\n",
       " 'Python Programming',\n",
       " '?',\n",
       " 'It',\n",
       " 'is',\n",
       " 'very',\n",
       " 'interesting',\n",
       " 'to',\n",
       " 'learn',\n",
       " 'Python Programming',\n",
       " '.']"
      ]
     },
     "execution_count": 67,
     "metadata": {},
     "output_type": "execute_result"
    }
   ],
   "source": [
    "mtk.tokenize(word_tokenize(sent))"
   ]
  },
  {
   "cell_type": "markdown",
   "id": "5b937ecd-84da-4718-b2ae-c09a6643bc80",
   "metadata": {},
   "source": [
    "##### Tweet Tokenizer"
   ]
  },
  {
   "cell_type": "code",
   "execution_count": null,
   "id": "4492a64c-27ce-4a78-8ba0-eac596eb50a6",
   "metadata": {},
   "outputs": [],
   "source": []
  },
  {
   "cell_type": "code",
   "execution_count": 70,
   "id": "3e3a6181-6c18-4998-979e-3c248302fbd8",
   "metadata": {},
   "outputs": [],
   "source": [
    "sent = 'Hello friends!🙂 How are you?👋 Welcome to the world🌏 of 🖥️Python Programming.'"
   ]
  },
  {
   "cell_type": "code",
   "execution_count": 71,
   "id": "7b34e240-ad79-47e3-83a7-c6e8a58e80b9",
   "metadata": {},
   "outputs": [
    {
     "data": {
      "text/plain": [
       "'Hello friends!🙂 How are you?👋 Welcome to the world🌏 of 🖥️Python Programming.'"
      ]
     },
     "execution_count": 71,
     "metadata": {},
     "output_type": "execute_result"
    }
   ],
   "source": [
    "sent"
   ]
  },
  {
   "cell_type": "code",
   "execution_count": 74,
   "id": "f7c9b5e2-1cd2-4ed2-a615-e4319530f902",
   "metadata": {},
   "outputs": [
    {
     "data": {
      "text/plain": [
       "127759"
      ]
     },
     "execution_count": 74,
     "metadata": {},
     "output_type": "execute_result"
    }
   ],
   "source": [
    "ord('🌏')"
   ]
  },
  {
   "cell_type": "code",
   "execution_count": 75,
   "id": "d7a40621-f791-4f20-9f54-706b38793baa",
   "metadata": {},
   "outputs": [
    {
     "data": {
      "text/plain": [
       "['Hello',\n",
       " 'friends',\n",
       " '!',\n",
       " '🙂',\n",
       " 'How',\n",
       " 'are',\n",
       " 'you',\n",
       " '?',\n",
       " '👋',\n",
       " 'Welcome',\n",
       " 'to',\n",
       " 'the',\n",
       " 'world🌏',\n",
       " 'of',\n",
       " '🖥️Python',\n",
       " 'Programming',\n",
       " '.']"
      ]
     },
     "execution_count": 75,
     "metadata": {},
     "output_type": "execute_result"
    }
   ],
   "source": [
    "word_tokenize(sent)"
   ]
  },
  {
   "cell_type": "code",
   "execution_count": 76,
   "id": "4bdcb995-c2e7-40ec-a347-40b32c0d46f4",
   "metadata": {},
   "outputs": [],
   "source": [
    "from nltk.tokenize import TweetTokenizer"
   ]
  },
  {
   "cell_type": "code",
   "execution_count": 77,
   "id": "974fbcdc-e128-459b-8b2d-0a2af05e5039",
   "metadata": {},
   "outputs": [],
   "source": [
    "ttk = TweetTokenizer()"
   ]
  },
  {
   "cell_type": "code",
   "execution_count": 78,
   "id": "edd3e5f9-d42e-492c-aae9-dca4b0da5aca",
   "metadata": {},
   "outputs": [
    {
     "data": {
      "text/plain": [
       "['Hello',\n",
       " 'friends',\n",
       " '!',\n",
       " '🙂',\n",
       " 'How',\n",
       " 'are',\n",
       " 'you',\n",
       " '?',\n",
       " '👋',\n",
       " 'Welcome',\n",
       " 'to',\n",
       " 'the',\n",
       " 'world',\n",
       " '🌏',\n",
       " 'of',\n",
       " '🖥',\n",
       " '️Python',\n",
       " 'Programming',\n",
       " '.']"
      ]
     },
     "execution_count": 78,
     "metadata": {},
     "output_type": "execute_result"
    }
   ],
   "source": [
    "ttk.tokenize(sent)"
   ]
  },
  {
   "cell_type": "code",
   "execution_count": null,
   "id": "1dd11d39-b9a6-45a9-8985-7a6f83b5c350",
   "metadata": {},
   "outputs": [],
   "source": []
  }
 ],
 "metadata": {
  "kernelspec": {
   "display_name": "Python 3 (ipykernel)",
   "language": "python",
   "name": "python3"
  },
  "language_info": {
   "codemirror_mode": {
    "name": "ipython",
    "version": 3
   },
   "file_extension": ".py",
   "mimetype": "text/x-python",
   "name": "python",
   "nbconvert_exporter": "python",
   "pygments_lexer": "ipython3",
   "version": "3.10.12"
  }
 },
 "nbformat": 4,
 "nbformat_minor": 5
}
