{
 "cells": [
  {
   "cell_type": "code",
   "execution_count": 1,
   "id": "0d440269-e287-411c-9053-2a9cc9f52586",
   "metadata": {},
   "outputs": [
    {
     "name": "stdout",
     "output_type": "stream",
     "text": [
      "Hello World\n"
     ]
    }
   ],
   "source": [
    "print('Hello World')"
   ]
  },
  {
   "cell_type": "code",
   "execution_count": 2,
   "id": "847072d3-4498-4553-9910-d49e37d6ee15",
   "metadata": {},
   "outputs": [
    {
     "name": "stdout",
     "output_type": "stream",
     "text": [
      "Hi\n",
      "Welcome to Pune\n",
      "Good Bye\n"
     ]
    }
   ],
   "source": [
    "print('Hi')\n",
    "print('Welcome to Pune')\n",
    "print('Good Bye')"
   ]
  },
  {
   "cell_type": "code",
   "execution_count": 3,
   "id": "be4bf09c-fe9b-494d-9847-a726397e031e",
   "metadata": {},
   "outputs": [],
   "source": [
    "x = 34"
   ]
  },
  {
   "cell_type": "code",
   "execution_count": 4,
   "id": "08fe4ccd-d42b-4b37-a50a-3267180bfced",
   "metadata": {},
   "outputs": [
    {
     "name": "stdout",
     "output_type": "stream",
     "text": [
      "34\n"
     ]
    }
   ],
   "source": [
    "print(x)"
   ]
  },
  {
   "cell_type": "code",
   "execution_count": 5,
   "id": "de49cc52-2ee8-404d-8f69-3abf928a80f5",
   "metadata": {},
   "outputs": [
    {
     "name": "stdout",
     "output_type": "stream",
     "text": [
      "89\n"
     ]
    }
   ],
   "source": [
    "x = 89\n",
    "print(x)"
   ]
  },
  {
   "cell_type": "code",
   "execution_count": 6,
   "id": "11ea6e17-f0e2-4337-875e-0bb59d027ab3",
   "metadata": {},
   "outputs": [
    {
     "name": "stdout",
     "output_type": "stream",
     "text": [
      "56.78\n"
     ]
    }
   ],
   "source": [
    "y = 56.78\n",
    "print(y)"
   ]
  },
  {
   "cell_type": "code",
   "execution_count": 7,
   "id": "4fc4da89-fdd4-4cc8-b719-7052a62ddf33",
   "metadata": {},
   "outputs": [
    {
     "name": "stdout",
     "output_type": "stream",
     "text": [
      "Tushar\n"
     ]
    }
   ],
   "source": [
    "z = 'Tushar'\n",
    "print(z)"
   ]
  },
  {
   "cell_type": "code",
   "execution_count": 8,
   "id": "c5d3f2bd-d5b1-4b3c-b3df-cd518df63df2",
   "metadata": {},
   "outputs": [],
   "source": [
    "num1 = 30\n",
    "Num1 = 32\n",
    "avg_marks = 67.78"
   ]
  },
  {
   "cell_type": "code",
   "execution_count": 9,
   "id": "0b7a9de8-afc2-4e21-814a-f1f940e27007",
   "metadata": {},
   "outputs": [
    {
     "name": "stdout",
     "output_type": "stream",
     "text": [
      "30 32 67.78\n"
     ]
    }
   ],
   "source": [
    "print(num1, Num1, avg_marks)"
   ]
  },
  {
   "cell_type": "code",
   "execution_count": 10,
   "id": "fa27cfda-f20a-44e0-bffe-1bc1a438e553",
   "metadata": {},
   "outputs": [
    {
     "ename": "SyntaxError",
     "evalue": "invalid syntax (3186484471.py, line 1)",
     "output_type": "error",
     "traceback": [
      "\u001b[0;36m  Cell \u001b[0;32mIn[10], line 1\u001b[0;36m\u001b[0m\n\u001b[0;31m    pass = 56\u001b[0m\n\u001b[0m         ^\u001b[0m\n\u001b[0;31mSyntaxError\u001b[0m\u001b[0;31m:\u001b[0m invalid syntax\n"
     ]
    }
   ],
   "source": [
    "pass = 56"
   ]
  },
  {
   "cell_type": "code",
   "execution_count": 11,
   "id": "44e71029-6d97-48e0-909e-b192e7b168d3",
   "metadata": {},
   "outputs": [
    {
     "name": "stdout",
     "output_type": "stream",
     "text": [
      "89\n",
      "<class 'int'>\n"
     ]
    }
   ],
   "source": [
    "print(x)\n",
    "print(type(x))"
   ]
  },
  {
   "cell_type": "code",
   "execution_count": 12,
   "id": "0fddcee4-d356-4f09-bfdc-a1ef844e17ae",
   "metadata": {},
   "outputs": [
    {
     "name": "stdout",
     "output_type": "stream",
     "text": [
      "56.78\n",
      "<class 'float'>\n"
     ]
    }
   ],
   "source": [
    "print(y)\n",
    "print(type(y))"
   ]
  },
  {
   "cell_type": "code",
   "execution_count": 13,
   "id": "cd2ba546-ed3d-4d16-a151-a48b444625a4",
   "metadata": {},
   "outputs": [
    {
     "name": "stdout",
     "output_type": "stream",
     "text": [
      "Tushar\n",
      "<class 'str'>\n"
     ]
    }
   ],
   "source": [
    "print(z)\n",
    "print(type(z))"
   ]
  },
  {
   "cell_type": "code",
   "execution_count": 14,
   "id": "fc11d556-9f2d-4a96-bdd9-3e4a2b024759",
   "metadata": {},
   "outputs": [],
   "source": [
    "num = 4578"
   ]
  },
  {
   "cell_type": "code",
   "execution_count": 15,
   "id": "d2cf16ad-dfb4-4483-8a41-0440d8213af4",
   "metadata": {},
   "outputs": [
    {
     "name": "stdout",
     "output_type": "stream",
     "text": [
      "4578\n"
     ]
    }
   ],
   "source": [
    "print(num)"
   ]
  },
  {
   "cell_type": "code",
   "execution_count": 16,
   "id": "238c6b06-9f59-4e34-bce5-a5ebdd5f68b3",
   "metadata": {},
   "outputs": [
    {
     "name": "stdout",
     "output_type": "stream",
     "text": [
      "5541784618416257186281261896128471268461284971289417671618762\n"
     ]
    }
   ],
   "source": [
    "num = 5541784618416257186281261896128471268461284971289417671618762\n",
    "print(num)"
   ]
  },
  {
   "cell_type": "code",
   "execution_count": 17,
   "id": "74a3b234-db7e-4809-8e97-649e6d67c4a1",
   "metadata": {},
   "outputs": [],
   "source": [
    "num = 674.5377283648888947594"
   ]
  },
  {
   "cell_type": "code",
   "execution_count": 18,
   "id": "3291d349-203c-4b9d-baac-57436cb9be6b",
   "metadata": {},
   "outputs": [
    {
     "name": "stdout",
     "output_type": "stream",
     "text": [
      "674.537728364889\n"
     ]
    }
   ],
   "source": [
    "print(num)"
   ]
  },
  {
   "cell_type": "code",
   "execution_count": 19,
   "id": "22c573e9-f50a-47e0-ac11-c46c2e2b2427",
   "metadata": {},
   "outputs": [],
   "source": [
    "name = 'Tushar'"
   ]
  },
  {
   "cell_type": "code",
   "execution_count": 20,
   "id": "11e381c6-1ef1-4b3c-8904-4d9ba3d99b42",
   "metadata": {},
   "outputs": [],
   "source": [
    "name = \"Tushar\""
   ]
  },
  {
   "cell_type": "code",
   "execution_count": 21,
   "id": "2de3ae3e-c600-4353-bf98-4dc8949564bc",
   "metadata": {},
   "outputs": [
    {
     "data": {
      "text/plain": [
       "str"
      ]
     },
     "execution_count": 21,
     "metadata": {},
     "output_type": "execute_result"
    }
   ],
   "source": [
    "type(name)"
   ]
  },
  {
   "cell_type": "code",
   "execution_count": 22,
   "id": "3bf80d02-684f-4a90-b442-fc43ee86deed",
   "metadata": {},
   "outputs": [],
   "source": [
    "data = \"Pune@123\""
   ]
  },
  {
   "cell_type": "code",
   "execution_count": 23,
   "id": "ad8ae543-aa2f-4dcd-90c7-a7f560e75178",
   "metadata": {},
   "outputs": [
    {
     "data": {
      "text/plain": [
       "str"
      ]
     },
     "execution_count": 23,
     "metadata": {},
     "output_type": "execute_result"
    }
   ],
   "source": [
    "type(data)"
   ]
  },
  {
   "cell_type": "code",
   "execution_count": 24,
   "id": "a6732bb7-56dc-44bf-a7f4-f1413e046d96",
   "metadata": {},
   "outputs": [
    {
     "ename": "NameError",
     "evalue": "name 'var' is not defined",
     "output_type": "error",
     "traceback": [
      "\u001b[0;31m---------------------------------------------------------------------------\u001b[0m",
      "\u001b[0;31mNameError\u001b[0m                                 Traceback (most recent call last)",
      "Cell \u001b[0;32mIn[24], line 1\u001b[0m\n\u001b[0;32m----> 1\u001b[0m \u001b[38;5;28mprint\u001b[39m(\u001b[43mvar\u001b[49m)\n",
      "\u001b[0;31mNameError\u001b[0m: name 'var' is not defined"
     ]
    }
   ],
   "source": [
    "print(var)"
   ]
  },
  {
   "cell_type": "code",
   "execution_count": 25,
   "id": "105635c9-716c-45da-af59-60c352e905dc",
   "metadata": {},
   "outputs": [],
   "source": [
    "# print(var)"
   ]
  },
  {
   "cell_type": "code",
   "execution_count": 26,
   "id": "9b9df6a2-9afe-4104-845f-e766fbd90feb",
   "metadata": {},
   "outputs": [
    {
     "name": "stdout",
     "output_type": "stream",
     "text": [
      "100\n"
     ]
    }
   ],
   "source": [
    "# Program for addition of numbers\n",
    "num1 = 23\n",
    "num2 = 77\n",
    "add = num1 + num2   # Addition operator\n",
    "print(add)          # Print the value"
   ]
  },
  {
   "cell_type": "code",
   "execution_count": 27,
   "id": "30ff4434-f496-4e15-9144-f8630f8b33ee",
   "metadata": {},
   "outputs": [],
   "source": [
    "# multiple assignment\n",
    "num1, num2, num3 = 67, 89, 37"
   ]
  },
  {
   "cell_type": "code",
   "execution_count": 28,
   "id": "c4d7b7e0-c64a-472f-a92e-6a9988bd3e25",
   "metadata": {},
   "outputs": [
    {
     "data": {
      "text/plain": [
       "67"
      ]
     },
     "execution_count": 28,
     "metadata": {},
     "output_type": "execute_result"
    }
   ],
   "source": [
    "num1"
   ]
  },
  {
   "cell_type": "code",
   "execution_count": 29,
   "id": "8dbe5181-aeea-44a6-be8c-776888748209",
   "metadata": {},
   "outputs": [
    {
     "data": {
      "text/plain": [
       "89"
      ]
     },
     "execution_count": 29,
     "metadata": {},
     "output_type": "execute_result"
    }
   ],
   "source": [
    "num2"
   ]
  },
  {
   "cell_type": "code",
   "execution_count": 30,
   "id": "ded257dc-0208-40ab-b835-d977e75fea5c",
   "metadata": {},
   "outputs": [
    {
     "data": {
      "text/plain": [
       "37"
      ]
     },
     "execution_count": 30,
     "metadata": {},
     "output_type": "execute_result"
    }
   ],
   "source": [
    "num3"
   ]
  },
  {
   "cell_type": "code",
   "execution_count": 31,
   "id": "384933e5-16fd-400a-8925-35ba03d09efc",
   "metadata": {},
   "outputs": [],
   "source": [
    "# multiple assignment\n",
    "num1, num2, num3 = 67, 89.35, 'India'"
   ]
  },
  {
   "cell_type": "code",
   "execution_count": 32,
   "id": "516ff2fa-f963-4d92-a669-5a06b7116f90",
   "metadata": {},
   "outputs": [
    {
     "data": {
      "text/plain": [
       "67"
      ]
     },
     "execution_count": 32,
     "metadata": {},
     "output_type": "execute_result"
    }
   ],
   "source": [
    "num1"
   ]
  },
  {
   "cell_type": "code",
   "execution_count": 33,
   "id": "450751a4-8e89-47e6-a76c-67968dcdc484",
   "metadata": {},
   "outputs": [
    {
     "data": {
      "text/plain": [
       "89.35"
      ]
     },
     "execution_count": 33,
     "metadata": {},
     "output_type": "execute_result"
    }
   ],
   "source": [
    "num2"
   ]
  },
  {
   "cell_type": "code",
   "execution_count": 34,
   "id": "30adcbc5-f220-4de2-bce8-c6d34666f6e6",
   "metadata": {},
   "outputs": [
    {
     "data": {
      "text/plain": [
       "'India'"
      ]
     },
     "execution_count": 34,
     "metadata": {},
     "output_type": "execute_result"
    }
   ],
   "source": [
    "num3"
   ]
  },
  {
   "cell_type": "code",
   "execution_count": 35,
   "id": "64f2a444-822e-4b04-8046-461990846609",
   "metadata": {},
   "outputs": [],
   "source": [
    "num1 = num2 = num3 = 64"
   ]
  },
  {
   "cell_type": "code",
   "execution_count": 36,
   "id": "946efd65-7d22-4f24-82da-7fe7c3d0fc32",
   "metadata": {},
   "outputs": [
    {
     "data": {
      "text/plain": [
       "64"
      ]
     },
     "execution_count": 36,
     "metadata": {},
     "output_type": "execute_result"
    }
   ],
   "source": [
    "num1"
   ]
  },
  {
   "cell_type": "code",
   "execution_count": 37,
   "id": "a18bde38-348f-443b-b9ca-61df43b9bdfc",
   "metadata": {},
   "outputs": [
    {
     "data": {
      "text/plain": [
       "64"
      ]
     },
     "execution_count": 37,
     "metadata": {},
     "output_type": "execute_result"
    }
   ],
   "source": [
    "num2"
   ]
  },
  {
   "cell_type": "code",
   "execution_count": 38,
   "id": "8aa5a272-da26-4e52-aed9-149a4eb213af",
   "metadata": {},
   "outputs": [
    {
     "data": {
      "text/plain": [
       "64"
      ]
     },
     "execution_count": 38,
     "metadata": {},
     "output_type": "execute_result"
    }
   ],
   "source": [
    "num3"
   ]
  },
  {
   "cell_type": "code",
   "execution_count": 39,
   "id": "6356337c-f977-423d-a941-aa07ec4c518b",
   "metadata": {},
   "outputs": [
    {
     "name": "stdout",
     "output_type": "stream",
     "text": [
      "100\n"
     ]
    }
   ],
   "source": [
    "# Program for addition of numbers\n",
    "num1 = 23\n",
    "num2 = 77\n",
    "add = num1 + num2 \n",
    "print(add)          "
   ]
  },
  {
   "cell_type": "code",
   "execution_count": 40,
   "id": "d228c770-e423-46b9-ad61-fef4d640c897",
   "metadata": {},
   "outputs": [
    {
     "name": "stdout",
     "output_type": "stream",
     "text": [
      "100\n"
     ]
    }
   ],
   "source": [
    "# Program for addition of numbers\n",
    "num1 = 23; num2 = 77; add = num1 + num2 ; print(add)          "
   ]
  },
  {
   "cell_type": "markdown",
   "id": "0b713493-6cc9-4fe7-a3d3-bd0f5905b582",
   "metadata": {},
   "source": [
    "##### String Functions"
   ]
  },
  {
   "cell_type": "code",
   "execution_count": 41,
   "id": "663979e8-9175-4a4e-a92f-bd4a281ca8e7",
   "metadata": {},
   "outputs": [],
   "source": [
    "name = 'Tushar'"
   ]
  },
  {
   "cell_type": "code",
   "execution_count": 42,
   "id": "96f884da-c5de-4502-b8d8-eb8e3b22861f",
   "metadata": {},
   "outputs": [
    {
     "data": {
      "text/plain": [
       "'tushar'"
      ]
     },
     "execution_count": 42,
     "metadata": {},
     "output_type": "execute_result"
    }
   ],
   "source": [
    "name.lower()"
   ]
  },
  {
   "cell_type": "code",
   "execution_count": 43,
   "id": "99f802af-5175-40bb-983c-69ddc61609c2",
   "metadata": {},
   "outputs": [
    {
     "data": {
      "text/plain": [
       "'TUSHAR'"
      ]
     },
     "execution_count": 43,
     "metadata": {},
     "output_type": "execute_result"
    }
   ],
   "source": [
    "x = name.upper()\n",
    "x"
   ]
  },
  {
   "cell_type": "code",
   "execution_count": 44,
   "id": "7235f49c-6be2-4aa9-b97f-454a4f92a66d",
   "metadata": {},
   "outputs": [
    {
     "data": {
      "text/plain": [
       "'Tushar'"
      ]
     },
     "execution_count": 44,
     "metadata": {},
     "output_type": "execute_result"
    }
   ],
   "source": [
    "name.title()"
   ]
  },
  {
   "cell_type": "code",
   "execution_count": 45,
   "id": "e400e8c7-e4a4-4b01-9f92-fa3ac69bbfe3",
   "metadata": {},
   "outputs": [
    {
     "data": {
      "text/plain": [
       "'tUSHAR'"
      ]
     },
     "execution_count": 45,
     "metadata": {},
     "output_type": "execute_result"
    }
   ],
   "source": [
    "name.swapcase()"
   ]
  },
  {
   "cell_type": "code",
   "execution_count": 46,
   "id": "9fd47483-1985-40f6-bbfe-16a09ca8c65b",
   "metadata": {},
   "outputs": [
    {
     "data": {
      "text/plain": [
       "False"
      ]
     },
     "execution_count": 46,
     "metadata": {},
     "output_type": "execute_result"
    }
   ],
   "source": [
    "name.isupper()"
   ]
  },
  {
   "cell_type": "code",
   "execution_count": 47,
   "id": "f3d5dc01-4976-47f5-a6bf-b7c66b8c0c31",
   "metadata": {},
   "outputs": [
    {
     "data": {
      "text/plain": [
       "False"
      ]
     },
     "execution_count": 47,
     "metadata": {},
     "output_type": "execute_result"
    }
   ],
   "source": [
    "name.islower()"
   ]
  },
  {
   "cell_type": "code",
   "execution_count": 48,
   "id": "8d959c2e-acfe-4521-8db3-fa7e6183933d",
   "metadata": {},
   "outputs": [
    {
     "data": {
      "text/plain": [
       "True"
      ]
     },
     "execution_count": 48,
     "metadata": {},
     "output_type": "execute_result"
    }
   ],
   "source": [
    "name.istitle()"
   ]
  },
  {
   "cell_type": "code",
   "execution_count": 49,
   "id": "b81ce58c-004d-4347-a406-c180663fbe1f",
   "metadata": {},
   "outputs": [
    {
     "data": {
      "text/plain": [
       "'Tushar'"
      ]
     },
     "execution_count": 49,
     "metadata": {},
     "output_type": "execute_result"
    }
   ],
   "source": [
    "name"
   ]
  },
  {
   "cell_type": "code",
   "execution_count": 50,
   "id": "aa40e5d5-84f3-4684-bce1-090a7e00c835",
   "metadata": {},
   "outputs": [
    {
     "data": {
      "text/plain": [
       "True"
      ]
     },
     "execution_count": 50,
     "metadata": {},
     "output_type": "execute_result"
    }
   ],
   "source": [
    "name.startswith('T')"
   ]
  },
  {
   "cell_type": "code",
   "execution_count": 51,
   "id": "fe8c49d6-1fa6-4c08-bb58-730196f8ab15",
   "metadata": {},
   "outputs": [
    {
     "data": {
      "text/plain": [
       "False"
      ]
     },
     "execution_count": 51,
     "metadata": {},
     "output_type": "execute_result"
    }
   ],
   "source": [
    "name.startswith('tu')"
   ]
  },
  {
   "cell_type": "code",
   "execution_count": 52,
   "id": "b5026dac-36b8-4c4b-9835-35656aab64b6",
   "metadata": {},
   "outputs": [
    {
     "data": {
      "text/plain": [
       "False"
      ]
     },
     "execution_count": 52,
     "metadata": {},
     "output_type": "execute_result"
    }
   ],
   "source": [
    "name.endswith('AR')"
   ]
  },
  {
   "cell_type": "code",
   "execution_count": 53,
   "id": "fc493342-1d8f-4808-b17c-2ba24ed1e36c",
   "metadata": {},
   "outputs": [
    {
     "data": {
      "text/plain": [
       "True"
      ]
     },
     "execution_count": 53,
     "metadata": {},
     "output_type": "execute_result"
    }
   ],
   "source": [
    "name.endswith('ar')"
   ]
  },
  {
   "cell_type": "code",
   "execution_count": 54,
   "id": "c00a1fad-8152-4bff-a0ce-78d25f0740db",
   "metadata": {},
   "outputs": [
    {
     "data": {
      "text/plain": [
       "'Tooshar'"
      ]
     },
     "execution_count": 54,
     "metadata": {},
     "output_type": "execute_result"
    }
   ],
   "source": [
    "name.replace('u','oo')"
   ]
  },
  {
   "cell_type": "code",
   "execution_count": 55,
   "id": "ae7e072c-296e-49fc-b892-dfc0d7da3ed4",
   "metadata": {},
   "outputs": [
    {
     "data": {
      "text/plain": [
       "0"
      ]
     },
     "execution_count": 55,
     "metadata": {},
     "output_type": "execute_result"
    }
   ],
   "source": [
    "name.find('T')"
   ]
  },
  {
   "cell_type": "code",
   "execution_count": 56,
   "id": "2f7ebae0-b517-4ddd-be52-441ce0a7c8f4",
   "metadata": {},
   "outputs": [
    {
     "data": {
      "text/plain": [
       "-1"
      ]
     },
     "execution_count": 56,
     "metadata": {},
     "output_type": "execute_result"
    }
   ],
   "source": [
    "name.find('y')"
   ]
  },
  {
   "cell_type": "code",
   "execution_count": 57,
   "id": "a41c8086-2be5-4c93-88f7-57480c25dd5c",
   "metadata": {},
   "outputs": [
    {
     "data": {
      "text/plain": [
       "'Tushar'"
      ]
     },
     "execution_count": 57,
     "metadata": {},
     "output_type": "execute_result"
    }
   ],
   "source": [
    "name"
   ]
  },
  {
   "cell_type": "code",
   "execution_count": 58,
   "id": "9748bfb7-0433-4eb1-b1ea-09646d52a369",
   "metadata": {},
   "outputs": [],
   "source": [
    "city = ' Pune  '"
   ]
  },
  {
   "cell_type": "code",
   "execution_count": 59,
   "id": "c1b63233-20dc-4e86-aeb7-6d058411abc4",
   "metadata": {},
   "outputs": [
    {
     "data": {
      "text/plain": [
       "' Pune  '"
      ]
     },
     "execution_count": 59,
     "metadata": {},
     "output_type": "execute_result"
    }
   ],
   "source": [
    "city"
   ]
  },
  {
   "cell_type": "code",
   "execution_count": 60,
   "id": "9a230905-5c6f-48a5-9cc3-11fcc8fadbd2",
   "metadata": {},
   "outputs": [
    {
     "name": "stdout",
     "output_type": "stream",
     "text": [
      " Pune  \n"
     ]
    }
   ],
   "source": [
    "print(city)"
   ]
  },
  {
   "cell_type": "code",
   "execution_count": 61,
   "id": "11ea5bc0-ca6d-4c0e-9072-0c8ed0147eb6",
   "metadata": {},
   "outputs": [
    {
     "data": {
      "text/plain": [
       "'Pune  '"
      ]
     },
     "execution_count": 61,
     "metadata": {},
     "output_type": "execute_result"
    }
   ],
   "source": [
    "city.lstrip()"
   ]
  },
  {
   "cell_type": "code",
   "execution_count": 62,
   "id": "799fec44-447c-49fa-a590-b1d424d5d02e",
   "metadata": {},
   "outputs": [
    {
     "data": {
      "text/plain": [
       "' Pune'"
      ]
     },
     "execution_count": 62,
     "metadata": {},
     "output_type": "execute_result"
    }
   ],
   "source": [
    "city.rstrip()"
   ]
  },
  {
   "cell_type": "code",
   "execution_count": 63,
   "id": "ab1dcd4c-ee8d-452b-802c-e2539ca98acd",
   "metadata": {},
   "outputs": [
    {
     "data": {
      "text/plain": [
       "'Pune'"
      ]
     },
     "execution_count": 63,
     "metadata": {},
     "output_type": "execute_result"
    }
   ],
   "source": [
    "city.strip()"
   ]
  },
  {
   "cell_type": "code",
   "execution_count": 64,
   "id": "2c3f513c-f269-4c62-ad12-25634485f100",
   "metadata": {},
   "outputs": [],
   "source": [
    "sent = 'Hello friends how are you?'"
   ]
  },
  {
   "cell_type": "code",
   "execution_count": 65,
   "id": "01e75298-0c72-4b4b-b32b-b40ea7006f74",
   "metadata": {},
   "outputs": [
    {
     "data": {
      "text/plain": [
       "['Hello', 'friends', 'how', 'are', 'you?']"
      ]
     },
     "execution_count": 65,
     "metadata": {},
     "output_type": "execute_result"
    }
   ],
   "source": [
    "sent.split()"
   ]
  },
  {
   "cell_type": "code",
   "execution_count": 66,
   "id": "42099012-e734-4199-9270-f4574bb31b14",
   "metadata": {},
   "outputs": [],
   "source": [
    "s1 = 'Tushar'\n",
    "s2 = 'Pune'"
   ]
  },
  {
   "cell_type": "code",
   "execution_count": 67,
   "id": "616dfe92-9e9e-4a42-bde3-89ad57244e23",
   "metadata": {},
   "outputs": [
    {
     "name": "stdout",
     "output_type": "stream",
     "text": [
      "TusharPune\n"
     ]
    }
   ],
   "source": [
    "new = s1 + s2\n",
    "print(new)"
   ]
  },
  {
   "cell_type": "code",
   "execution_count": 68,
   "id": "00921c04-9063-466e-9c4e-6754753a3975",
   "metadata": {},
   "outputs": [
    {
     "data": {
      "text/plain": [
       "'TusharTusharTusharTushar'"
      ]
     },
     "execution_count": 68,
     "metadata": {},
     "output_type": "execute_result"
    }
   ],
   "source": [
    "s1 * 4"
   ]
  },
  {
   "cell_type": "markdown",
   "id": "5044f4fe-0068-4dff-83cf-151017bb56ab",
   "metadata": {},
   "source": [
    "##### Escape Sequence"
   ]
  },
  {
   "cell_type": "code",
   "execution_count": 69,
   "id": "312f2aaa-7752-46ba-acf4-e7a2c9aaf179",
   "metadata": {},
   "outputs": [
    {
     "name": "stdout",
     "output_type": "stream",
     "text": [
      "Hello World\n"
     ]
    }
   ],
   "source": [
    "print('Hello World')"
   ]
  },
  {
   "cell_type": "code",
   "execution_count": 70,
   "id": "30697d54-e349-4ee1-b4a6-cfce42cfba3b",
   "metadata": {},
   "outputs": [
    {
     "name": "stdout",
     "output_type": "stream",
     "text": [
      "Hello\n",
      "World\n"
     ]
    }
   ],
   "source": [
    "# new line\n",
    "print('Hello\\nWorld')"
   ]
  },
  {
   "cell_type": "code",
   "execution_count": 71,
   "id": "0f5bd0f4-ebd3-4e56-a1ae-d08eae5307ad",
   "metadata": {},
   "outputs": [
    {
     "name": "stdout",
     "output_type": "stream",
     "text": [
      "Hello\tWorld\n"
     ]
    }
   ],
   "source": [
    "# tab\n",
    "print('Hello\\tWorld')"
   ]
  },
  {
   "cell_type": "code",
   "execution_count": 72,
   "id": "bf1e9e08-c4bd-46eb-ae69-fd1ebb20a464",
   "metadata": {},
   "outputs": [
    {
     "name": "stdout",
     "output_type": "stream",
     "text": [
      "Hello\\World\n"
     ]
    }
   ],
   "source": [
    "# tab\n",
    "print('Hello\\\\World')"
   ]
  },
  {
   "cell_type": "code",
   "execution_count": 73,
   "id": "faf1c6be-d999-499a-9797-aefb03ca47cf",
   "metadata": {},
   "outputs": [
    {
     "name": "stdout",
     "output_type": "stream",
     "text": [
      "Hello'World\n"
     ]
    }
   ],
   "source": [
    "# tab\n",
    "print('Hello\\'World')"
   ]
  },
  {
   "cell_type": "code",
   "execution_count": 76,
   "id": "9d3c977d-40d5-4f1e-8698-72c82153467a",
   "metadata": {},
   "outputs": [],
   "source": [
    "sent = 'Hello\\tfriends!\\nWelcome to Python Programming'"
   ]
  },
  {
   "cell_type": "code",
   "execution_count": 77,
   "id": "a7634e45-fcd8-41e2-923b-17dbd628cfc2",
   "metadata": {},
   "outputs": [
    {
     "name": "stdout",
     "output_type": "stream",
     "text": [
      "Hello\tfriends!\n",
      "Welcome to Python Programming\n"
     ]
    }
   ],
   "source": [
    "print(sent)"
   ]
  },
  {
   "cell_type": "code",
   "execution_count": 79,
   "id": "3f9fd7e7-4e43-410f-a7b3-9019e60d99fd",
   "metadata": {},
   "outputs": [
    {
     "name": "stdout",
     "output_type": "stream",
     "text": [
      "Hello friends! Welcome to \"Python\" Programming\n"
     ]
    }
   ],
   "source": [
    "sent = 'Hello friends! Welcome to \"Python\" Programming'\n",
    "print(sent)"
   ]
  },
  {
   "cell_type": "code",
   "execution_count": 80,
   "id": "9e344412-03b2-470c-be6b-f1c7d71fb9d7",
   "metadata": {},
   "outputs": [
    {
     "name": "stdout",
     "output_type": "stream",
     "text": [
      "Hello friends! Welcome to 'Python' Programming\n"
     ]
    }
   ],
   "source": [
    "sent = \"Hello friends! Welcome to 'Python' Programming\"\n",
    "print(sent)"
   ]
  },
  {
   "cell_type": "code",
   "execution_count": 81,
   "id": "a94a499b-2f19-4f08-a06e-1abdad90b8e5",
   "metadata": {},
   "outputs": [
    {
     "data": {
      "text/plain": [
       "97"
      ]
     },
     "execution_count": 81,
     "metadata": {},
     "output_type": "execute_result"
    }
   ],
   "source": [
    "ord('a')"
   ]
  },
  {
   "cell_type": "code",
   "execution_count": 82,
   "id": "282fe5d3-4905-4fed-8a4b-bf19f5bacd32",
   "metadata": {},
   "outputs": [
    {
     "data": {
      "text/plain": [
       "65"
      ]
     },
     "execution_count": 82,
     "metadata": {},
     "output_type": "execute_result"
    }
   ],
   "source": [
    "ord('A')"
   ]
  },
  {
   "cell_type": "code",
   "execution_count": 83,
   "id": "d1470588-f490-4ed4-a6d9-a52c8aaa56f2",
   "metadata": {},
   "outputs": [
    {
     "data": {
      "text/plain": [
       "'c'"
      ]
     },
     "execution_count": 83,
     "metadata": {},
     "output_type": "execute_result"
    }
   ],
   "source": [
    "chr(99)"
   ]
  },
  {
   "cell_type": "code",
   "execution_count": 84,
   "id": "73235370-d935-4a54-b207-4c4f875748d3",
   "metadata": {},
   "outputs": [
    {
     "data": {
      "text/plain": [
       "'¾'"
      ]
     },
     "execution_count": 84,
     "metadata": {},
     "output_type": "execute_result"
    }
   ],
   "source": [
    "chr(190)"
   ]
  },
  {
   "cell_type": "code",
   "execution_count": 88,
   "id": "b4020a08-7b3f-471d-996d-0a8dbfaa3a7f",
   "metadata": {},
   "outputs": [
    {
     "data": {
      "text/plain": [
       "'»'"
      ]
     },
     "execution_count": 88,
     "metadata": {},
     "output_type": "execute_result"
    }
   ],
   "source": [
    "chr(187)"
   ]
  },
  {
   "cell_type": "code",
   "execution_count": 89,
   "id": "7969cef5-cdd9-4067-877b-08d35d91b3c3",
   "metadata": {},
   "outputs": [],
   "source": [
    "x = '\\u0906'"
   ]
  },
  {
   "cell_type": "code",
   "execution_count": 90,
   "id": "3492b4df-bb55-4bae-9db2-50d78264cc11",
   "metadata": {},
   "outputs": [
    {
     "name": "stdout",
     "output_type": "stream",
     "text": [
      "आ\n"
     ]
    }
   ],
   "source": [
    "print(x)"
   ]
  },
  {
   "cell_type": "code",
   "execution_count": 91,
   "id": "5d21ec9d-ac00-41be-966c-7ecf65eb2319",
   "metadata": {},
   "outputs": [
    {
     "name": "stdout",
     "output_type": "stream",
     "text": [
      "आई\n"
     ]
    }
   ],
   "source": [
    "x = '\\u0906\\u0908'\n",
    "print(x)"
   ]
  },
  {
   "cell_type": "code",
   "execution_count": 92,
   "id": "004eaaf6-c224-4197-bf5a-04cb15151e2c",
   "metadata": {},
   "outputs": [
    {
     "name": "stdout",
     "output_type": "stream",
     "text": [
      "वा\n"
     ]
    }
   ],
   "source": [
    "x = '\\u0935\\u093e'\n",
    "print(x)"
   ]
  },
  {
   "cell_type": "code",
   "execution_count": 93,
   "id": "f8e57713-c062-41c7-b9b8-322da7406eb4",
   "metadata": {},
   "outputs": [],
   "source": [
    "name = 'तुषार'"
   ]
  },
  {
   "cell_type": "code",
   "execution_count": 94,
   "id": "7540892a-5d14-4b7d-907b-901bb80d4bbf",
   "metadata": {},
   "outputs": [
    {
     "name": "stdout",
     "output_type": "stream",
     "text": [
      "तुषार\n"
     ]
    }
   ],
   "source": [
    "print(name)"
   ]
  },
  {
   "cell_type": "code",
   "execution_count": 95,
   "id": "af588462-1922-4d1b-ad05-5230dfce8256",
   "metadata": {},
   "outputs": [
    {
     "data": {
      "text/plain": [
       "True"
      ]
     },
     "execution_count": 95,
     "metadata": {},
     "output_type": "execute_result"
    }
   ],
   "source": [
    "name.startswith('तु')"
   ]
  },
  {
   "cell_type": "code",
   "execution_count": 96,
   "id": "6d301fc6-f7e4-4607-b92d-ccb9edcbe3f8",
   "metadata": {},
   "outputs": [
    {
     "data": {
      "text/plain": [
       "'तुशार'"
      ]
     },
     "execution_count": 96,
     "metadata": {},
     "output_type": "execute_result"
    }
   ],
   "source": [
    "name.replace('ष','श')"
   ]
  },
  {
   "cell_type": "code",
   "execution_count": 97,
   "id": "5efe33c6-8698-468c-8017-748389b0735d",
   "metadata": {},
   "outputs": [
    {
     "name": "stdout",
     "output_type": "stream",
     "text": [
      "तुषार\n",
      "कुटे\n"
     ]
    }
   ],
   "source": [
    "print(\"तुषार\\nकुटे\")"
   ]
  },
  {
   "cell_type": "code",
   "execution_count": 98,
   "id": "43f27cc2-5067-40c2-8a73-88ece7e8faa9",
   "metadata": {},
   "outputs": [],
   "source": [
    "print = 'tushar'"
   ]
  },
  {
   "cell_type": "code",
   "execution_count": 99,
   "id": "08133289-52b6-402d-a0ca-dc05ef14834f",
   "metadata": {},
   "outputs": [
    {
     "ename": "TypeError",
     "evalue": "'str' object is not callable",
     "output_type": "error",
     "traceback": [
      "\u001b[0;31m---------------------------------------------------------------------------\u001b[0m",
      "\u001b[0;31mTypeError\u001b[0m                                 Traceback (most recent call last)",
      "Cell \u001b[0;32mIn[99], line 1\u001b[0m\n\u001b[0;32m----> 1\u001b[0m \u001b[38;5;28;43mprint\u001b[39;49m\u001b[43m(\u001b[49m\u001b[43mname\u001b[49m\u001b[43m)\u001b[49m\n",
      "\u001b[0;31mTypeError\u001b[0m: 'str' object is not callable"
     ]
    }
   ],
   "source": [
    "print(name)"
   ]
  },
  {
   "cell_type": "code",
   "execution_count": 100,
   "id": "53f83c58-e7e4-4817-abb9-f807f26f1ef6",
   "metadata": {},
   "outputs": [],
   "source": [
    "del print"
   ]
  },
  {
   "cell_type": "code",
   "execution_count": 101,
   "id": "f2be75dd-fa8a-4128-9cc9-b96372796a2e",
   "metadata": {},
   "outputs": [
    {
     "name": "stdout",
     "output_type": "stream",
     "text": [
      "तुषार\n"
     ]
    }
   ],
   "source": [
    "print(name)"
   ]
  },
  {
   "cell_type": "markdown",
   "id": "8fb6191b-dacb-4220-ac4c-83e3446950ba",
   "metadata": {},
   "source": [
    "##### Multi-line strings"
   ]
  },
  {
   "cell_type": "code",
   "execution_count": 103,
   "id": "0964daf1-7c35-4401-a5a3-03a67bda8882",
   "metadata": {},
   "outputs": [],
   "source": [
    "sent = '''Hello friends,\n",
    "How are you?\n",
    "Welcome to Python Programming'''"
   ]
  },
  {
   "cell_type": "code",
   "execution_count": 104,
   "id": "1c3ba50a-53df-4c60-b4f7-516269af5cd2",
   "metadata": {},
   "outputs": [
    {
     "name": "stdout",
     "output_type": "stream",
     "text": [
      "Hello friends,\n",
      "How are you?\n",
      "Welcome to Python Programming\n"
     ]
    }
   ],
   "source": [
    "print(sent)"
   ]
  },
  {
   "cell_type": "markdown",
   "id": "a4ee9cda-b67e-4497-966e-501c51671b24",
   "metadata": {},
   "source": [
    "##### Print function"
   ]
  },
  {
   "cell_type": "code",
   "execution_count": 106,
   "id": "cf2029a2-8de6-4f50-9cd7-d49ec4aa49f9",
   "metadata": {},
   "outputs": [],
   "source": [
    "name = 'Tushar'\n",
    "marks = 67.89"
   ]
  },
  {
   "cell_type": "code",
   "execution_count": 109,
   "id": "86ca4734-133e-410d-84d5-18e679cda27d",
   "metadata": {},
   "outputs": [
    {
     "name": "stdout",
     "output_type": "stream",
     "text": [
      "My name is Tushar and marks are 67.89\n"
     ]
    }
   ],
   "source": [
    "print('My name is',name,'and marks are',marks)"
   ]
  },
  {
   "cell_type": "code",
   "execution_count": 111,
   "id": "a5cdc529-7d20-45ff-8319-0845cb3a8ea3",
   "metadata": {},
   "outputs": [
    {
     "name": "stdout",
     "output_type": "stream",
     "text": [
      "My name is Tushar and marks are 67.890000\n"
     ]
    }
   ],
   "source": [
    "print('My name is %s and marks are %f' %(name, marks))"
   ]
  },
  {
   "cell_type": "code",
   "execution_count": 112,
   "id": "49c6ee28-f3f0-4416-b8b3-f2e331f25d62",
   "metadata": {},
   "outputs": [
    {
     "name": "stdout",
     "output_type": "stream",
     "text": [
      "My name is Tushar and marks are 67\n"
     ]
    }
   ],
   "source": [
    "print('My name is %s and marks are %i' %(name, marks))"
   ]
  },
  {
   "cell_type": "code",
   "execution_count": 113,
   "id": "95b3b5ef-f02a-4b83-bc96-03e0dbac3c65",
   "metadata": {},
   "outputs": [
    {
     "name": "stdout",
     "output_type": "stream",
     "text": [
      "Tushar 67.89\n"
     ]
    }
   ],
   "source": [
    "print(name, marks)"
   ]
  },
  {
   "cell_type": "code",
   "execution_count": 114,
   "id": "f4bac32f-111e-4bec-b38b-537bda0054ab",
   "metadata": {},
   "outputs": [
    {
     "name": "stdout",
     "output_type": "stream",
     "text": [
      "Tushar\n",
      "67.89\n"
     ]
    }
   ],
   "source": [
    "print(name, marks, sep='\\n')"
   ]
  },
  {
   "cell_type": "code",
   "execution_count": 115,
   "id": "6278b68e-f783-43ef-a744-942dc7b1872c",
   "metadata": {},
   "outputs": [
    {
     "name": "stdout",
     "output_type": "stream",
     "text": [
      "Tushar67.89\n"
     ]
    }
   ],
   "source": [
    "print(name, marks, sep='')"
   ]
  },
  {
   "cell_type": "markdown",
   "id": "e7137ad1-50ae-43dd-ae0b-a2ab69f98200",
   "metadata": {},
   "source": [
    "##### Arithmetic Operators"
   ]
  },
  {
   "cell_type": "code",
   "execution_count": 117,
   "id": "9b6d57d9-c2e8-4329-9e80-88ac16648dbd",
   "metadata": {},
   "outputs": [],
   "source": [
    "num1 = 45\n",
    "num2 = 13"
   ]
  },
  {
   "cell_type": "code",
   "execution_count": 118,
   "id": "017267d4-c756-4a90-a8cb-e23639f8d666",
   "metadata": {},
   "outputs": [
    {
     "name": "stdout",
     "output_type": "stream",
     "text": [
      "58\n"
     ]
    }
   ],
   "source": [
    "add = num1 + num2\n",
    "print(add)"
   ]
  },
  {
   "cell_type": "code",
   "execution_count": 122,
   "id": "7094c296-7c44-4cb9-916e-51a92846d5db",
   "metadata": {},
   "outputs": [
    {
     "name": "stdout",
     "output_type": "stream",
     "text": [
      "Addition: 58\n",
      "Subtraction: 32\n",
      "Multiplication: 585\n",
      "Division: 3.4615384615384617\n",
      "Floor Division: 3\n",
      "Modulus: 6\n",
      "Exponentiation: 3102863559971923828125\n"
     ]
    }
   ],
   "source": [
    "print('Addition:', num1 + num2)\n",
    "print('Subtraction:', num1 - num2)\n",
    "print('Multiplication:', num1 * num2)\n",
    "print('Division:', num1 / num2)         # Result -> float\n",
    "print('Floor Division:', num1 // num2)  # Result -> int\n",
    "print('Modulus:', num1 % num2)          # Remainder of division\n",
    "print('Exponentiation:', num1 ** num2)  # First number raised to other"
   ]
  },
  {
   "cell_type": "markdown",
   "id": "725f1af4-6088-40db-b222-8b0838f40957",
   "metadata": {},
   "source": [
    "##### Relational Operators"
   ]
  },
  {
   "cell_type": "code",
   "execution_count": 124,
   "id": "2d313115-4269-4ecd-8900-69b42021fc9b",
   "metadata": {},
   "outputs": [
    {
     "data": {
      "text/plain": [
       "True"
      ]
     },
     "execution_count": 124,
     "metadata": {},
     "output_type": "execute_result"
    }
   ],
   "source": [
    "num1 > num2"
   ]
  },
  {
   "cell_type": "code",
   "execution_count": 125,
   "id": "17abd443-ee73-4257-b329-09c39b8c8441",
   "metadata": {},
   "outputs": [
    {
     "name": "stdout",
     "output_type": "stream",
     "text": [
      "Greater Than: True\n",
      "Greater Than or equal to: True\n",
      "Less Than: False\n",
      "Less Than or equal to: False\n",
      "Equals: False\n",
      "Not equal to: True\n"
     ]
    }
   ],
   "source": [
    "print('Greater Than:', num1 > num2)\n",
    "print('Greater Than or equal to:', num1 >= num2)\n",
    "print('Less Than:', num1 < num2)\n",
    "print('Less Than or equal to:', num1 <= num2)\n",
    "print('Equals:', num1 == num2)\n",
    "print('Not equal to:', num1 != num2)"
   ]
  },
  {
   "cell_type": "markdown",
   "id": "c3415779-54a5-40d6-971c-123cf92efc6a",
   "metadata": {},
   "source": [
    "##### Assignment Operators"
   ]
  },
  {
   "cell_type": "code",
   "execution_count": 127,
   "id": "6b33bba2-81e6-4143-a3dc-6619c4fa4304",
   "metadata": {},
   "outputs": [],
   "source": [
    "num1 = 45\n",
    "num2 = 13"
   ]
  },
  {
   "cell_type": "code",
   "execution_count": 128,
   "id": "8150fe1b-9e9e-431c-a85f-129619a26577",
   "metadata": {},
   "outputs": [
    {
     "name": "stdout",
     "output_type": "stream",
     "text": [
      "46\n"
     ]
    }
   ],
   "source": [
    "num1 += 1\n",
    "print(num1)"
   ]
  },
  {
   "cell_type": "code",
   "execution_count": 129,
   "id": "4db1e625-ba23-400e-84f3-4576309d280d",
   "metadata": {},
   "outputs": [
    {
     "data": {
      "text/plain": [
       "8"
      ]
     },
     "execution_count": 129,
     "metadata": {},
     "output_type": "execute_result"
    }
   ],
   "source": [
    "num2 -= 5\n",
    "num2"
   ]
  },
  {
   "cell_type": "code",
   "execution_count": 130,
   "id": "d3efbd95-520b-4b65-adf9-ea103f3b01cd",
   "metadata": {},
   "outputs": [
    {
     "data": {
      "text/plain": [
       "92"
      ]
     },
     "execution_count": 130,
     "metadata": {},
     "output_type": "execute_result"
    }
   ],
   "source": [
    "num1 *= 2\n",
    "num1"
   ]
  },
  {
   "cell_type": "code",
   "execution_count": 131,
   "id": "adf6d26a-4b94-4cb9-9145-cc8e1c467c20",
   "metadata": {},
   "outputs": [
    {
     "data": {
      "text/plain": [
       "4.0"
      ]
     },
     "execution_count": 131,
     "metadata": {},
     "output_type": "execute_result"
    }
   ],
   "source": [
    "num2 /= 2\n",
    "num2"
   ]
  },
  {
   "cell_type": "markdown",
   "id": "e86283ff-0b37-4222-9546-baa25f373d1e",
   "metadata": {},
   "source": [
    "##### Logical Operators"
   ]
  },
  {
   "cell_type": "code",
   "execution_count": 133,
   "id": "980f8d85-761d-4dc6-a307-30e765d74b0c",
   "metadata": {},
   "outputs": [],
   "source": [
    "num1 = 45\n",
    "num2 = 13"
   ]
  },
  {
   "cell_type": "code",
   "execution_count": 134,
   "id": "422cf45f-ff69-4cb8-9d24-70a072d58389",
   "metadata": {},
   "outputs": [
    {
     "data": {
      "text/plain": [
       "True"
      ]
     },
     "execution_count": 134,
     "metadata": {},
     "output_type": "execute_result"
    }
   ],
   "source": [
    "num1 > num2 and num1 < 100"
   ]
  },
  {
   "cell_type": "code",
   "execution_count": 135,
   "id": "909536ff-29d4-411d-844e-595b554b4524",
   "metadata": {},
   "outputs": [
    {
     "data": {
      "text/plain": [
       "True"
      ]
     },
     "execution_count": 135,
     "metadata": {},
     "output_type": "execute_result"
    }
   ],
   "source": [
    "num1 > num2 or num1 > 100"
   ]
  },
  {
   "cell_type": "code",
   "execution_count": 136,
   "id": "0a30efd8-dca2-477c-9505-631357f6b817",
   "metadata": {},
   "outputs": [
    {
     "data": {
      "text/plain": [
       "False"
      ]
     },
     "execution_count": 136,
     "metadata": {},
     "output_type": "execute_result"
    }
   ],
   "source": [
    "num1 > num2 and num1 > 100"
   ]
  },
  {
   "cell_type": "code",
   "execution_count": 137,
   "id": "860f0f8f-6f71-417c-a78a-5b3ed08fde19",
   "metadata": {},
   "outputs": [
    {
     "data": {
      "text/plain": [
       "True"
      ]
     },
     "execution_count": 137,
     "metadata": {},
     "output_type": "execute_result"
    }
   ],
   "source": [
    "num1 > num2"
   ]
  },
  {
   "cell_type": "code",
   "execution_count": 138,
   "id": "5d65fc30-b03a-41ed-99e8-2fd89c8c1035",
   "metadata": {},
   "outputs": [
    {
     "data": {
      "text/plain": [
       "False"
      ]
     },
     "execution_count": 138,
     "metadata": {},
     "output_type": "execute_result"
    }
   ],
   "source": [
    "not num1 > num2"
   ]
  },
  {
   "cell_type": "markdown",
   "id": "7d6c1aa1-474a-4c59-8ba4-69473c725499",
   "metadata": {},
   "source": [
    "##### Membership Selection"
   ]
  },
  {
   "cell_type": "code",
   "execution_count": 140,
   "id": "702e951b-c3cb-441f-92c4-5a6974bec93e",
   "metadata": {},
   "outputs": [],
   "source": [
    "name = 'Tushar'"
   ]
  },
  {
   "cell_type": "code",
   "execution_count": 141,
   "id": "6646d585-454f-4eb9-a8a9-5d281664a689",
   "metadata": {},
   "outputs": [
    {
     "data": {
      "text/plain": [
       "True"
      ]
     },
     "execution_count": 141,
     "metadata": {},
     "output_type": "execute_result"
    }
   ],
   "source": [
    "'u' in name"
   ]
  },
  {
   "cell_type": "code",
   "execution_count": 142,
   "id": "b4b64c44-0f43-4da6-b08d-672364628b9f",
   "metadata": {},
   "outputs": [
    {
     "data": {
      "text/plain": [
       "False"
      ]
     },
     "execution_count": 142,
     "metadata": {},
     "output_type": "execute_result"
    }
   ],
   "source": [
    "'SH' in name"
   ]
  },
  {
   "cell_type": "code",
   "execution_count": 143,
   "id": "f39f63fb-db42-45f1-a505-d6c7ef6ad488",
   "metadata": {},
   "outputs": [
    {
     "data": {
      "text/plain": [
       "False"
      ]
     },
     "execution_count": 143,
     "metadata": {},
     "output_type": "execute_result"
    }
   ],
   "source": [
    "'ar' not in name"
   ]
  },
  {
   "cell_type": "markdown",
   "id": "01c96ce5-d1ed-4fd0-acc8-c314aadfffd2",
   "metadata": {},
   "source": [
    "##### Type casting or type conversion"
   ]
  },
  {
   "cell_type": "code",
   "execution_count": 145,
   "id": "d5c0c986-3130-4d1b-a37d-225f41d21496",
   "metadata": {},
   "outputs": [],
   "source": [
    "num1 = 78\n",
    "num2 = 22.67"
   ]
  },
  {
   "cell_type": "code",
   "execution_count": 146,
   "id": "bb140056-2fc1-4781-8ad0-a968c58761d4",
   "metadata": {},
   "outputs": [],
   "source": [
    "add = num1 + num2"
   ]
  },
  {
   "cell_type": "code",
   "execution_count": 147,
   "id": "b2f42a9f-b188-43dd-8551-77eec58b68db",
   "metadata": {},
   "outputs": [
    {
     "name": "stdout",
     "output_type": "stream",
     "text": [
      "100.67\n"
     ]
    }
   ],
   "source": [
    "print(add)"
   ]
  },
  {
   "cell_type": "code",
   "execution_count": 148,
   "id": "878badb0-fd94-40b6-a662-2825087637e7",
   "metadata": {},
   "outputs": [
    {
     "name": "stdout",
     "output_type": "stream",
     "text": [
      "100\n"
     ]
    }
   ],
   "source": [
    "add = num1 + int(num2)\n",
    "print(add)"
   ]
  },
  {
   "cell_type": "code",
   "execution_count": 149,
   "id": "92e80691-370e-4385-b852-054363ea3029",
   "metadata": {},
   "outputs": [],
   "source": [
    "num = '123'"
   ]
  },
  {
   "cell_type": "code",
   "execution_count": 150,
   "id": "ec2a5030-a80b-4176-a5bd-ab034684c190",
   "metadata": {},
   "outputs": [
    {
     "data": {
      "text/plain": [
       "'123123123'"
      ]
     },
     "execution_count": 150,
     "metadata": {},
     "output_type": "execute_result"
    }
   ],
   "source": [
    "num * 3"
   ]
  },
  {
   "cell_type": "code",
   "execution_count": 151,
   "id": "aa960f66-59ff-4e25-9c51-9d6e41d412c8",
   "metadata": {},
   "outputs": [
    {
     "data": {
      "text/plain": [
       "369"
      ]
     },
     "execution_count": 151,
     "metadata": {},
     "output_type": "execute_result"
    }
   ],
   "source": [
    "int(num) * 3"
   ]
  },
  {
   "cell_type": "code",
   "execution_count": 152,
   "id": "cab3d328-ad21-4860-8dbb-0a4d2af5ebde",
   "metadata": {},
   "outputs": [],
   "source": [
    "name = 'Tushar'\n",
    "num = 123"
   ]
  },
  {
   "cell_type": "code",
   "execution_count": 153,
   "id": "d0c14bbf-5d79-44b7-93f9-f3415c2d7993",
   "metadata": {},
   "outputs": [
    {
     "ename": "TypeError",
     "evalue": "can only concatenate str (not \"int\") to str",
     "output_type": "error",
     "traceback": [
      "\u001b[0;31m---------------------------------------------------------------------------\u001b[0m",
      "\u001b[0;31mTypeError\u001b[0m                                 Traceback (most recent call last)",
      "Cell \u001b[0;32mIn[153], line 1\u001b[0m\n\u001b[0;32m----> 1\u001b[0m \u001b[43mname\u001b[49m\u001b[43m \u001b[49m\u001b[38;5;241;43m+\u001b[39;49m\u001b[43m \u001b[49m\u001b[43mnum\u001b[49m\n",
      "\u001b[0;31mTypeError\u001b[0m: can only concatenate str (not \"int\") to str"
     ]
    }
   ],
   "source": [
    "name + num"
   ]
  },
  {
   "cell_type": "code",
   "execution_count": 154,
   "id": "2f414b41-2400-4bf3-8e04-eedf1652c1b4",
   "metadata": {},
   "outputs": [
    {
     "data": {
      "text/plain": [
       "'Tushar123'"
      ]
     },
     "execution_count": 154,
     "metadata": {},
     "output_type": "execute_result"
    }
   ],
   "source": [
    "name + str(num)"
   ]
  },
  {
   "cell_type": "markdown",
   "id": "982065fe-21f0-468a-bc50-84a3d4736445",
   "metadata": {},
   "source": [
    "##### Reading the data from user input"
   ]
  },
  {
   "cell_type": "code",
   "execution_count": 156,
   "id": "9aaf0816-01a2-4520-b2f9-f1fd38989033",
   "metadata": {},
   "outputs": [
    {
     "name": "stdin",
     "output_type": "stream",
     "text": [
      "Enter a number: 56\n"
     ]
    }
   ],
   "source": [
    "num = input('Enter a number:')"
   ]
  },
  {
   "cell_type": "code",
   "execution_count": 157,
   "id": "b32af84d-be1c-4ada-ba8a-d22b43d8a844",
   "metadata": {},
   "outputs": [
    {
     "name": "stdout",
     "output_type": "stream",
     "text": [
      "56\n"
     ]
    }
   ],
   "source": [
    "print(num)"
   ]
  },
  {
   "cell_type": "code",
   "execution_count": 158,
   "id": "27ee294e-0d14-4c25-a941-6a625843398b",
   "metadata": {},
   "outputs": [
    {
     "data": {
      "text/plain": [
       "'56'"
      ]
     },
     "execution_count": 158,
     "metadata": {},
     "output_type": "execute_result"
    }
   ],
   "source": [
    "num"
   ]
  },
  {
   "cell_type": "code",
   "execution_count": 159,
   "id": "a48958d5-600c-4668-b827-45ed4fca1446",
   "metadata": {},
   "outputs": [
    {
     "name": "stdin",
     "output_type": "stream",
     "text": [
      "Enter a number: 100\n"
     ]
    },
    {
     "name": "stdout",
     "output_type": "stream",
     "text": [
      "Your number is: 100\n"
     ]
    }
   ],
   "source": [
    "num = int(input('Enter a number:'))\n",
    "print('Your number is:', num)"
   ]
  },
  {
   "cell_type": "code",
   "execution_count": 160,
   "id": "c92fc892-a828-44d6-b5f5-d67d6ab8b6ed",
   "metadata": {},
   "outputs": [
    {
     "name": "stdin",
     "output_type": "stream",
     "text": [
      "Enter first number: 45\n",
      "Enter second number: 55\n"
     ]
    },
    {
     "name": "stdout",
     "output_type": "stream",
     "text": [
      "Addition is: 100\n"
     ]
    }
   ],
   "source": [
    "num1 = int(input('Enter first number:'))\n",
    "num2 = int(input('Enter second number:'))\n",
    "add = num1 + num2\n",
    "print('Addition is:', add)"
   ]
  },
  {
   "cell_type": "code",
   "execution_count": null,
   "id": "c3636cf4-2ff9-4a99-875b-f1823a5dcb35",
   "metadata": {},
   "outputs": [],
   "source": []
  }
 ],
 "metadata": {
  "kernelspec": {
   "display_name": "Python 3 (ipykernel)",
   "language": "python",
   "name": "python3"
  },
  "language_info": {
   "codemirror_mode": {
    "name": "ipython",
    "version": 3
   },
   "file_extension": ".py",
   "mimetype": "text/x-python",
   "name": "python",
   "nbconvert_exporter": "python",
   "pygments_lexer": "ipython3",
   "version": "3.10.12"
  }
 },
 "nbformat": 4,
 "nbformat_minor": 5
}
