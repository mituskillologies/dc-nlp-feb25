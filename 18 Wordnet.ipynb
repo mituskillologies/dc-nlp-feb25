{
 "cells": [
  {
   "cell_type": "code",
   "execution_count": 1,
   "id": "6fabfb9e-ea08-45c0-b1a9-0f9fd74af676",
   "metadata": {},
   "outputs": [
    {
     "name": "stderr",
     "output_type": "stream",
     "text": [
      "[nltk_data] Downloading package wordnet to /home/mitu/nltk_data...\n",
      "[nltk_data]   Package wordnet is already up-to-date!\n"
     ]
    },
    {
     "data": {
      "text/plain": [
       "True"
      ]
     },
     "execution_count": 1,
     "metadata": {},
     "output_type": "execute_result"
    }
   ],
   "source": [
    "import nltk\n",
    "nltk.download('wordnet')"
   ]
  },
  {
   "cell_type": "markdown",
   "id": "faaec943-8843-4fe6-bc31-a7aaeec7e3f9",
   "metadata": {},
   "source": [
    "##### Using synsets"
   ]
  },
  {
   "cell_type": "code",
   "execution_count": 5,
   "id": "578e7822-5aa9-429a-8ce7-6856df7f6ec5",
   "metadata": {},
   "outputs": [],
   "source": [
    "# import the wordnet\n",
    "from nltk.corpus import wordnet"
   ]
  },
  {
   "cell_type": "code",
   "execution_count": 6,
   "id": "49119588-18cf-43e7-8310-a998b08595ee",
   "metadata": {},
   "outputs": [],
   "source": [
    "x = wordnet.synsets('create')"
   ]
  },
  {
   "cell_type": "code",
   "execution_count": 7,
   "id": "dd0156fb-7ce9-47ab-92c6-32a9fb378b95",
   "metadata": {},
   "outputs": [
    {
     "data": {
      "text/plain": [
       "[Synset('make.v.03'),\n",
       " Synset('create.v.02'),\n",
       " Synset('create.v.03'),\n",
       " Synset('create.v.04'),\n",
       " Synset('create.v.05'),\n",
       " Synset('produce.v.02')]"
      ]
     },
     "execution_count": 7,
     "metadata": {},
     "output_type": "execute_result"
    }
   ],
   "source": [
    "x"
   ]
  },
  {
   "cell_type": "code",
   "execution_count": 8,
   "id": "44d888eb-80d4-49ce-99f5-43e692d9c9db",
   "metadata": {},
   "outputs": [],
   "source": [
    "synonyms = set()\n",
    "\n",
    "for word in wordnet.synsets('create'):\n",
    "    synonyms.add(word.lemmas()[0].name())"
   ]
  },
  {
   "cell_type": "code",
   "execution_count": 9,
   "id": "ff453279-b8d9-4567-abc5-a69e12bd2a78",
   "metadata": {},
   "outputs": [
    {
     "data": {
      "text/plain": [
       "{'create', 'make', 'produce'}"
      ]
     },
     "execution_count": 9,
     "metadata": {},
     "output_type": "execute_result"
    }
   ],
   "source": [
    "synonyms"
   ]
  },
  {
   "cell_type": "code",
   "execution_count": 10,
   "id": "40c59c4d-aae3-40cb-bdfd-a7b54ccbb3c0",
   "metadata": {},
   "outputs": [],
   "source": [
    "synonyms = set()\n",
    "\n",
    "for word in wordnet.synsets('post'):\n",
    "    synonyms.add(word.lemmas()[0].name())"
   ]
  },
  {
   "cell_type": "code",
   "execution_count": 11,
   "id": "cf3765ce-1175-4802-a625-ee2ddbd1e898",
   "metadata": {},
   "outputs": [
    {
     "data": {
      "text/plain": [
       "{'Post', 'mail', 'military_post', 'position', 'post', 'stake', 'station'}"
      ]
     },
     "execution_count": 11,
     "metadata": {},
     "output_type": "execute_result"
    }
   ],
   "source": [
    "synonyms"
   ]
  },
  {
   "cell_type": "markdown",
   "id": "21864429-3aff-4060-a430-653ff49d941f",
   "metadata": {},
   "source": [
    "##### Extract the definition and usage of the word"
   ]
  },
  {
   "cell_type": "code",
   "execution_count": 21,
   "id": "f87c8db8-f2c7-47f0-9e40-b685dd5d3c68",
   "metadata": {},
   "outputs": [
    {
     "name": "stdout",
     "output_type": "stream",
     "text": [
      "Word and type: post.n.01\n",
      "Synonyms: position\n",
      "Meaning: the position where someone (as a guard or sentry) stands or is assigned to stand\n",
      "Examples: ['a soldier manned the entrance post', 'a sentry station']\n"
     ]
    }
   ],
   "source": [
    "synset = wordnet.synsets('post')\n",
    "print('Word and type:', synset[0].name())\n",
    "print('Synonyms:', synset[2].lemmas()[0].name())\n",
    "print('Meaning:', synset[0].definition())\n",
    "print('Examples:', synset[0].examples())"
   ]
  },
  {
   "cell_type": "code",
   "execution_count": 24,
   "id": "3ee845d0-78e8-4f34-b99a-bde9604e9c29",
   "metadata": {},
   "outputs": [
    {
     "name": "stdout",
     "output_type": "stream",
     "text": [
      "Word and type: beautiful.a.01\n",
      "Synonyms: beautiful\n",
      "Meaning: delighting the senses or exciting intellectual or emotional admiration\n",
      "Examples: ['a beautiful child', 'beautiful country', 'a beautiful painting', 'a beautiful theory', 'a beautiful party']\n"
     ]
    }
   ],
   "source": [
    "synset = wordnet.synsets('beautiful')\n",
    "print('Word and type:', synset[0].name())\n",
    "print('Synonyms:', synset[1].lemmas()[0].name())\n",
    "print('Meaning:', synset[0].definition())\n",
    "print('Examples:', synset[0].examples())"
   ]
  },
  {
   "cell_type": "markdown",
   "id": "9066edbf-557d-40d0-84cd-a8c768d01945",
   "metadata": {},
   "source": [
    "##### Find the antonyms"
   ]
  },
  {
   "cell_type": "code",
   "execution_count": 28,
   "id": "796ecffc-2142-463d-a803-66c4a0d2a33a",
   "metadata": {},
   "outputs": [],
   "source": [
    "ant = set()\n",
    "for word in wordnet.synsets('possible'):\n",
    "    for lemma in word.lemmas():\n",
    "        if lemma.antonyms():\n",
    "            ant.add(lemma.antonyms()[0].name())"
   ]
  },
  {
   "cell_type": "code",
   "execution_count": 29,
   "id": "4d543306-2bdf-4fd4-8389-258b4a04fd56",
   "metadata": {},
   "outputs": [
    {
     "data": {
      "text/plain": [
       "{'actual', 'impossible'}"
      ]
     },
     "execution_count": 29,
     "metadata": {},
     "output_type": "execute_result"
    }
   ],
   "source": [
    "ant"
   ]
  },
  {
   "cell_type": "markdown",
   "id": "51a0b9ee-312a-4097-b2f2-d88f3a466527",
   "metadata": {},
   "source": [
    "##### Find hypernyms"
   ]
  },
  {
   "cell_type": "code",
   "execution_count": 31,
   "id": "5d3c3b49-251d-46f4-8faf-f75cf8fca50a",
   "metadata": {},
   "outputs": [
    {
     "name": "stdout",
     "output_type": "stream",
     "text": [
      "air is a hyponym of gas.n.02\n",
      "air is a hyponym of region.n.01\n",
      "air is a hyponym of quality.n.01\n",
      "air is a hyponym of wind.n.01\n",
      "air is a hyponym of region.n.01\n",
      "air is a hyponym of element.n.05\n",
      "air is a hyponym of music.n.01\n",
      "air is a hyponym of medium.n.03\n",
      "air is a hyponym of travel.n.01\n",
      "air is a hyponym of expose.v.01\n",
      "air is a hyponym of publicize.v.01\n",
      "air is a hyponym of tell.v.02\n",
      "air is a hyponym of dry.v.01\n",
      "air is a hyponym of refresh.v.02\n"
     ]
    }
   ],
   "source": [
    "word = \"air\"\n",
    "synsets = wordnet.synsets(word)\n",
    "\n",
    "for synset in synsets:\n",
    "  # Get hypernyms (parent concepts)\n",
    "  hypernyms = synset.hypernyms()  \n",
    "  # Check if there are any hypernyms\n",
    "  if hypernyms:\n",
    "    # Print hypernyms (can access name property for text)\n",
    "    for hypernym in hypernyms:\n",
    "      print(word,'is a hyponym of',hypernym.name())"
   ]
  },
  {
   "cell_type": "markdown",
   "id": "8dc9ab58-e879-4315-857f-519465165d5a",
   "metadata": {},
   "source": [
    "##### Extract Meronyms"
   ]
  },
  {
   "cell_type": "code",
   "execution_count": 33,
   "id": "9c1c8f11-b7d9-4ff2-8c74-ed7c063904fa",
   "metadata": {},
   "outputs": [
    {
     "name": "stdout",
     "output_type": "stream",
     "text": [
      "car has a meronym:  stabilizer_bar.n.01\n",
      "car has a meronym:  bumper.n.02\n",
      "car has a meronym:  car_door.n.01\n",
      "car has a meronym:  reverse.n.02\n",
      "car has a meronym:  car_seat.n.01\n",
      "car has a meronym:  high_gear.n.01\n",
      "car has a meronym:  window.n.02\n",
      "car has a meronym:  third_gear.n.01\n",
      "car has a meronym:  tail_fin.n.02\n",
      "car has a meronym:  running_board.n.01\n",
      "car has a meronym:  air_bag.n.01\n",
      "car has a meronym:  hood.n.09\n",
      "car has a meronym:  automobile_engine.n.01\n",
      "car has a meronym:  luggage_compartment.n.01\n",
      "car has a meronym:  roof.n.02\n",
      "car has a meronym:  auto_accessory.n.01\n",
      "car has a meronym:  gasoline_engine.n.01\n",
      "car has a meronym:  sunroof.n.01\n",
      "car has a meronym:  automobile_horn.n.01\n",
      "car has a meronym:  buffer.n.06\n",
      "car has a meronym:  fender.n.01\n",
      "car has a meronym:  glove_compartment.n.01\n",
      "car has a meronym:  rear_window.n.01\n",
      "car has a meronym:  floorboard.n.02\n",
      "car has a meronym:  car_window.n.01\n",
      "car has a meronym:  grille.n.02\n",
      "car has a meronym:  accelerator.n.01\n",
      "car has a meronym:  car_mirror.n.01\n",
      "car has a meronym:  first_gear.n.01\n",
      "car has a meronym:  suspension.n.05\n"
     ]
    }
   ],
   "source": [
    "word = 'car'\n",
    "synsets = wordnet.synsets(word)\n",
    "\n",
    "for synset in synsets:\n",
    "  # Get member meronyms (component parts)\n",
    "  meronyms = synset.part_meronyms()\n",
    "  \n",
    "  # Check if there are any meronyms\n",
    "  if meronyms:\n",
    "    # Print meronyms (can access name property for text)\n",
    "    for meronym in meronyms:\n",
    "      print(word,'has a meronym: ',meronym.name())"
   ]
  },
  {
   "cell_type": "code",
   "execution_count": null,
   "id": "b87154a2-e945-4cb0-82a7-d17ffbc9e1af",
   "metadata": {},
   "outputs": [],
   "source": []
  }
 ],
 "metadata": {
  "kernelspec": {
   "display_name": "Python 3 (ipykernel)",
   "language": "python",
   "name": "python3"
  },
  "language_info": {
   "codemirror_mode": {
    "name": "ipython",
    "version": 3
   },
   "file_extension": ".py",
   "mimetype": "text/x-python",
   "name": "python",
   "nbconvert_exporter": "python",
   "pygments_lexer": "ipython3",
   "version": "3.10.12"
  }
 },
 "nbformat": 4,
 "nbformat_minor": 5
}
